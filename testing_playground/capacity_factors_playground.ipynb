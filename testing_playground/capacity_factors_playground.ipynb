{
 "cells": [
  {
   "cell_type": "markdown",
   "metadata": {
    "collapsed": true,
    "pycharm": {
     "name": "#%% md\n"
    }
   },
   "source": [
    "# Capacity Factors"
   ]
  },
  {
   "cell_type": "markdown",
   "source": [
    "Playing around with the capacity factors and pandas. For more see the panda [documentation](https://pandas.pydata.org/docs/)"
   ],
   "metadata": {
    "collapsed": false
   }
  },
  {
   "cell_type": "code",
   "execution_count": 1,
   "outputs": [
    {
     "data": {
      "text/plain": "                 snapshot  AL0 0 offwind-ac  AL0 0 onwind  AL0 0 solar  \\\n0     2013-01-01 00:00:00          0.003291      0.001469          0.0   \n1     2013-01-01 01:00:00          0.002103      0.000000          0.0   \n2     2013-01-01 02:00:00          0.000000      0.000000          0.0   \n3     2013-01-01 03:00:00          0.000000      0.000000          0.0   \n4     2013-01-01 04:00:00          0.000000      0.000000          0.0   \n...                   ...               ...           ...          ...   \n8755  2013-12-31 19:00:00          0.029235      0.024321          0.0   \n8756  2013-12-31 20:00:00          0.034024      0.031357          0.0   \n8757  2013-12-31 21:00:00          0.037104      0.034522          0.0   \n8758  2013-12-31 22:00:00          0.029730      0.027419          0.0   \n8759  2013-12-31 23:00:00          0.017742      0.020761          0.0   \n\n      AT0 0 onwind  AT0 0 ror  AT0 0 solar  BA0 0 onwind  BA0 0 solar  \\\n0         0.163262   0.224456          0.0      0.007340          0.0   \n1         0.171340   0.224369          0.0      0.007939          0.0   \n2         0.171035   0.224300          0.0      0.007829          0.0   \n3         0.169685   0.224249          0.0      0.005766          0.0   \n4         0.159757   0.224213          0.0      0.004262          0.0   \n...            ...        ...          ...           ...          ...   \n8755      0.109127   0.275353          0.0      0.001076          0.0   \n8756      0.120485   0.275159          0.0      0.001090          0.0   \n8757      0.128186   0.274975          0.0      0.001062          0.0   \n8758      0.124740   0.274784          0.0      0.001351          0.0   \n8759      0.126570   0.274592          0.0      0.001109          0.0   \n\n      BE0 0 offwind-ac  ...  SE4 0 onwind  SE4 0 ror  SE4 0 solar  \\\n0             1.000000  ...      0.459609   0.626955          0.0   \n1             0.999998  ...      0.463265   0.625502          0.0   \n2             0.993941  ...      0.463777   0.624810          0.0   \n3             0.916094  ...      0.463041   0.623794          0.0   \n4             0.704786  ...      0.457253   0.623085          0.0   \n...                ...  ...           ...        ...          ...   \n8755          0.998922  ...      0.358191   0.469586          0.0   \n8756          0.965757  ...      0.324709   0.469395          0.0   \n8757          0.852484  ...      0.288415   0.469208          0.0   \n8758          0.776442  ...      0.268695   0.469028          0.0   \n8759          0.880753  ...      0.245296   0.468856          0.0   \n\n      SI0 0 offwind-ac  SI0 0 onwind  SI0 0 ror  SI0 0 solar  SK0 0 onwind  \\\n0             0.000000      0.055146   0.344668          0.0      0.361009   \n1             0.000000      0.052605   0.344657          0.0      0.368912   \n2             0.000000      0.052222   0.344593          0.0      0.382949   \n3             0.000000      0.050762   0.344626          0.0      0.388344   \n4             0.000000      0.047285   0.344607          0.0      0.409303   \n...                ...           ...        ...          ...           ...   \n8755          0.027877      0.001708   0.696975          0.0      0.125735   \n8756          0.023567      0.000000   0.696262          0.0      0.142431   \n8757          0.000000      0.004891   0.695524          0.0      0.153930   \n8758          0.000000      0.009091   0.694665          0.0      0.163442   \n8759          0.000000      0.013554   0.693632          0.0      0.183295   \n\n      SK0 0 ror  SK0 0 solar  \n0      0.106197          0.0  \n1      0.106012          0.0  \n2      0.105968          0.0  \n3      0.106215          0.0  \n4      0.106364          0.0  \n...         ...          ...  \n8755   0.157729          0.0  \n8756   0.157817          0.0  \n8757   0.157899          0.0  \n8758   0.157945          0.0  \n8759   0.157963          0.0  \n\n[8760 rows x 151 columns]",
      "text/html": "<div>\n<style scoped>\n    .dataframe tbody tr th:only-of-type {\n        vertical-align: middle;\n    }\n\n    .dataframe tbody tr th {\n        vertical-align: top;\n    }\n\n    .dataframe thead th {\n        text-align: right;\n    }\n</style>\n<table border=\"1\" class=\"dataframe\">\n  <thead>\n    <tr style=\"text-align: right;\">\n      <th></th>\n      <th>snapshot</th>\n      <th>AL0 0 offwind-ac</th>\n      <th>AL0 0 onwind</th>\n      <th>AL0 0 solar</th>\n      <th>AT0 0 onwind</th>\n      <th>AT0 0 ror</th>\n      <th>AT0 0 solar</th>\n      <th>BA0 0 onwind</th>\n      <th>BA0 0 solar</th>\n      <th>BE0 0 offwind-ac</th>\n      <th>...</th>\n      <th>SE4 0 onwind</th>\n      <th>SE4 0 ror</th>\n      <th>SE4 0 solar</th>\n      <th>SI0 0 offwind-ac</th>\n      <th>SI0 0 onwind</th>\n      <th>SI0 0 ror</th>\n      <th>SI0 0 solar</th>\n      <th>SK0 0 onwind</th>\n      <th>SK0 0 ror</th>\n      <th>SK0 0 solar</th>\n    </tr>\n  </thead>\n  <tbody>\n    <tr>\n      <th>0</th>\n      <td>2013-01-01 00:00:00</td>\n      <td>0.003291</td>\n      <td>0.001469</td>\n      <td>0.0</td>\n      <td>0.163262</td>\n      <td>0.224456</td>\n      <td>0.0</td>\n      <td>0.007340</td>\n      <td>0.0</td>\n      <td>1.000000</td>\n      <td>...</td>\n      <td>0.459609</td>\n      <td>0.626955</td>\n      <td>0.0</td>\n      <td>0.000000</td>\n      <td>0.055146</td>\n      <td>0.344668</td>\n      <td>0.0</td>\n      <td>0.361009</td>\n      <td>0.106197</td>\n      <td>0.0</td>\n    </tr>\n    <tr>\n      <th>1</th>\n      <td>2013-01-01 01:00:00</td>\n      <td>0.002103</td>\n      <td>0.000000</td>\n      <td>0.0</td>\n      <td>0.171340</td>\n      <td>0.224369</td>\n      <td>0.0</td>\n      <td>0.007939</td>\n      <td>0.0</td>\n      <td>0.999998</td>\n      <td>...</td>\n      <td>0.463265</td>\n      <td>0.625502</td>\n      <td>0.0</td>\n      <td>0.000000</td>\n      <td>0.052605</td>\n      <td>0.344657</td>\n      <td>0.0</td>\n      <td>0.368912</td>\n      <td>0.106012</td>\n      <td>0.0</td>\n    </tr>\n    <tr>\n      <th>2</th>\n      <td>2013-01-01 02:00:00</td>\n      <td>0.000000</td>\n      <td>0.000000</td>\n      <td>0.0</td>\n      <td>0.171035</td>\n      <td>0.224300</td>\n      <td>0.0</td>\n      <td>0.007829</td>\n      <td>0.0</td>\n      <td>0.993941</td>\n      <td>...</td>\n      <td>0.463777</td>\n      <td>0.624810</td>\n      <td>0.0</td>\n      <td>0.000000</td>\n      <td>0.052222</td>\n      <td>0.344593</td>\n      <td>0.0</td>\n      <td>0.382949</td>\n      <td>0.105968</td>\n      <td>0.0</td>\n    </tr>\n    <tr>\n      <th>3</th>\n      <td>2013-01-01 03:00:00</td>\n      <td>0.000000</td>\n      <td>0.000000</td>\n      <td>0.0</td>\n      <td>0.169685</td>\n      <td>0.224249</td>\n      <td>0.0</td>\n      <td>0.005766</td>\n      <td>0.0</td>\n      <td>0.916094</td>\n      <td>...</td>\n      <td>0.463041</td>\n      <td>0.623794</td>\n      <td>0.0</td>\n      <td>0.000000</td>\n      <td>0.050762</td>\n      <td>0.344626</td>\n      <td>0.0</td>\n      <td>0.388344</td>\n      <td>0.106215</td>\n      <td>0.0</td>\n    </tr>\n    <tr>\n      <th>4</th>\n      <td>2013-01-01 04:00:00</td>\n      <td>0.000000</td>\n      <td>0.000000</td>\n      <td>0.0</td>\n      <td>0.159757</td>\n      <td>0.224213</td>\n      <td>0.0</td>\n      <td>0.004262</td>\n      <td>0.0</td>\n      <td>0.704786</td>\n      <td>...</td>\n      <td>0.457253</td>\n      <td>0.623085</td>\n      <td>0.0</td>\n      <td>0.000000</td>\n      <td>0.047285</td>\n      <td>0.344607</td>\n      <td>0.0</td>\n      <td>0.409303</td>\n      <td>0.106364</td>\n      <td>0.0</td>\n    </tr>\n    <tr>\n      <th>...</th>\n      <td>...</td>\n      <td>...</td>\n      <td>...</td>\n      <td>...</td>\n      <td>...</td>\n      <td>...</td>\n      <td>...</td>\n      <td>...</td>\n      <td>...</td>\n      <td>...</td>\n      <td>...</td>\n      <td>...</td>\n      <td>...</td>\n      <td>...</td>\n      <td>...</td>\n      <td>...</td>\n      <td>...</td>\n      <td>...</td>\n      <td>...</td>\n      <td>...</td>\n      <td>...</td>\n    </tr>\n    <tr>\n      <th>8755</th>\n      <td>2013-12-31 19:00:00</td>\n      <td>0.029235</td>\n      <td>0.024321</td>\n      <td>0.0</td>\n      <td>0.109127</td>\n      <td>0.275353</td>\n      <td>0.0</td>\n      <td>0.001076</td>\n      <td>0.0</td>\n      <td>0.998922</td>\n      <td>...</td>\n      <td>0.358191</td>\n      <td>0.469586</td>\n      <td>0.0</td>\n      <td>0.027877</td>\n      <td>0.001708</td>\n      <td>0.696975</td>\n      <td>0.0</td>\n      <td>0.125735</td>\n      <td>0.157729</td>\n      <td>0.0</td>\n    </tr>\n    <tr>\n      <th>8756</th>\n      <td>2013-12-31 20:00:00</td>\n      <td>0.034024</td>\n      <td>0.031357</td>\n      <td>0.0</td>\n      <td>0.120485</td>\n      <td>0.275159</td>\n      <td>0.0</td>\n      <td>0.001090</td>\n      <td>0.0</td>\n      <td>0.965757</td>\n      <td>...</td>\n      <td>0.324709</td>\n      <td>0.469395</td>\n      <td>0.0</td>\n      <td>0.023567</td>\n      <td>0.000000</td>\n      <td>0.696262</td>\n      <td>0.0</td>\n      <td>0.142431</td>\n      <td>0.157817</td>\n      <td>0.0</td>\n    </tr>\n    <tr>\n      <th>8757</th>\n      <td>2013-12-31 21:00:00</td>\n      <td>0.037104</td>\n      <td>0.034522</td>\n      <td>0.0</td>\n      <td>0.128186</td>\n      <td>0.274975</td>\n      <td>0.0</td>\n      <td>0.001062</td>\n      <td>0.0</td>\n      <td>0.852484</td>\n      <td>...</td>\n      <td>0.288415</td>\n      <td>0.469208</td>\n      <td>0.0</td>\n      <td>0.000000</td>\n      <td>0.004891</td>\n      <td>0.695524</td>\n      <td>0.0</td>\n      <td>0.153930</td>\n      <td>0.157899</td>\n      <td>0.0</td>\n    </tr>\n    <tr>\n      <th>8758</th>\n      <td>2013-12-31 22:00:00</td>\n      <td>0.029730</td>\n      <td>0.027419</td>\n      <td>0.0</td>\n      <td>0.124740</td>\n      <td>0.274784</td>\n      <td>0.0</td>\n      <td>0.001351</td>\n      <td>0.0</td>\n      <td>0.776442</td>\n      <td>...</td>\n      <td>0.268695</td>\n      <td>0.469028</td>\n      <td>0.0</td>\n      <td>0.000000</td>\n      <td>0.009091</td>\n      <td>0.694665</td>\n      <td>0.0</td>\n      <td>0.163442</td>\n      <td>0.157945</td>\n      <td>0.0</td>\n    </tr>\n    <tr>\n      <th>8759</th>\n      <td>2013-12-31 23:00:00</td>\n      <td>0.017742</td>\n      <td>0.020761</td>\n      <td>0.0</td>\n      <td>0.126570</td>\n      <td>0.274592</td>\n      <td>0.0</td>\n      <td>0.001109</td>\n      <td>0.0</td>\n      <td>0.880753</td>\n      <td>...</td>\n      <td>0.245296</td>\n      <td>0.468856</td>\n      <td>0.0</td>\n      <td>0.000000</td>\n      <td>0.013554</td>\n      <td>0.693632</td>\n      <td>0.0</td>\n      <td>0.183295</td>\n      <td>0.157963</td>\n      <td>0.0</td>\n    </tr>\n  </tbody>\n</table>\n<p>8760 rows × 151 columns</p>\n</div>"
     },
     "execution_count": 1,
     "metadata": {},
     "output_type": "execute_result"
    }
   ],
   "source": [
    "import pandas as pd\n",
    "\n",
    "# Resources Paths\n",
    "paths = {\"era5_eu_2013\": \"../resources/europe-2013-era5.nc\",\n",
    "         \"era5_tutorial\": \"../resources/europe-2013-era5-tutorial.nc\",\n",
    "         \"offshore_shape\": \"../resources/regions_offshore_elec_s_37.geojson\",\n",
    "         \"onshore_shape\": \"../resources/regions_onshore_elec_s_37.geojson\",\n",
    "         \"capfacs\": \"../resources/capfacs_37.csv\"}\n",
    "\n",
    "df = pd.read_csv(paths[\"capfacs\"])\n",
    "df"
   ],
   "metadata": {
    "collapsed": false,
    "pycharm": {
     "name": "#%%\n"
    }
   }
  },
  {
   "cell_type": "code",
   "execution_count": 2,
   "outputs": [
    {
     "data": {
      "text/plain": "snapshot             object\nAL0 0 offwind-ac    float64\nAL0 0 onwind        float64\nAL0 0 solar         float64\nAT0 0 onwind        float64\n                     ...   \nSI0 0 ror           float64\nSI0 0 solar         float64\nSK0 0 onwind        float64\nSK0 0 ror           float64\nSK0 0 solar         float64\nLength: 151, dtype: object"
     },
     "execution_count": 2,
     "metadata": {},
     "output_type": "execute_result"
    }
   ],
   "source": [
    "df.dtypes"
   ],
   "metadata": {
    "collapsed": false,
    "pycharm": {
     "name": "#%%\n"
    }
   }
  },
  {
   "cell_type": "code",
   "execution_count": 3,
   "outputs": [
    {
     "data": {
      "text/plain": "0       0.0\n1       0.0\n2       0.0\n3       0.0\n4       0.0\n       ... \n8755    0.0\n8756    0.0\n8757    0.0\n8758    0.0\n8759    0.0\nName: DE0 0 solar, Length: 8760, dtype: float64"
     },
     "execution_count": 3,
     "metadata": {},
     "output_type": "execute_result"
    }
   ],
   "source": [
    "df[\"DE0 0 solar\"]"
   ],
   "metadata": {
    "collapsed": false,
    "pycharm": {
     "name": "#%%\n"
    }
   }
  },
  {
   "cell_type": "code",
   "execution_count": 4,
   "outputs": [
    {
     "name": "stdout",
     "output_type": "stream",
     "text": [
      "snapshot\n",
      "AL0 0 offwind-ac\n",
      "AL0 0 onwind\n",
      "AL0 0 solar\n",
      "AT0 0 onwind\n",
      "AT0 0 ror\n",
      "AT0 0 solar\n",
      "BA0 0 onwind\n",
      "BA0 0 solar\n",
      "BE0 0 offwind-ac\n",
      "BE0 0 offwind-dc\n",
      "BE0 0 onwind\n",
      "BE0 0 ror\n",
      "BE0 0 solar\n",
      "BG0 0 offwind-ac\n",
      "BG0 0 offwind-dc\n",
      "BG0 0 onwind\n",
      "BG0 0 ror\n",
      "BG0 0 solar\n",
      "CH0 0 onwind\n",
      "CH0 0 ror\n",
      "CH0 0 solar\n",
      "CZ0 0 onwind\n",
      "CZ0 0 ror\n",
      "CZ0 0 solar\n",
      "DE0 0 offwind-ac\n",
      "DE0 0 offwind-dc\n",
      "DE0 0 onwind\n",
      "DE0 0 ror\n",
      "DE0 0 solar\n",
      "DK0 0 offwind-ac\n",
      "DK0 0 offwind-dc\n",
      "DK0 0 onwind\n",
      "DK0 0 solar\n",
      "DK4 0 offwind-ac\n",
      "DK4 0 offwind-dc\n",
      "DK4 0 onwind\n",
      "DK4 0 solar\n",
      "EE6 0 offwind-ac\n",
      "EE6 0 offwind-dc\n",
      "EE6 0 onwind\n",
      "EE6 0 solar\n",
      "ES0 0 offwind-ac\n",
      "ES0 0 offwind-dc\n",
      "ES0 0 onwind\n",
      "ES0 0 ror\n",
      "ES0 0 solar\n",
      "ES2 0 offwind-ac\n",
      "ES2 0 offwind-dc\n",
      "ES2 0 onwind\n",
      "ES2 0 solar\n",
      "FI4 0 offwind-ac\n",
      "FI4 0 offwind-dc\n",
      "FI4 0 onwind\n",
      "FI4 0 ror\n",
      "FI4 0 solar\n",
      "FR0 0 offwind-ac\n",
      "FR0 0 offwind-dc\n",
      "FR0 0 onwind\n",
      "FR0 0 ror\n",
      "FR0 0 solar\n",
      "GB3 0 offwind-ac\n",
      "GB3 0 offwind-dc\n",
      "GB3 0 onwind\n",
      "GB3 0 ror\n",
      "GB3 0 solar\n",
      "GB5 0 offwind-ac\n",
      "GB5 0 offwind-dc\n",
      "GB5 0 onwind\n",
      "GB5 0 solar\n",
      "GR0 0 offwind-ac\n",
      "GR0 0 offwind-dc\n",
      "GR0 0 onwind\n",
      "GR0 0 ror\n",
      "GR0 0 solar\n",
      "HR0 0 offwind-ac\n",
      "HR0 0 offwind-dc\n",
      "HR0 0 onwind\n",
      "HR0 0 ror\n",
      "HR0 0 solar\n",
      "HU0 0 onwind\n",
      "HU0 0 ror\n",
      "HU0 0 solar\n",
      "IE5 0 offwind-ac\n",
      "IE5 0 offwind-dc\n",
      "IE5 0 onwind\n",
      "IE5 0 ror\n",
      "IE5 0 solar\n",
      "IT0 0 offwind-ac\n",
      "IT0 0 offwind-dc\n",
      "IT0 0 onwind\n",
      "IT0 0 ror\n",
      "IT0 0 solar\n",
      "IT1 0 offwind-ac\n",
      "IT1 0 onwind\n",
      "IT1 0 ror\n",
      "IT1 0 solar\n",
      "LT6 0 offwind-ac\n",
      "LT6 0 offwind-dc\n",
      "LT6 0 onwind\n",
      "LT6 0 solar\n",
      "LU0 0 onwind\n",
      "LU0 0 ror\n",
      "LU0 0 solar\n",
      "LV6 0 offwind-ac\n",
      "LV6 0 offwind-dc\n",
      "LV6 0 onwind\n",
      "LV6 0 ror\n",
      "LV6 0 solar\n",
      "ME0 0 offwind-ac\n",
      "ME0 0 onwind\n",
      "ME0 0 solar\n",
      "MK0 0 onwind\n",
      "MK0 0 ror\n",
      "MK0 0 solar\n",
      "NL0 0 offwind-ac\n",
      "NL0 0 offwind-dc\n",
      "NL0 0 onwind\n",
      "NL0 0 solar\n",
      "NO4 0 offwind-ac\n",
      "NO4 0 offwind-dc\n",
      "NO4 0 onwind\n",
      "NO4 0 solar\n",
      "PL0 0 offwind-ac\n",
      "PL0 0 offwind-dc\n",
      "PL0 0 onwind\n",
      "PL0 0 ror\n",
      "PL0 0 solar\n",
      "PT0 0 offwind-ac\n",
      "PT0 0 onwind\n",
      "PT0 0 ror\n",
      "PT0 0 solar\n",
      "RO0 0 offwind-ac\n",
      "RO0 0 offwind-dc\n",
      "RO0 0 onwind\n",
      "RO0 0 ror\n",
      "RO0 0 solar\n",
      "RS0 0 onwind\n",
      "RS0 0 solar\n",
      "SE4 0 offwind-ac\n",
      "SE4 0 offwind-dc\n",
      "SE4 0 onwind\n",
      "SE4 0 ror\n",
      "SE4 0 solar\n",
      "SI0 0 offwind-ac\n",
      "SI0 0 onwind\n",
      "SI0 0 ror\n",
      "SI0 0 solar\n",
      "SK0 0 onwind\n",
      "SK0 0 ror\n",
      "SK0 0 solar\n"
     ]
    }
   ],
   "source": [
    "for col in df.keys():\n",
    "    print(col)"
   ],
   "metadata": {
    "collapsed": false,
    "pycharm": {
     "name": "#%%\n"
    }
   }
  }
 ],
 "metadata": {
  "kernelspec": {
   "display_name": "Python 3",
   "language": "python",
   "name": "python3"
  },
  "language_info": {
   "codemirror_mode": {
    "name": "ipython",
    "version": 2
   },
   "file_extension": ".py",
   "mimetype": "text/x-python",
   "name": "python",
   "nbconvert_exporter": "python",
   "pygments_lexer": "ipython2",
   "version": "2.7.6"
  }
 },
 "nbformat": 4,
 "nbformat_minor": 0
}