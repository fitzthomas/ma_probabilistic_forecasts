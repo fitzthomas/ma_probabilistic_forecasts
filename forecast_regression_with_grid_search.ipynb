{
 "cells": [
  {
   "cell_type": "markdown",
   "source": [
    "Capacity Factors Forecast with Regression and GridSearch for Hyperparameter Tuning"
   ],
   "metadata": {
    "collapsed": false,
    "pycharm": {
     "name": "#%% md\n"
    }
   }
  },
  {
   "cell_type": "code",
   "execution_count": 47,
   "outputs": [],
   "source": [
    "import numpy as np\n",
    "import pandas as pd\n",
    "import xarray as xr\n",
    "import geopandas as gpd\n",
    "from enum import Enum\n",
    "from ngboost.scores import LogScore\n",
    "from shapely.geometry import Point\n",
    "import matplotlib.pyplot as plt\n",
    "import seaborn as sns\n",
    "sns.set_theme(style=\"darkgrid\")\n",
    "from ngboost import NGBRegressor\n",
    "from sklearn.model_selection import train_test_split\n",
    "from sklearn.model_selection import GridSearchCV\n",
    "from sklearn.tree import DecisionTreeRegressor\n",
    "from ngboost.distns import Exponential, Normal, LogNormal\n",
    "\n",
    "from sklearn.metrics import mean_pinball_loss\n",
    "from sklearn.metrics import mean_squared_error\n",
    "\n",
    "from scipy.stats import norm\n",
    "import ephem\n",
    "from datetime import datetime\n",
    "import pickle\n",
    "from pathlib import Path\n",
    "\n",
    "paths = {\"era5_eu_2013\": \"resources/europe-2013-era5.nc\",\n",
    "         \"era5_tutorial\": \"resources/europe-2013-era5-tutorial.nc\",\n",
    "         \"offshore_shape\": \"resources/regions_offshore_elec_s_37.geojson\",\n",
    "         \"onshore_shape\": \"resources/regions_onshore_elec_s_37.geojson\",\n",
    "         \"capfacs\": \"resources/capfacs_37.csv\",\n",
    "         \"era5_regions\": \"resources/europe-2013-era5-regions.nc\"}"
   ],
   "metadata": {
    "collapsed": false,
    "pycharm": {
     "name": "#%%\n"
    }
   }
  },
  {
   "cell_type": "code",
   "execution_count": 48,
   "outputs": [
    {
     "data": {
      "text/plain": "<xarray.Dataset>\nDimensions:           (region: 65, time: 8760)\nCoordinates:\n  * region            (region) object 'AL0 0 on' 'AT0 0 on' ... 'SI0 0 off'\n  * time              (time) datetime64[ns] 2013-01-01 ... 2013-12-31T23:00:00\nData variables:\n    height            (region, time) float64 ...\n    wnd100m           (region, time) float64 ...\n    roughness         (region, time) float64 ...\n    influx_toa        (region, time) float64 ...\n    influx_direct     (region, time) float64 ...\n    influx_diffuse    (region, time) float64 ...\n    albedo            (region, time) float64 ...\n    temperature       (region, time) float64 ...\n    soil_temperature  (region, time) float64 ...\n    runoff            (region, time) float64 ...\nAttributes:\n    description:  Era5 data with mean value of the coordinates within a region",
      "text/html": "<div><svg style=\"position: absolute; width: 0; height: 0; overflow: hidden\">\n<defs>\n<symbol id=\"icon-database\" viewBox=\"0 0 32 32\">\n<path d=\"M16 0c-8.837 0-16 2.239-16 5v4c0 2.761 7.163 5 16 5s16-2.239 16-5v-4c0-2.761-7.163-5-16-5z\"></path>\n<path d=\"M16 17c-8.837 0-16-2.239-16-5v6c0 2.761 7.163 5 16 5s16-2.239 16-5v-6c0 2.761-7.163 5-16 5z\"></path>\n<path d=\"M16 26c-8.837 0-16-2.239-16-5v6c0 2.761 7.163 5 16 5s16-2.239 16-5v-6c0 2.761-7.163 5-16 5z\"></path>\n</symbol>\n<symbol id=\"icon-file-text2\" viewBox=\"0 0 32 32\">\n<path d=\"M28.681 7.159c-0.694-0.947-1.662-2.053-2.724-3.116s-2.169-2.030-3.116-2.724c-1.612-1.182-2.393-1.319-2.841-1.319h-15.5c-1.378 0-2.5 1.121-2.5 2.5v27c0 1.378 1.122 2.5 2.5 2.5h23c1.378 0 2.5-1.122 2.5-2.5v-19.5c0-0.448-0.137-1.23-1.319-2.841zM24.543 5.457c0.959 0.959 1.712 1.825 2.268 2.543h-4.811v-4.811c0.718 0.556 1.584 1.309 2.543 2.268zM28 29.5c0 0.271-0.229 0.5-0.5 0.5h-23c-0.271 0-0.5-0.229-0.5-0.5v-27c0-0.271 0.229-0.5 0.5-0.5 0 0 15.499-0 15.5 0v7c0 0.552 0.448 1 1 1h7v19.5z\"></path>\n<path d=\"M23 26h-14c-0.552 0-1-0.448-1-1s0.448-1 1-1h14c0.552 0 1 0.448 1 1s-0.448 1-1 1z\"></path>\n<path d=\"M23 22h-14c-0.552 0-1-0.448-1-1s0.448-1 1-1h14c0.552 0 1 0.448 1 1s-0.448 1-1 1z\"></path>\n<path d=\"M23 18h-14c-0.552 0-1-0.448-1-1s0.448-1 1-1h14c0.552 0 1 0.448 1 1s-0.448 1-1 1z\"></path>\n</symbol>\n</defs>\n</svg>\n<style>/* CSS stylesheet for displaying xarray objects in jupyterlab.\n *\n */\n\n:root {\n  --xr-font-color0: var(--jp-content-font-color0, rgba(0, 0, 0, 1));\n  --xr-font-color2: var(--jp-content-font-color2, rgba(0, 0, 0, 0.54));\n  --xr-font-color3: var(--jp-content-font-color3, rgba(0, 0, 0, 0.38));\n  --xr-border-color: var(--jp-border-color2, #e0e0e0);\n  --xr-disabled-color: var(--jp-layout-color3, #bdbdbd);\n  --xr-background-color: var(--jp-layout-color0, white);\n  --xr-background-color-row-even: var(--jp-layout-color1, white);\n  --xr-background-color-row-odd: var(--jp-layout-color2, #eeeeee);\n}\n\nhtml[theme=dark],\nbody.vscode-dark {\n  --xr-font-color0: rgba(255, 255, 255, 1);\n  --xr-font-color2: rgba(255, 255, 255, 0.54);\n  --xr-font-color3: rgba(255, 255, 255, 0.38);\n  --xr-border-color: #1F1F1F;\n  --xr-disabled-color: #515151;\n  --xr-background-color: #111111;\n  --xr-background-color-row-even: #111111;\n  --xr-background-color-row-odd: #313131;\n}\n\n.xr-wrap {\n  display: block !important;\n  min-width: 300px;\n  max-width: 700px;\n}\n\n.xr-text-repr-fallback {\n  /* fallback to plain text repr when CSS is not injected (untrusted notebook) */\n  display: none;\n}\n\n.xr-header {\n  padding-top: 6px;\n  padding-bottom: 6px;\n  margin-bottom: 4px;\n  border-bottom: solid 1px var(--xr-border-color);\n}\n\n.xr-header > div,\n.xr-header > ul {\n  display: inline;\n  margin-top: 0;\n  margin-bottom: 0;\n}\n\n.xr-obj-type,\n.xr-array-name {\n  margin-left: 2px;\n  margin-right: 10px;\n}\n\n.xr-obj-type {\n  color: var(--xr-font-color2);\n}\n\n.xr-sections {\n  padding-left: 0 !important;\n  display: grid;\n  grid-template-columns: 150px auto auto 1fr 20px 20px;\n}\n\n.xr-section-item {\n  display: contents;\n}\n\n.xr-section-item input {\n  display: none;\n}\n\n.xr-section-item input + label {\n  color: var(--xr-disabled-color);\n}\n\n.xr-section-item input:enabled + label {\n  cursor: pointer;\n  color: var(--xr-font-color2);\n}\n\n.xr-section-item input:enabled + label:hover {\n  color: var(--xr-font-color0);\n}\n\n.xr-section-summary {\n  grid-column: 1;\n  color: var(--xr-font-color2);\n  font-weight: 500;\n}\n\n.xr-section-summary > span {\n  display: inline-block;\n  padding-left: 0.5em;\n}\n\n.xr-section-summary-in:disabled + label {\n  color: var(--xr-font-color2);\n}\n\n.xr-section-summary-in + label:before {\n  display: inline-block;\n  content: '►';\n  font-size: 11px;\n  width: 15px;\n  text-align: center;\n}\n\n.xr-section-summary-in:disabled + label:before {\n  color: var(--xr-disabled-color);\n}\n\n.xr-section-summary-in:checked + label:before {\n  content: '▼';\n}\n\n.xr-section-summary-in:checked + label > span {\n  display: none;\n}\n\n.xr-section-summary,\n.xr-section-inline-details {\n  padding-top: 4px;\n  padding-bottom: 4px;\n}\n\n.xr-section-inline-details {\n  grid-column: 2 / -1;\n}\n\n.xr-section-details {\n  display: none;\n  grid-column: 1 / -1;\n  margin-bottom: 5px;\n}\n\n.xr-section-summary-in:checked ~ .xr-section-details {\n  display: contents;\n}\n\n.xr-array-wrap {\n  grid-column: 1 / -1;\n  display: grid;\n  grid-template-columns: 20px auto;\n}\n\n.xr-array-wrap > label {\n  grid-column: 1;\n  vertical-align: top;\n}\n\n.xr-preview {\n  color: var(--xr-font-color3);\n}\n\n.xr-array-preview,\n.xr-array-data {\n  padding: 0 5px !important;\n  grid-column: 2;\n}\n\n.xr-array-data,\n.xr-array-in:checked ~ .xr-array-preview {\n  display: none;\n}\n\n.xr-array-in:checked ~ .xr-array-data,\n.xr-array-preview {\n  display: inline-block;\n}\n\n.xr-dim-list {\n  display: inline-block !important;\n  list-style: none;\n  padding: 0 !important;\n  margin: 0;\n}\n\n.xr-dim-list li {\n  display: inline-block;\n  padding: 0;\n  margin: 0;\n}\n\n.xr-dim-list:before {\n  content: '(';\n}\n\n.xr-dim-list:after {\n  content: ')';\n}\n\n.xr-dim-list li:not(:last-child):after {\n  content: ',';\n  padding-right: 5px;\n}\n\n.xr-has-index {\n  font-weight: bold;\n}\n\n.xr-var-list,\n.xr-var-item {\n  display: contents;\n}\n\n.xr-var-item > div,\n.xr-var-item label,\n.xr-var-item > .xr-var-name span {\n  background-color: var(--xr-background-color-row-even);\n  margin-bottom: 0;\n}\n\n.xr-var-item > .xr-var-name:hover span {\n  padding-right: 5px;\n}\n\n.xr-var-list > li:nth-child(odd) > div,\n.xr-var-list > li:nth-child(odd) > label,\n.xr-var-list > li:nth-child(odd) > .xr-var-name span {\n  background-color: var(--xr-background-color-row-odd);\n}\n\n.xr-var-name {\n  grid-column: 1;\n}\n\n.xr-var-dims {\n  grid-column: 2;\n}\n\n.xr-var-dtype {\n  grid-column: 3;\n  text-align: right;\n  color: var(--xr-font-color2);\n}\n\n.xr-var-preview {\n  grid-column: 4;\n}\n\n.xr-var-name,\n.xr-var-dims,\n.xr-var-dtype,\n.xr-preview,\n.xr-attrs dt {\n  white-space: nowrap;\n  overflow: hidden;\n  text-overflow: ellipsis;\n  padding-right: 10px;\n}\n\n.xr-var-name:hover,\n.xr-var-dims:hover,\n.xr-var-dtype:hover,\n.xr-attrs dt:hover {\n  overflow: visible;\n  width: auto;\n  z-index: 1;\n}\n\n.xr-var-attrs,\n.xr-var-data {\n  display: none;\n  background-color: var(--xr-background-color) !important;\n  padding-bottom: 5px !important;\n}\n\n.xr-var-attrs-in:checked ~ .xr-var-attrs,\n.xr-var-data-in:checked ~ .xr-var-data {\n  display: block;\n}\n\n.xr-var-data > table {\n  float: right;\n}\n\n.xr-var-name span,\n.xr-var-data,\n.xr-attrs {\n  padding-left: 25px !important;\n}\n\n.xr-attrs,\n.xr-var-attrs,\n.xr-var-data {\n  grid-column: 1 / -1;\n}\n\ndl.xr-attrs {\n  padding: 0;\n  margin: 0;\n  display: grid;\n  grid-template-columns: 125px auto;\n}\n\n.xr-attrs dt,\n.xr-attrs dd {\n  padding: 0;\n  margin: 0;\n  float: left;\n  padding-right: 10px;\n  width: auto;\n}\n\n.xr-attrs dt {\n  font-weight: normal;\n  grid-column: 1;\n}\n\n.xr-attrs dt:hover span {\n  display: inline-block;\n  background: var(--xr-background-color);\n  padding-right: 10px;\n}\n\n.xr-attrs dd {\n  grid-column: 2;\n  white-space: pre-wrap;\n  word-break: break-all;\n}\n\n.xr-icon-database,\n.xr-icon-file-text2 {\n  display: inline-block;\n  vertical-align: middle;\n  width: 1em;\n  height: 1.5em !important;\n  stroke-width: 0;\n  stroke: currentColor;\n  fill: currentColor;\n}\n</style><pre class='xr-text-repr-fallback'>&lt;xarray.Dataset&gt;\nDimensions:           (region: 65, time: 8760)\nCoordinates:\n  * region            (region) object &#x27;AL0 0 on&#x27; &#x27;AT0 0 on&#x27; ... &#x27;SI0 0 off&#x27;\n  * time              (time) datetime64[ns] 2013-01-01 ... 2013-12-31T23:00:00\nData variables:\n    height            (region, time) float64 ...\n    wnd100m           (region, time) float64 ...\n    roughness         (region, time) float64 ...\n    influx_toa        (region, time) float64 ...\n    influx_direct     (region, time) float64 ...\n    influx_diffuse    (region, time) float64 ...\n    albedo            (region, time) float64 ...\n    temperature       (region, time) float64 ...\n    soil_temperature  (region, time) float64 ...\n    runoff            (region, time) float64 ...\nAttributes:\n    description:  Era5 data with mean value of the coordinates within a region</pre><div class='xr-wrap' style='display:none'><div class='xr-header'><div class='xr-obj-type'>xarray.Dataset</div></div><ul class='xr-sections'><li class='xr-section-item'><input id='section-ea265600-ebf8-4198-bb5c-90c94e00ae21' class='xr-section-summary-in' type='checkbox' disabled ><label for='section-ea265600-ebf8-4198-bb5c-90c94e00ae21' class='xr-section-summary'  title='Expand/collapse section'>Dimensions:</label><div class='xr-section-inline-details'><ul class='xr-dim-list'><li><span class='xr-has-index'>region</span>: 65</li><li><span class='xr-has-index'>time</span>: 8760</li></ul></div><div class='xr-section-details'></div></li><li class='xr-section-item'><input id='section-c330c916-92ba-4a94-ade0-e13ca92440d2' class='xr-section-summary-in' type='checkbox'  checked><label for='section-c330c916-92ba-4a94-ade0-e13ca92440d2' class='xr-section-summary' >Coordinates: <span>(2)</span></label><div class='xr-section-inline-details'></div><div class='xr-section-details'><ul class='xr-var-list'><li class='xr-var-item'><div class='xr-var-name'><span class='xr-has-index'>region</span></div><div class='xr-var-dims'>(region)</div><div class='xr-var-dtype'>object</div><div class='xr-var-preview xr-preview'>&#x27;AL0 0 on&#x27; ... &#x27;SI0 0 off&#x27;</div><input id='attrs-c58e6f0b-fa1e-4ce4-b810-40c19dc5decb' class='xr-var-attrs-in' type='checkbox' disabled><label for='attrs-c58e6f0b-fa1e-4ce4-b810-40c19dc5decb' title='Show/Hide attributes'><svg class='icon xr-icon-file-text2'><use xlink:href='#icon-file-text2'></use></svg></label><input id='data-2a0acba7-4b8b-42e6-99dd-134077384aae' class='xr-var-data-in' type='checkbox'><label for='data-2a0acba7-4b8b-42e6-99dd-134077384aae' title='Show/Hide data repr'><svg class='icon xr-icon-database'><use xlink:href='#icon-database'></use></svg></label><div class='xr-var-attrs'><dl class='xr-attrs'></dl></div><div class='xr-var-data'><pre>array([&#x27;AL0 0 on&#x27;, &#x27;AT0 0 on&#x27;, &#x27;BA0 0 on&#x27;, &#x27;BE0 0 on&#x27;, &#x27;BG0 0 on&#x27;, &#x27;CH0 0 on&#x27;,\n       &#x27;CZ0 0 on&#x27;, &#x27;DE0 0 on&#x27;, &#x27;DK0 0 on&#x27;, &#x27;DK4 0 on&#x27;, &#x27;EE6 0 on&#x27;, &#x27;ES0 0 on&#x27;,\n       &#x27;ES2 0 on&#x27;, &#x27;FI4 0 on&#x27;, &#x27;FR0 0 on&#x27;, &#x27;GB3 0 on&#x27;, &#x27;GB5 0 on&#x27;, &#x27;GR0 0 on&#x27;,\n       &#x27;HR0 0 on&#x27;, &#x27;HU0 0 on&#x27;, &#x27;IE5 0 on&#x27;, &#x27;IT0 0 on&#x27;, &#x27;IT1 0 on&#x27;, &#x27;LT6 0 on&#x27;,\n       &#x27;LU0 0 on&#x27;, &#x27;LV6 0 on&#x27;, &#x27;ME0 0 on&#x27;, &#x27;MK0 0 on&#x27;, &#x27;NL0 0 on&#x27;, &#x27;NO4 0 on&#x27;,\n       &#x27;PL0 0 on&#x27;, &#x27;PT0 0 on&#x27;, &#x27;RO0 0 on&#x27;, &#x27;RS0 0 on&#x27;, &#x27;SE4 0 on&#x27;, &#x27;SI0 0 on&#x27;,\n       &#x27;SK0 0 on&#x27;, &#x27;AL0 0 off&#x27;, &#x27;BE0 0 off&#x27;, &#x27;BG0 0 off&#x27;, &#x27;DE0 0 off&#x27;,\n       &#x27;DK0 0 off&#x27;, &#x27;DK4 0 off&#x27;, &#x27;EE6 0 off&#x27;, &#x27;ES0 0 off&#x27;, &#x27;ES2 0 off&#x27;,\n       &#x27;FI4 0 off&#x27;, &#x27;FR0 0 off&#x27;, &#x27;GB3 0 off&#x27;, &#x27;GB5 0 off&#x27;, &#x27;GR0 0 off&#x27;,\n       &#x27;HR0 0 off&#x27;, &#x27;IE5 0 off&#x27;, &#x27;IT0 0 off&#x27;, &#x27;IT1 0 off&#x27;, &#x27;LT6 0 off&#x27;,\n       &#x27;LV6 0 off&#x27;, &#x27;ME0 0 off&#x27;, &#x27;NL0 0 off&#x27;, &#x27;NO4 0 off&#x27;, &#x27;PL0 0 off&#x27;,\n       &#x27;PT0 0 off&#x27;, &#x27;RO0 0 off&#x27;, &#x27;SE4 0 off&#x27;, &#x27;SI0 0 off&#x27;], dtype=object)</pre></div></li><li class='xr-var-item'><div class='xr-var-name'><span class='xr-has-index'>time</span></div><div class='xr-var-dims'>(time)</div><div class='xr-var-dtype'>datetime64[ns]</div><div class='xr-var-preview xr-preview'>2013-01-01 ... 2013-12-31T23:00:00</div><input id='attrs-25ef478d-d568-4432-bc6c-00a5cf4b777a' class='xr-var-attrs-in' type='checkbox' disabled><label for='attrs-25ef478d-d568-4432-bc6c-00a5cf4b777a' title='Show/Hide attributes'><svg class='icon xr-icon-file-text2'><use xlink:href='#icon-file-text2'></use></svg></label><input id='data-0711eae1-13cc-4831-8ddb-c9efd858b6a1' class='xr-var-data-in' type='checkbox'><label for='data-0711eae1-13cc-4831-8ddb-c9efd858b6a1' title='Show/Hide data repr'><svg class='icon xr-icon-database'><use xlink:href='#icon-database'></use></svg></label><div class='xr-var-attrs'><dl class='xr-attrs'></dl></div><div class='xr-var-data'><pre>array([&#x27;2013-01-01T00:00:00.000000000&#x27;, &#x27;2013-01-01T01:00:00.000000000&#x27;,\n       &#x27;2013-01-01T02:00:00.000000000&#x27;, ..., &#x27;2013-12-31T21:00:00.000000000&#x27;,\n       &#x27;2013-12-31T22:00:00.000000000&#x27;, &#x27;2013-12-31T23:00:00.000000000&#x27;],\n      dtype=&#x27;datetime64[ns]&#x27;)</pre></div></li></ul></div></li><li class='xr-section-item'><input id='section-97916dd3-ccc3-4aec-b39a-5ffa489a3c15' class='xr-section-summary-in' type='checkbox'  checked><label for='section-97916dd3-ccc3-4aec-b39a-5ffa489a3c15' class='xr-section-summary' >Data variables: <span>(10)</span></label><div class='xr-section-inline-details'></div><div class='xr-section-details'><ul class='xr-var-list'><li class='xr-var-item'><div class='xr-var-name'><span>height</span></div><div class='xr-var-dims'>(region, time)</div><div class='xr-var-dtype'>float64</div><div class='xr-var-preview xr-preview'>...</div><input id='attrs-a8b56537-4822-41e2-a0ee-1e4ddfbffffd' class='xr-var-attrs-in' type='checkbox' disabled><label for='attrs-a8b56537-4822-41e2-a0ee-1e4ddfbffffd' title='Show/Hide attributes'><svg class='icon xr-icon-file-text2'><use xlink:href='#icon-file-text2'></use></svg></label><input id='data-8e3937a1-3763-44fd-b54b-2eb2d857e6d9' class='xr-var-data-in' type='checkbox'><label for='data-8e3937a1-3763-44fd-b54b-2eb2d857e6d9' title='Show/Hide data repr'><svg class='icon xr-icon-database'><use xlink:href='#icon-database'></use></svg></label><div class='xr-var-attrs'><dl class='xr-attrs'></dl></div><div class='xr-var-data'><pre>[569400 values with dtype=float64]</pre></div></li><li class='xr-var-item'><div class='xr-var-name'><span>wnd100m</span></div><div class='xr-var-dims'>(region, time)</div><div class='xr-var-dtype'>float64</div><div class='xr-var-preview xr-preview'>...</div><input id='attrs-a2ac29cb-302f-47a5-9ace-1363aff7162c' class='xr-var-attrs-in' type='checkbox' disabled><label for='attrs-a2ac29cb-302f-47a5-9ace-1363aff7162c' title='Show/Hide attributes'><svg class='icon xr-icon-file-text2'><use xlink:href='#icon-file-text2'></use></svg></label><input id='data-5df15808-2093-4dea-8afb-ada271fcdb5d' class='xr-var-data-in' type='checkbox'><label for='data-5df15808-2093-4dea-8afb-ada271fcdb5d' title='Show/Hide data repr'><svg class='icon xr-icon-database'><use xlink:href='#icon-database'></use></svg></label><div class='xr-var-attrs'><dl class='xr-attrs'></dl></div><div class='xr-var-data'><pre>[569400 values with dtype=float64]</pre></div></li><li class='xr-var-item'><div class='xr-var-name'><span>roughness</span></div><div class='xr-var-dims'>(region, time)</div><div class='xr-var-dtype'>float64</div><div class='xr-var-preview xr-preview'>...</div><input id='attrs-a5af80ec-bf64-4087-8e2b-8a532c4f70ad' class='xr-var-attrs-in' type='checkbox' disabled><label for='attrs-a5af80ec-bf64-4087-8e2b-8a532c4f70ad' title='Show/Hide attributes'><svg class='icon xr-icon-file-text2'><use xlink:href='#icon-file-text2'></use></svg></label><input id='data-f7c6d3f0-2748-4e88-aaa3-939ede8f290b' class='xr-var-data-in' type='checkbox'><label for='data-f7c6d3f0-2748-4e88-aaa3-939ede8f290b' title='Show/Hide data repr'><svg class='icon xr-icon-database'><use xlink:href='#icon-database'></use></svg></label><div class='xr-var-attrs'><dl class='xr-attrs'></dl></div><div class='xr-var-data'><pre>[569400 values with dtype=float64]</pre></div></li><li class='xr-var-item'><div class='xr-var-name'><span>influx_toa</span></div><div class='xr-var-dims'>(region, time)</div><div class='xr-var-dtype'>float64</div><div class='xr-var-preview xr-preview'>...</div><input id='attrs-24a6a758-5f57-4ccf-a65e-eebe3fc0da35' class='xr-var-attrs-in' type='checkbox' disabled><label for='attrs-24a6a758-5f57-4ccf-a65e-eebe3fc0da35' title='Show/Hide attributes'><svg class='icon xr-icon-file-text2'><use xlink:href='#icon-file-text2'></use></svg></label><input id='data-b1c75d48-12fe-4f7d-ad99-d5a089ba7620' class='xr-var-data-in' type='checkbox'><label for='data-b1c75d48-12fe-4f7d-ad99-d5a089ba7620' title='Show/Hide data repr'><svg class='icon xr-icon-database'><use xlink:href='#icon-database'></use></svg></label><div class='xr-var-attrs'><dl class='xr-attrs'></dl></div><div class='xr-var-data'><pre>[569400 values with dtype=float64]</pre></div></li><li class='xr-var-item'><div class='xr-var-name'><span>influx_direct</span></div><div class='xr-var-dims'>(region, time)</div><div class='xr-var-dtype'>float64</div><div class='xr-var-preview xr-preview'>...</div><input id='attrs-da75de46-1b81-41dc-b848-3859416be800' class='xr-var-attrs-in' type='checkbox' disabled><label for='attrs-da75de46-1b81-41dc-b848-3859416be800' title='Show/Hide attributes'><svg class='icon xr-icon-file-text2'><use xlink:href='#icon-file-text2'></use></svg></label><input id='data-1d2014f5-f165-42e5-a6db-b74b94a7ae9a' class='xr-var-data-in' type='checkbox'><label for='data-1d2014f5-f165-42e5-a6db-b74b94a7ae9a' title='Show/Hide data repr'><svg class='icon xr-icon-database'><use xlink:href='#icon-database'></use></svg></label><div class='xr-var-attrs'><dl class='xr-attrs'></dl></div><div class='xr-var-data'><pre>[569400 values with dtype=float64]</pre></div></li><li class='xr-var-item'><div class='xr-var-name'><span>influx_diffuse</span></div><div class='xr-var-dims'>(region, time)</div><div class='xr-var-dtype'>float64</div><div class='xr-var-preview xr-preview'>...</div><input id='attrs-1ceb684e-2162-4b5b-b376-29f41d60943f' class='xr-var-attrs-in' type='checkbox' disabled><label for='attrs-1ceb684e-2162-4b5b-b376-29f41d60943f' title='Show/Hide attributes'><svg class='icon xr-icon-file-text2'><use xlink:href='#icon-file-text2'></use></svg></label><input id='data-eb9bbe78-8b2a-4b9e-84c4-93c34b13a254' class='xr-var-data-in' type='checkbox'><label for='data-eb9bbe78-8b2a-4b9e-84c4-93c34b13a254' title='Show/Hide data repr'><svg class='icon xr-icon-database'><use xlink:href='#icon-database'></use></svg></label><div class='xr-var-attrs'><dl class='xr-attrs'></dl></div><div class='xr-var-data'><pre>[569400 values with dtype=float64]</pre></div></li><li class='xr-var-item'><div class='xr-var-name'><span>albedo</span></div><div class='xr-var-dims'>(region, time)</div><div class='xr-var-dtype'>float64</div><div class='xr-var-preview xr-preview'>...</div><input id='attrs-d03dc499-4d8b-40eb-ba53-1e2a0badc00a' class='xr-var-attrs-in' type='checkbox' disabled><label for='attrs-d03dc499-4d8b-40eb-ba53-1e2a0badc00a' title='Show/Hide attributes'><svg class='icon xr-icon-file-text2'><use xlink:href='#icon-file-text2'></use></svg></label><input id='data-1b396aaa-1c15-41d5-ae1d-bd1541074ba3' class='xr-var-data-in' type='checkbox'><label for='data-1b396aaa-1c15-41d5-ae1d-bd1541074ba3' title='Show/Hide data repr'><svg class='icon xr-icon-database'><use xlink:href='#icon-database'></use></svg></label><div class='xr-var-attrs'><dl class='xr-attrs'></dl></div><div class='xr-var-data'><pre>[569400 values with dtype=float64]</pre></div></li><li class='xr-var-item'><div class='xr-var-name'><span>temperature</span></div><div class='xr-var-dims'>(region, time)</div><div class='xr-var-dtype'>float64</div><div class='xr-var-preview xr-preview'>...</div><input id='attrs-3d896f07-3ed3-4eda-ae8a-379202e34957' class='xr-var-attrs-in' type='checkbox' disabled><label for='attrs-3d896f07-3ed3-4eda-ae8a-379202e34957' title='Show/Hide attributes'><svg class='icon xr-icon-file-text2'><use xlink:href='#icon-file-text2'></use></svg></label><input id='data-214350f4-3c35-4b52-b8aa-8254f04c1c73' class='xr-var-data-in' type='checkbox'><label for='data-214350f4-3c35-4b52-b8aa-8254f04c1c73' title='Show/Hide data repr'><svg class='icon xr-icon-database'><use xlink:href='#icon-database'></use></svg></label><div class='xr-var-attrs'><dl class='xr-attrs'></dl></div><div class='xr-var-data'><pre>[569400 values with dtype=float64]</pre></div></li><li class='xr-var-item'><div class='xr-var-name'><span>soil_temperature</span></div><div class='xr-var-dims'>(region, time)</div><div class='xr-var-dtype'>float64</div><div class='xr-var-preview xr-preview'>...</div><input id='attrs-0f11af2a-e1c1-40e3-8878-65556c5f748a' class='xr-var-attrs-in' type='checkbox' disabled><label for='attrs-0f11af2a-e1c1-40e3-8878-65556c5f748a' title='Show/Hide attributes'><svg class='icon xr-icon-file-text2'><use xlink:href='#icon-file-text2'></use></svg></label><input id='data-5796fe4d-6970-49c7-aef5-0c75614f47fb' class='xr-var-data-in' type='checkbox'><label for='data-5796fe4d-6970-49c7-aef5-0c75614f47fb' title='Show/Hide data repr'><svg class='icon xr-icon-database'><use xlink:href='#icon-database'></use></svg></label><div class='xr-var-attrs'><dl class='xr-attrs'></dl></div><div class='xr-var-data'><pre>[569400 values with dtype=float64]</pre></div></li><li class='xr-var-item'><div class='xr-var-name'><span>runoff</span></div><div class='xr-var-dims'>(region, time)</div><div class='xr-var-dtype'>float64</div><div class='xr-var-preview xr-preview'>...</div><input id='attrs-1d1ce0ff-bee8-43f4-85db-de790279c197' class='xr-var-attrs-in' type='checkbox' disabled><label for='attrs-1d1ce0ff-bee8-43f4-85db-de790279c197' title='Show/Hide attributes'><svg class='icon xr-icon-file-text2'><use xlink:href='#icon-file-text2'></use></svg></label><input id='data-5ff46301-3bb2-4c51-80a3-0b55b343e475' class='xr-var-data-in' type='checkbox'><label for='data-5ff46301-3bb2-4c51-80a3-0b55b343e475' title='Show/Hide data repr'><svg class='icon xr-icon-database'><use xlink:href='#icon-database'></use></svg></label><div class='xr-var-attrs'><dl class='xr-attrs'></dl></div><div class='xr-var-data'><pre>[569400 values with dtype=float64]</pre></div></li></ul></div></li><li class='xr-section-item'><input id='section-6e45d932-aeb5-42ab-9ffc-1e6f42bad13d' class='xr-section-summary-in' type='checkbox'  checked><label for='section-6e45d932-aeb5-42ab-9ffc-1e6f42bad13d' class='xr-section-summary' >Attributes: <span>(1)</span></label><div class='xr-section-inline-details'></div><div class='xr-section-details'><dl class='xr-attrs'><dt><span>description :</span></dt><dd>Era5 data with mean value of the coordinates within a region</dd></dl></div></li></ul></div></div>"
     },
     "execution_count": 48,
     "metadata": {},
     "output_type": "execute_result"
    }
   ],
   "source": [
    "ds = xr.open_dataset(filename_or_obj=paths[\"era5_regions\"], engine=\"netcdf4\")\n",
    "ds"
   ],
   "metadata": {
    "collapsed": false,
    "pycharm": {
     "name": "#%%\n"
    }
   }
  },
  {
   "cell_type": "code",
   "execution_count": 49,
   "outputs": [
    {
     "data": {
      "text/plain": "                 snapshot  AL0 0 offwind-ac  AL0 0 onwind  AL0 0 solar  \\\n0     2013-01-01 00:00:00          0.003291      0.001469          0.0   \n1     2013-01-01 01:00:00          0.002103      0.000000          0.0   \n2     2013-01-01 02:00:00          0.000000      0.000000          0.0   \n3     2013-01-01 03:00:00          0.000000      0.000000          0.0   \n4     2013-01-01 04:00:00          0.000000      0.000000          0.0   \n...                   ...               ...           ...          ...   \n8755  2013-12-31 19:00:00          0.029235      0.024321          0.0   \n8756  2013-12-31 20:00:00          0.034024      0.031357          0.0   \n8757  2013-12-31 21:00:00          0.037104      0.034522          0.0   \n8758  2013-12-31 22:00:00          0.029730      0.027419          0.0   \n8759  2013-12-31 23:00:00          0.017742      0.020761          0.0   \n\n      AT0 0 onwind  AT0 0 ror  AT0 0 solar  BA0 0 onwind  BA0 0 solar  \\\n0         0.163262   0.224456          0.0      0.007340          0.0   \n1         0.171340   0.224369          0.0      0.007939          0.0   \n2         0.171035   0.224300          0.0      0.007829          0.0   \n3         0.169685   0.224249          0.0      0.005766          0.0   \n4         0.159757   0.224213          0.0      0.004262          0.0   \n...            ...        ...          ...           ...          ...   \n8755      0.109127   0.275353          0.0      0.001076          0.0   \n8756      0.120485   0.275159          0.0      0.001090          0.0   \n8757      0.128186   0.274975          0.0      0.001062          0.0   \n8758      0.124740   0.274784          0.0      0.001351          0.0   \n8759      0.126570   0.274592          0.0      0.001109          0.0   \n\n      BE0 0 offwind-ac  ...  SE4 0 onwind  SE4 0 ror  SE4 0 solar  \\\n0             1.000000  ...      0.459609   0.626955          0.0   \n1             0.999998  ...      0.463265   0.625502          0.0   \n2             0.993941  ...      0.463777   0.624810          0.0   \n3             0.916094  ...      0.463041   0.623794          0.0   \n4             0.704786  ...      0.457253   0.623085          0.0   \n...                ...  ...           ...        ...          ...   \n8755          0.998922  ...      0.358191   0.469586          0.0   \n8756          0.965757  ...      0.324709   0.469395          0.0   \n8757          0.852484  ...      0.288415   0.469208          0.0   \n8758          0.776442  ...      0.268695   0.469028          0.0   \n8759          0.880753  ...      0.245296   0.468856          0.0   \n\n      SI0 0 offwind-ac  SI0 0 onwind  SI0 0 ror  SI0 0 solar  SK0 0 onwind  \\\n0             0.000000      0.055146   0.344668          0.0      0.361009   \n1             0.000000      0.052605   0.344657          0.0      0.368912   \n2             0.000000      0.052222   0.344593          0.0      0.382949   \n3             0.000000      0.050762   0.344626          0.0      0.388344   \n4             0.000000      0.047285   0.344607          0.0      0.409303   \n...                ...           ...        ...          ...           ...   \n8755          0.027877      0.001708   0.696975          0.0      0.125735   \n8756          0.023567      0.000000   0.696262          0.0      0.142431   \n8757          0.000000      0.004891   0.695524          0.0      0.153930   \n8758          0.000000      0.009091   0.694665          0.0      0.163442   \n8759          0.000000      0.013554   0.693632          0.0      0.183295   \n\n      SK0 0 ror  SK0 0 solar  \n0      0.106197          0.0  \n1      0.106012          0.0  \n2      0.105968          0.0  \n3      0.106215          0.0  \n4      0.106364          0.0  \n...         ...          ...  \n8755   0.157729          0.0  \n8756   0.157817          0.0  \n8757   0.157899          0.0  \n8758   0.157945          0.0  \n8759   0.157963          0.0  \n\n[8760 rows x 151 columns]",
      "text/html": "<div>\n<style scoped>\n    .dataframe tbody tr th:only-of-type {\n        vertical-align: middle;\n    }\n\n    .dataframe tbody tr th {\n        vertical-align: top;\n    }\n\n    .dataframe thead th {\n        text-align: right;\n    }\n</style>\n<table border=\"1\" class=\"dataframe\">\n  <thead>\n    <tr style=\"text-align: right;\">\n      <th></th>\n      <th>snapshot</th>\n      <th>AL0 0 offwind-ac</th>\n      <th>AL0 0 onwind</th>\n      <th>AL0 0 solar</th>\n      <th>AT0 0 onwind</th>\n      <th>AT0 0 ror</th>\n      <th>AT0 0 solar</th>\n      <th>BA0 0 onwind</th>\n      <th>BA0 0 solar</th>\n      <th>BE0 0 offwind-ac</th>\n      <th>...</th>\n      <th>SE4 0 onwind</th>\n      <th>SE4 0 ror</th>\n      <th>SE4 0 solar</th>\n      <th>SI0 0 offwind-ac</th>\n      <th>SI0 0 onwind</th>\n      <th>SI0 0 ror</th>\n      <th>SI0 0 solar</th>\n      <th>SK0 0 onwind</th>\n      <th>SK0 0 ror</th>\n      <th>SK0 0 solar</th>\n    </tr>\n  </thead>\n  <tbody>\n    <tr>\n      <th>0</th>\n      <td>2013-01-01 00:00:00</td>\n      <td>0.003291</td>\n      <td>0.001469</td>\n      <td>0.0</td>\n      <td>0.163262</td>\n      <td>0.224456</td>\n      <td>0.0</td>\n      <td>0.007340</td>\n      <td>0.0</td>\n      <td>1.000000</td>\n      <td>...</td>\n      <td>0.459609</td>\n      <td>0.626955</td>\n      <td>0.0</td>\n      <td>0.000000</td>\n      <td>0.055146</td>\n      <td>0.344668</td>\n      <td>0.0</td>\n      <td>0.361009</td>\n      <td>0.106197</td>\n      <td>0.0</td>\n    </tr>\n    <tr>\n      <th>1</th>\n      <td>2013-01-01 01:00:00</td>\n      <td>0.002103</td>\n      <td>0.000000</td>\n      <td>0.0</td>\n      <td>0.171340</td>\n      <td>0.224369</td>\n      <td>0.0</td>\n      <td>0.007939</td>\n      <td>0.0</td>\n      <td>0.999998</td>\n      <td>...</td>\n      <td>0.463265</td>\n      <td>0.625502</td>\n      <td>0.0</td>\n      <td>0.000000</td>\n      <td>0.052605</td>\n      <td>0.344657</td>\n      <td>0.0</td>\n      <td>0.368912</td>\n      <td>0.106012</td>\n      <td>0.0</td>\n    </tr>\n    <tr>\n      <th>2</th>\n      <td>2013-01-01 02:00:00</td>\n      <td>0.000000</td>\n      <td>0.000000</td>\n      <td>0.0</td>\n      <td>0.171035</td>\n      <td>0.224300</td>\n      <td>0.0</td>\n      <td>0.007829</td>\n      <td>0.0</td>\n      <td>0.993941</td>\n      <td>...</td>\n      <td>0.463777</td>\n      <td>0.624810</td>\n      <td>0.0</td>\n      <td>0.000000</td>\n      <td>0.052222</td>\n      <td>0.344593</td>\n      <td>0.0</td>\n      <td>0.382949</td>\n      <td>0.105968</td>\n      <td>0.0</td>\n    </tr>\n    <tr>\n      <th>3</th>\n      <td>2013-01-01 03:00:00</td>\n      <td>0.000000</td>\n      <td>0.000000</td>\n      <td>0.0</td>\n      <td>0.169685</td>\n      <td>0.224249</td>\n      <td>0.0</td>\n      <td>0.005766</td>\n      <td>0.0</td>\n      <td>0.916094</td>\n      <td>...</td>\n      <td>0.463041</td>\n      <td>0.623794</td>\n      <td>0.0</td>\n      <td>0.000000</td>\n      <td>0.050762</td>\n      <td>0.344626</td>\n      <td>0.0</td>\n      <td>0.388344</td>\n      <td>0.106215</td>\n      <td>0.0</td>\n    </tr>\n    <tr>\n      <th>4</th>\n      <td>2013-01-01 04:00:00</td>\n      <td>0.000000</td>\n      <td>0.000000</td>\n      <td>0.0</td>\n      <td>0.159757</td>\n      <td>0.224213</td>\n      <td>0.0</td>\n      <td>0.004262</td>\n      <td>0.0</td>\n      <td>0.704786</td>\n      <td>...</td>\n      <td>0.457253</td>\n      <td>0.623085</td>\n      <td>0.0</td>\n      <td>0.000000</td>\n      <td>0.047285</td>\n      <td>0.344607</td>\n      <td>0.0</td>\n      <td>0.409303</td>\n      <td>0.106364</td>\n      <td>0.0</td>\n    </tr>\n    <tr>\n      <th>...</th>\n      <td>...</td>\n      <td>...</td>\n      <td>...</td>\n      <td>...</td>\n      <td>...</td>\n      <td>...</td>\n      <td>...</td>\n      <td>...</td>\n      <td>...</td>\n      <td>...</td>\n      <td>...</td>\n      <td>...</td>\n      <td>...</td>\n      <td>...</td>\n      <td>...</td>\n      <td>...</td>\n      <td>...</td>\n      <td>...</td>\n      <td>...</td>\n      <td>...</td>\n      <td>...</td>\n    </tr>\n    <tr>\n      <th>8755</th>\n      <td>2013-12-31 19:00:00</td>\n      <td>0.029235</td>\n      <td>0.024321</td>\n      <td>0.0</td>\n      <td>0.109127</td>\n      <td>0.275353</td>\n      <td>0.0</td>\n      <td>0.001076</td>\n      <td>0.0</td>\n      <td>0.998922</td>\n      <td>...</td>\n      <td>0.358191</td>\n      <td>0.469586</td>\n      <td>0.0</td>\n      <td>0.027877</td>\n      <td>0.001708</td>\n      <td>0.696975</td>\n      <td>0.0</td>\n      <td>0.125735</td>\n      <td>0.157729</td>\n      <td>0.0</td>\n    </tr>\n    <tr>\n      <th>8756</th>\n      <td>2013-12-31 20:00:00</td>\n      <td>0.034024</td>\n      <td>0.031357</td>\n      <td>0.0</td>\n      <td>0.120485</td>\n      <td>0.275159</td>\n      <td>0.0</td>\n      <td>0.001090</td>\n      <td>0.0</td>\n      <td>0.965757</td>\n      <td>...</td>\n      <td>0.324709</td>\n      <td>0.469395</td>\n      <td>0.0</td>\n      <td>0.023567</td>\n      <td>0.000000</td>\n      <td>0.696262</td>\n      <td>0.0</td>\n      <td>0.142431</td>\n      <td>0.157817</td>\n      <td>0.0</td>\n    </tr>\n    <tr>\n      <th>8757</th>\n      <td>2013-12-31 21:00:00</td>\n      <td>0.037104</td>\n      <td>0.034522</td>\n      <td>0.0</td>\n      <td>0.128186</td>\n      <td>0.274975</td>\n      <td>0.0</td>\n      <td>0.001062</td>\n      <td>0.0</td>\n      <td>0.852484</td>\n      <td>...</td>\n      <td>0.288415</td>\n      <td>0.469208</td>\n      <td>0.0</td>\n      <td>0.000000</td>\n      <td>0.004891</td>\n      <td>0.695524</td>\n      <td>0.0</td>\n      <td>0.153930</td>\n      <td>0.157899</td>\n      <td>0.0</td>\n    </tr>\n    <tr>\n      <th>8758</th>\n      <td>2013-12-31 22:00:00</td>\n      <td>0.029730</td>\n      <td>0.027419</td>\n      <td>0.0</td>\n      <td>0.124740</td>\n      <td>0.274784</td>\n      <td>0.0</td>\n      <td>0.001351</td>\n      <td>0.0</td>\n      <td>0.776442</td>\n      <td>...</td>\n      <td>0.268695</td>\n      <td>0.469028</td>\n      <td>0.0</td>\n      <td>0.000000</td>\n      <td>0.009091</td>\n      <td>0.694665</td>\n      <td>0.0</td>\n      <td>0.163442</td>\n      <td>0.157945</td>\n      <td>0.0</td>\n    </tr>\n    <tr>\n      <th>8759</th>\n      <td>2013-12-31 23:00:00</td>\n      <td>0.017742</td>\n      <td>0.020761</td>\n      <td>0.0</td>\n      <td>0.126570</td>\n      <td>0.274592</td>\n      <td>0.0</td>\n      <td>0.001109</td>\n      <td>0.0</td>\n      <td>0.880753</td>\n      <td>...</td>\n      <td>0.245296</td>\n      <td>0.468856</td>\n      <td>0.0</td>\n      <td>0.000000</td>\n      <td>0.013554</td>\n      <td>0.693632</td>\n      <td>0.0</td>\n      <td>0.183295</td>\n      <td>0.157963</td>\n      <td>0.0</td>\n    </tr>\n  </tbody>\n</table>\n<p>8760 rows × 151 columns</p>\n</div>"
     },
     "execution_count": 49,
     "metadata": {},
     "output_type": "execute_result"
    }
   ],
   "source": [
    "capfacts = pd.read_csv(paths[\"capfacs\"])\n",
    "capfacts"
   ],
   "metadata": {
    "collapsed": false,
    "pycharm": {
     "name": "#%%\n"
    }
   }
  },
  {
   "cell_type": "code",
   "execution_count": 50,
   "outputs": [],
   "source": [
    "class EnergyType(Enum):\n",
    "    \"\"\"\n",
    "    Represents the different type of renewable energy sources in pypsa-eur\n",
    "    \"\"\"\n",
    "    OFFWIND_AC = \"offwind-ac\"\n",
    "    OFFWIND_DC = \"offwind-dc\"\n",
    "    ONWIND = \"onwind-dc\"\n",
    "    SOLAR = \"solar\"\n",
    "    ROR = \"ror\"\n",
    "    NOT_DEFINED = \"not_defined\"\n",
    "\n",
    "class Feature(Enum):\n",
    "    \"\"\"\n",
    "    Represents the features, that can be extracted from the era-5 weather data set\n",
    "    \"\"\"\n",
    "    HEIGHT = \"height\"\n",
    "    WND100M = \"wnd100m\"\n",
    "    ROUGHNESS = \"roughness\"\n",
    "    INFLUX_TOA = \"influx_toa\"\n",
    "    INFLUX_DIRECT = \"influx_direct\"\n",
    "    INFLUX_DIFFUSE = \"influx_diffuse\"\n",
    "    ALBEDO = \"albedo\"\n",
    "    TEMPERATURE = \"temperature\"\n",
    "    SOIL_TEMPERATURE = \"soil_temperature\"\n",
    "    RUNOFF = \"runoff\"\n",
    "\n",
    "\"\"\"\n",
    "Determines which features are selected to calculate the capacity factor of a certain energy type.\n",
    "\"\"\"\n",
    "feature_set = {\n",
    "    EnergyType.OFFWIND_AC: [Feature.HEIGHT, Feature.WND100M, Feature.ROUGHNESS],\n",
    "    EnergyType.OFFWIND_DC: [Feature.HEIGHT, Feature.WND100M, Feature.ROUGHNESS],\n",
    "    EnergyType.ONWIND: [Feature.HEIGHT, Feature.WND100M, Feature.ROUGHNESS],\n",
    "    EnergyType.SOLAR: [Feature.INFLUX_TOA, Feature.INFLUX_DIRECT, Feature.INFLUX_DIFFUSE, Feature.TEMPERATURE],\n",
    "    EnergyType.ROR: []\n",
    "}\n",
    "\n",
    "def find_countries_in_capfacts(country_name=\"\") -> list:\n",
    "    \"\"\"\n",
    "    Returns the full region names and energy types of the given name abbreviation that can be found in the .csv file with capacity factors.\n",
    "    :param country_name: Two character abbreviation of the searched country\n",
    "    :return: list of all regions and energy types to the given country name\n",
    "    \"\"\"\n",
    "    countries = []\n",
    "    for column in capfacts:\n",
    "        if column.find(country_name) >= 0:\n",
    "            countries.append(column)\n",
    "    return countries\n",
    "\n",
    "\n",
    "def get_energy_type(name: str) -> EnergyType:\n",
    "    \"\"\"\n",
    "    Returns the energy type for a given string\n",
    "    :param name: energy type as string\n",
    "    :return: energy type for the given string\n",
    "    \"\"\"\n",
    "    match name:\n",
    "        case \"offwind-ac\":\n",
    "            return EnergyType.OFFWIND_AC\n",
    "        case \"offwind-dc\":\n",
    "            return EnergyType.OFFWIND_DC\n",
    "        case \"onwind\":\n",
    "            return EnergyType.ONWIND\n",
    "        case \"solar\":\n",
    "            return EnergyType.SOLAR\n",
    "        case \"ror\":\n",
    "            return EnergyType.ROR\n",
    "        case _:\n",
    "            return EnergyType.NOT_DEFINED\n",
    "\n",
    "def get_ds_region_name(region_name: str, energy_type: EnergyType) -> str:\n",
    "    \"\"\"\n",
    "    Returns the name or string that addresses the given region and energy type which can be used to address the data in the feature data set\n",
    "    :param region_name: name of the region\n",
    "    :param energy_type: the uses energy type in that region\n",
    "    :return: string that can be used to fetch data from the feature data set\n",
    "    \"\"\"\n",
    "    ds_region_name = region_name + \" 0\"\n",
    "    if energy_type == EnergyType.ONWIND or energy_type == EnergyType.SOLAR or energy_type == EnergyType.ROR:\n",
    "        ds_region_name += \" on\"\n",
    "    elif energy_type == EnergyType.OFFWIND_AC or energy_type == EnergyType.OFFWIND_DC:\n",
    "        ds_region_name += \" off\"\n",
    "    else:\n",
    "        ds_region_name += \"\"\n",
    "    return ds_region_name\n",
    "\n",
    "def parse_capfac_col(column_name: str) -> (str, EnergyType):\n",
    "    \"\"\"\n",
    "    Returns a tuple of the region name and energy type for a given column name of the capfacts .csv file\n",
    "    :param column_name: column name of the capfacts .csv file\n",
    "    :return: Tuple of a region name and energy type, None if no region is found\n",
    "    \"\"\"\n",
    "    col_args = column_name.split(\" \")\n",
    "    if len(col_args) == 3:\n",
    "        region_name = col_args[0]\n",
    "        energy_type = get_energy_type(col_args[2])\n",
    "        return region_name, energy_type\n",
    "    return None, None\n",
    "\n",
    "def create_training_data_for_col(column_name: str) -> (np.ndarray, dict):\n",
    "    \"\"\"\n",
    "    Creates and returns the the training data set with the relevant data for a given column name from the capfacts .csv file.\n",
    "    The training data set is a tuple of a numpy array of capacity factors (target values) and a dictionary of the era5 data (feature data),\n",
    "    :param column_name: column name of the capfacts .csv file\n",
    "    :return: Tuple of capacity factor (Y) and trainings data (X)\n",
    "            X                       : DataFrame object or List or numpy array of predictors (n x p) in Numeric format\n",
    "            Y                       : DataFrame object or List or numpy array of outcomes (n) in Numeric format.\n",
    "    \"\"\"\n",
    "    region_name, energy_type = parse_capfac_col(column_name)\n",
    "    # print(region_name)\n",
    "    # print(energy_type)\n",
    "    ds_region_name = get_ds_region_name(region_name, energy_type)\n",
    "    # print(ds_region_name)\n",
    "    features = feature_set.get(energy_type)\n",
    "    # print(features)\n",
    "\n",
    "    Y_capfac = capfacts[column_name].values\n",
    "    X = {}\n",
    "    for feature in features:\n",
    "        X[feature] = ds.sel(region=ds_region_name)[feature.value].values\n",
    "\n",
    "    return Y_capfac, X\n",
    "\n",
    "\n",
    "def shape_multi_feature_data(training_data: dict):\n",
    "    \"\"\"\n",
    "    Reshapes the trainingsdata in an array of shape (n_samples, n_features)\n",
    "    (8760, 2) ---> [[x_f1_1, x_f2_1], [x_f1_2, x_f2_2], ... , [x_f1_8760, x_f2_8760]]\n",
    "    :param training_data as a dictinary of multiple 1-d arrays:\n",
    "    :return: trainingsdata in array of shape (n_samples, n_features)\n",
    "    \"\"\"\n",
    "    # tup = tuple(list(training_data.values()))\n",
    "    # multi_feature_train_data = np.column_stack(tup)\n",
    "    arrays = list(training_data.values())\n",
    "    return np.stack(arrays, axis=-1)"
   ],
   "metadata": {
    "collapsed": false,
    "pycharm": {
     "name": "#%%\n"
    }
   }
  },
  {
   "cell_type": "code",
   "execution_count": 51,
   "outputs": [],
   "source": [
    "def get_date_time_obj(date_time_str: str):\n",
    "    # 2013-01-01 21:00:00\n",
    "    return datetime.strptime(date_time_str, \"%Y-%m-%d %H:%M:%S\")"
   ],
   "metadata": {
    "collapsed": false,
    "pycharm": {
     "name": "#%%\n"
    }
   }
  },
  {
   "cell_type": "code",
   "execution_count": 52,
   "outputs": [
    {
     "data": {
      "text/plain": "                 snapshot\n0     2013-01-01 00:00:00\n1     2013-01-01 01:00:00\n2     2013-01-01 02:00:00\n3     2013-01-01 03:00:00\n4     2013-01-01 04:00:00\n...                   ...\n8755  2013-12-31 19:00:00\n8756  2013-12-31 20:00:00\n8757  2013-12-31 21:00:00\n8758  2013-12-31 22:00:00\n8759  2013-12-31 23:00:00\n\n[8760 rows x 1 columns]",
      "text/html": "<div>\n<style scoped>\n    .dataframe tbody tr th:only-of-type {\n        vertical-align: middle;\n    }\n\n    .dataframe tbody tr th {\n        vertical-align: top;\n    }\n\n    .dataframe thead th {\n        text-align: right;\n    }\n</style>\n<table border=\"1\" class=\"dataframe\">\n  <thead>\n    <tr style=\"text-align: right;\">\n      <th></th>\n      <th>snapshot</th>\n    </tr>\n  </thead>\n  <tbody>\n    <tr>\n      <th>0</th>\n      <td>2013-01-01 00:00:00</td>\n    </tr>\n    <tr>\n      <th>1</th>\n      <td>2013-01-01 01:00:00</td>\n    </tr>\n    <tr>\n      <th>2</th>\n      <td>2013-01-01 02:00:00</td>\n    </tr>\n    <tr>\n      <th>3</th>\n      <td>2013-01-01 03:00:00</td>\n    </tr>\n    <tr>\n      <th>4</th>\n      <td>2013-01-01 04:00:00</td>\n    </tr>\n    <tr>\n      <th>...</th>\n      <td>...</td>\n    </tr>\n    <tr>\n      <th>8755</th>\n      <td>2013-12-31 19:00:00</td>\n    </tr>\n    <tr>\n      <th>8756</th>\n      <td>2013-12-31 20:00:00</td>\n    </tr>\n    <tr>\n      <th>8757</th>\n      <td>2013-12-31 21:00:00</td>\n    </tr>\n    <tr>\n      <th>8758</th>\n      <td>2013-12-31 22:00:00</td>\n    </tr>\n    <tr>\n      <th>8759</th>\n      <td>2013-12-31 23:00:00</td>\n    </tr>\n  </tbody>\n</table>\n<p>8760 rows × 1 columns</p>\n</div>"
     },
     "execution_count": 52,
     "metadata": {},
     "output_type": "execute_result"
    }
   ],
   "source": [
    "capfacts_columns = capfacts.columns.values\n",
    "\n",
    "\n",
    "# capfacts_pred_q40 = pd.DataFrame(columns=capfacts_columns)\n",
    "capfacts_pred_q40 = pd.DataFrame()\n",
    "capfacts_pred_q40[\"snapshot\"] = capfacts[\"snapshot\"]\n",
    "\n",
    "# capfacts_pred_q60 = pd.DataFrame(columns=capfacts_columns)\n",
    "capfacts_pred_q60 = pd.DataFrame()\n",
    "capfacts_pred_q60[\"snapshot\"] = capfacts[\"snapshot\"]\n",
    "\n",
    "capfacts_pred_q40"
   ],
   "metadata": {
    "collapsed": false,
    "pycharm": {
     "name": "#%%\n"
    }
   }
  },
  {
   "cell_type": "code",
   "execution_count": 52,
   "outputs": [],
   "source": [],
   "metadata": {
    "collapsed": false,
    "pycharm": {
     "name": "#%%\n"
    }
   }
  },
  {
   "cell_type": "code",
   "execution_count": 53,
   "outputs": [
    {
     "name": "stdout",
     "output_type": "stream",
     "text": [
      "Processing \" AL0 0 offwind-ac \" ( 1 / 150 )\n",
      "Create Trainings data for region:  AL0  with energy type:  EnergyType.OFFWIND_AC\n",
      "Fit Regression Model for region  AL0\n",
      "Iteration with best validation score:  None\n",
      "{'Base': DecisionTreeRegressor(criterion='friedman_mse', max_depth=2), 'col_sample': 0.5, 'learning_rate': 0.01, 'minibatch_frac': 1, 'n_estimators': 500}\n",
      "Predict capacity factors for region  AL0\n",
      "AL0 0 offwind-ac  with q = 0.4\n",
      "-------------------------------------------------------------------\n",
      "\n"
     ]
    },
    {
     "data": {
      "text/plain": "    mean_fit_time  std_fit_time  mean_score_time  std_score_time  \\\n0        7.476575      0.038760         0.130571        0.003461   \n1        1.452287      0.026553         0.026412        0.003183   \n2       16.551012      1.142120         0.253084        0.013223   \n3        5.577392      0.066627         0.131570        0.011070   \n4        1.138195      0.034396         0.029016        0.003867   \n5       11.948129      0.105563         0.262756        0.026237   \n6        0.010795      0.000745         0.002108        0.000644   \n7        0.010540      0.001965         0.002108        0.000411   \n8        0.011656      0.001736         0.002111        0.000213   \n9        6.308127      0.075597         0.130692        0.010460   \n10       1.160267      0.046486         0.028892        0.003066   \n11      11.293295      0.133626         0.254321        0.015266   \n12       8.937031      0.081948         0.165190        0.004276   \n13       1.964035      0.008536         0.037448        0.002986   \n14      19.358371      0.591676         0.263499        0.006535   \n15       6.262491      0.044636         0.146320        0.010421   \n16       1.257483      0.010761         0.030380        0.004316   \n17      14.183606      0.055048         0.286812        0.009295   \n18       0.008804      0.001622         0.002232        0.000429   \n19       0.009299      0.002747         0.002239        0.000551   \n20       0.010788      0.002440         0.002356        0.000411   \n21       5.799476      0.029088         0.129953        0.006205   \n22       1.181719      0.022785         0.028644        0.003881   \n23      11.405513      0.078138         0.269947        0.022628   \n24       9.216789      0.052466         0.146071        0.004068   \n25       1.903895      0.031287         0.034347        0.001420   \n26      19.658822      0.461093         0.275528        0.008282   \n27       6.334288      0.038502         0.139995        0.004287   \n28       1.263808      0.028778         0.031495        0.002728   \n29      13.883410      0.164180         0.291765        0.013814   \n30       0.008563      0.001727         0.001879        0.000209   \n31       0.012530      0.003082         0.002494        0.000353   \n32       0.010539      0.003973         0.002356        0.000215   \n33       5.905123      0.201107         0.234608        0.046507   \n34       1.468655      0.023847         0.032239        0.005858   \n35      12.456046      0.116046         0.253091        0.036989   \n\n                                           param_Base param_col_sample  \\\n0   DecisionTreeRegressor(criterion='friedman_mse'...                1   \n1   DecisionTreeRegressor(criterion='friedman_mse'...                1   \n2   DecisionTreeRegressor(criterion='friedman_mse'...                1   \n3   DecisionTreeRegressor(criterion='friedman_mse'...                1   \n4   DecisionTreeRegressor(criterion='friedman_mse'...                1   \n5   DecisionTreeRegressor(criterion='friedman_mse'...                1   \n6   DecisionTreeRegressor(criterion='friedman_mse'...              0.5   \n7   DecisionTreeRegressor(criterion='friedman_mse'...              0.5   \n8   DecisionTreeRegressor(criterion='friedman_mse'...              0.5   \n9   DecisionTreeRegressor(criterion='friedman_mse'...              0.5   \n10  DecisionTreeRegressor(criterion='friedman_mse'...              0.5   \n11  DecisionTreeRegressor(criterion='friedman_mse'...              0.5   \n12  DecisionTreeRegressor(criterion='friedman_mse'...                1   \n13  DecisionTreeRegressor(criterion='friedman_mse'...                1   \n14  DecisionTreeRegressor(criterion='friedman_mse'...                1   \n15  DecisionTreeRegressor(criterion='friedman_mse'...                1   \n16  DecisionTreeRegressor(criterion='friedman_mse'...                1   \n17  DecisionTreeRegressor(criterion='friedman_mse'...                1   \n18  DecisionTreeRegressor(criterion='friedman_mse'...              0.5   \n19  DecisionTreeRegressor(criterion='friedman_mse'...              0.5   \n20  DecisionTreeRegressor(criterion='friedman_mse'...              0.5   \n21  DecisionTreeRegressor(criterion='friedman_mse'...              0.5   \n22  DecisionTreeRegressor(criterion='friedman_mse'...              0.5   \n23  DecisionTreeRegressor(criterion='friedman_mse'...              0.5   \n24  DecisionTreeRegressor(criterion='friedman_mse'...                1   \n25  DecisionTreeRegressor(criterion='friedman_mse'...                1   \n26  DecisionTreeRegressor(criterion='friedman_mse'...                1   \n27  DecisionTreeRegressor(criterion='friedman_mse'...                1   \n28  DecisionTreeRegressor(criterion='friedman_mse'...                1   \n29  DecisionTreeRegressor(criterion='friedman_mse'...                1   \n30  DecisionTreeRegressor(criterion='friedman_mse'...              0.5   \n31  DecisionTreeRegressor(criterion='friedman_mse'...              0.5   \n32  DecisionTreeRegressor(criterion='friedman_mse'...              0.5   \n33  DecisionTreeRegressor(criterion='friedman_mse'...              0.5   \n34  DecisionTreeRegressor(criterion='friedman_mse'...              0.5   \n35  DecisionTreeRegressor(criterion='friedman_mse'...              0.5   \n\n   param_learning_rate param_minibatch_frac param_n_estimators  \\\n0                 0.01                    1                500   \n1                 0.01                    1                100   \n2                 0.01                    1               1000   \n3                 0.01                  0.5                500   \n4                 0.01                  0.5                100   \n5                 0.01                  0.5               1000   \n6                 0.01                    1                500   \n7                 0.01                    1                100   \n8                 0.01                    1               1000   \n9                 0.01                  0.5                500   \n10                0.01                  0.5                100   \n11                0.01                  0.5               1000   \n12                0.01                    1                500   \n13                0.01                    1                100   \n14                0.01                    1               1000   \n15                0.01                  0.5                500   \n16                0.01                  0.5                100   \n17                0.01                  0.5               1000   \n18                0.01                    1                500   \n19                0.01                    1                100   \n20                0.01                    1               1000   \n21                0.01                  0.5                500   \n22                0.01                  0.5                100   \n23                0.01                  0.5               1000   \n24                0.01                    1                500   \n25                0.01                    1                100   \n26                0.01                    1               1000   \n27                0.01                  0.5                500   \n28                0.01                  0.5                100   \n29                0.01                  0.5               1000   \n30                0.01                    1                500   \n31                0.01                    1                100   \n32                0.01                    1               1000   \n33                0.01                  0.5                500   \n34                0.01                  0.5                100   \n35                0.01                  0.5               1000   \n\n                                               params  split0_test_score  \\\n0   {'Base': DecisionTreeRegressor(criterion='frie...          -2.280053   \n1   {'Base': DecisionTreeRegressor(criterion='frie...          -1.227174   \n2   {'Base': DecisionTreeRegressor(criterion='frie...          -2.288803   \n3   {'Base': DecisionTreeRegressor(criterion='frie...          -2.239374   \n4   {'Base': DecisionTreeRegressor(criterion='frie...          -1.235704   \n5   {'Base': DecisionTreeRegressor(criterion='frie...          -2.245818   \n6   {'Base': DecisionTreeRegressor(criterion='frie...          -0.204612   \n7   {'Base': DecisionTreeRegressor(criterion='frie...          -0.204612   \n8   {'Base': DecisionTreeRegressor(criterion='frie...          -0.204612   \n9   {'Base': DecisionTreeRegressor(criterion='frie...          -1.840040   \n10  {'Base': DecisionTreeRegressor(criterion='frie...          -0.948428   \n11  {'Base': DecisionTreeRegressor(criterion='frie...          -2.069339   \n12  {'Base': DecisionTreeRegressor(criterion='frie...          -2.290169   \n13  {'Base': DecisionTreeRegressor(criterion='frie...          -1.264080   \n14  {'Base': DecisionTreeRegressor(criterion='frie...          -2.288304   \n15  {'Base': DecisionTreeRegressor(criterion='frie...          -2.255899   \n16  {'Base': DecisionTreeRegressor(criterion='frie...          -1.265418   \n17  {'Base': DecisionTreeRegressor(criterion='frie...          -2.218783   \n18  {'Base': DecisionTreeRegressor(criterion='frie...          -0.204612   \n19  {'Base': DecisionTreeRegressor(criterion='frie...          -0.204612   \n20  {'Base': DecisionTreeRegressor(criterion='frie...          -0.204612   \n21  {'Base': DecisionTreeRegressor(criterion='frie...          -1.902766   \n22  {'Base': DecisionTreeRegressor(criterion='frie...          -0.999720   \n23  {'Base': DecisionTreeRegressor(criterion='frie...          -2.095214   \n24  {'Base': DecisionTreeRegressor(criterion='frie...          -2.269215   \n25  {'Base': DecisionTreeRegressor(criterion='frie...          -1.276429   \n26  {'Base': DecisionTreeRegressor(criterion='frie...          -2.259249   \n27  {'Base': DecisionTreeRegressor(criterion='frie...          -2.249960   \n28  {'Base': DecisionTreeRegressor(criterion='frie...          -1.277507   \n29  {'Base': DecisionTreeRegressor(criterion='frie...          -2.174411   \n30  {'Base': DecisionTreeRegressor(criterion='frie...          -0.204612   \n31  {'Base': DecisionTreeRegressor(criterion='frie...          -0.204612   \n32  {'Base': DecisionTreeRegressor(criterion='frie...          -0.204612   \n33  {'Base': DecisionTreeRegressor(criterion='frie...          -1.894270   \n34  {'Base': DecisionTreeRegressor(criterion='frie...          -1.005005   \n35  {'Base': DecisionTreeRegressor(criterion='frie...          -2.062409   \n\n    split1_test_score  split2_test_score  split3_test_score  mean_test_score  \\\n0           -2.239929          -2.199563          -2.269114        -2.247165   \n1           -1.217461          -1.224789          -1.222787        -1.223053   \n2           -2.272873          -2.210941          -2.314263        -2.271720   \n3           -2.207900          -2.173109          -2.229665        -2.212512   \n4           -1.226359          -1.215260          -1.226791        -1.226028   \n5           -2.232469          -2.204485          -2.262895        -2.236417   \n6           -0.172136          -0.120944          -0.130820        -0.157128   \n7           -0.172136          -0.120944          -0.130820        -0.157128   \n8           -0.172136          -0.120944          -0.130820        -0.157128   \n9           -1.794818          -1.658083          -1.722771        -1.753928   \n10          -0.950386          -0.926069          -0.930433        -0.938829   \n11          -2.021480          -1.907571          -1.968984        -1.991844   \n12          -2.277582          -2.232765          -2.306253        -2.276692   \n13          -1.258221          -1.249788          -1.248927        -1.255254   \n14          -2.287996          -2.237437          -2.324358        -2.284524   \n15          -2.236940          -2.197662          -2.255891        -2.236598   \n16          -1.259126          -1.251255          -1.254832        -1.257658   \n17          -2.232962          -2.198608          -2.257002        -2.226839   \n18          -0.172136          -0.120944          -0.130820        -0.157128   \n19          -0.172136          -0.120944          -0.130820        -0.157128   \n20          -0.172136          -0.120944          -0.130820        -0.157128   \n21          -1.859254          -1.717545          -1.773805        -1.813343   \n22          -0.995789          -0.967991          -0.967751        -0.982813   \n23          -2.060242          -1.939744          -1.996362        -2.022890   \n24          -2.258741          -2.212973          -2.281407        -2.255584   \n25          -1.269947          -1.259330          -1.264018        -1.267431   \n26          -2.247142          -2.191223          -2.267207        -2.241205   \n27          -2.244139          -2.206606          -2.263305        -2.241002   \n28          -1.267104          -1.261452          -1.265682        -1.267936   \n29          -2.200107          -2.155267          -2.217874        -2.186915   \n30          -0.172136          -0.120944          -0.130820        -0.157128   \n31          -0.172136          -0.120944          -0.130820        -0.157128   \n32          -0.172136          -0.120944          -0.130820        -0.157128   \n33          -1.852747          -1.704365          -1.763129        -1.803628   \n34          -1.002062          -0.974435          -0.979254        -0.990189   \n35          -2.035973          -1.904528          -1.954322        -1.989308   \n\n    std_test_score  rank_test_score  \n0         0.031152               32  \n1         0.003583               13  \n2         0.038070               34  \n3         0.025445               26  \n4         0.007250               14  \n5         0.021358               28  \n6         0.033472                1  \n7         0.033472                1  \n8         0.033472                1  \n9         0.069362               19  \n10        0.010712               10  \n11        0.060225               23  \n12        0.027321               35  \n13        0.006257               15  \n14        0.030945               36  \n15        0.023774               29  \n16        0.005276               16  \n17        0.021267               27  \n18        0.033472                1  \n19        0.033472                1  \n20        0.033472                1  \n21        0.072188               21  \n22        0.015006               11  \n23        0.059672               24  \n24        0.025876               33  \n25        0.006414               17  \n26        0.029729               31  \n27        0.021039               30  \n28        0.005904               18  \n29        0.023929               25  \n30        0.033472                1  \n31        0.033472                1  \n32        0.033472                1  \n33        0.074367               20  \n34        0.013493               12  \n35        0.063113               22  ",
      "text/html": "<div>\n<style scoped>\n    .dataframe tbody tr th:only-of-type {\n        vertical-align: middle;\n    }\n\n    .dataframe tbody tr th {\n        vertical-align: top;\n    }\n\n    .dataframe thead th {\n        text-align: right;\n    }\n</style>\n<table border=\"1\" class=\"dataframe\">\n  <thead>\n    <tr style=\"text-align: right;\">\n      <th></th>\n      <th>mean_fit_time</th>\n      <th>std_fit_time</th>\n      <th>mean_score_time</th>\n      <th>std_score_time</th>\n      <th>param_Base</th>\n      <th>param_col_sample</th>\n      <th>param_learning_rate</th>\n      <th>param_minibatch_frac</th>\n      <th>param_n_estimators</th>\n      <th>params</th>\n      <th>split0_test_score</th>\n      <th>split1_test_score</th>\n      <th>split2_test_score</th>\n      <th>split3_test_score</th>\n      <th>mean_test_score</th>\n      <th>std_test_score</th>\n      <th>rank_test_score</th>\n    </tr>\n  </thead>\n  <tbody>\n    <tr>\n      <th>0</th>\n      <td>7.476575</td>\n      <td>0.038760</td>\n      <td>0.130571</td>\n      <td>0.003461</td>\n      <td>DecisionTreeRegressor(criterion='friedman_mse'...</td>\n      <td>1</td>\n      <td>0.01</td>\n      <td>1</td>\n      <td>500</td>\n      <td>{'Base': DecisionTreeRegressor(criterion='frie...</td>\n      <td>-2.280053</td>\n      <td>-2.239929</td>\n      <td>-2.199563</td>\n      <td>-2.269114</td>\n      <td>-2.247165</td>\n      <td>0.031152</td>\n      <td>32</td>\n    </tr>\n    <tr>\n      <th>1</th>\n      <td>1.452287</td>\n      <td>0.026553</td>\n      <td>0.026412</td>\n      <td>0.003183</td>\n      <td>DecisionTreeRegressor(criterion='friedman_mse'...</td>\n      <td>1</td>\n      <td>0.01</td>\n      <td>1</td>\n      <td>100</td>\n      <td>{'Base': DecisionTreeRegressor(criterion='frie...</td>\n      <td>-1.227174</td>\n      <td>-1.217461</td>\n      <td>-1.224789</td>\n      <td>-1.222787</td>\n      <td>-1.223053</td>\n      <td>0.003583</td>\n      <td>13</td>\n    </tr>\n    <tr>\n      <th>2</th>\n      <td>16.551012</td>\n      <td>1.142120</td>\n      <td>0.253084</td>\n      <td>0.013223</td>\n      <td>DecisionTreeRegressor(criterion='friedman_mse'...</td>\n      <td>1</td>\n      <td>0.01</td>\n      <td>1</td>\n      <td>1000</td>\n      <td>{'Base': DecisionTreeRegressor(criterion='frie...</td>\n      <td>-2.288803</td>\n      <td>-2.272873</td>\n      <td>-2.210941</td>\n      <td>-2.314263</td>\n      <td>-2.271720</td>\n      <td>0.038070</td>\n      <td>34</td>\n    </tr>\n    <tr>\n      <th>3</th>\n      <td>5.577392</td>\n      <td>0.066627</td>\n      <td>0.131570</td>\n      <td>0.011070</td>\n      <td>DecisionTreeRegressor(criterion='friedman_mse'...</td>\n      <td>1</td>\n      <td>0.01</td>\n      <td>0.5</td>\n      <td>500</td>\n      <td>{'Base': DecisionTreeRegressor(criterion='frie...</td>\n      <td>-2.239374</td>\n      <td>-2.207900</td>\n      <td>-2.173109</td>\n      <td>-2.229665</td>\n      <td>-2.212512</td>\n      <td>0.025445</td>\n      <td>26</td>\n    </tr>\n    <tr>\n      <th>4</th>\n      <td>1.138195</td>\n      <td>0.034396</td>\n      <td>0.029016</td>\n      <td>0.003867</td>\n      <td>DecisionTreeRegressor(criterion='friedman_mse'...</td>\n      <td>1</td>\n      <td>0.01</td>\n      <td>0.5</td>\n      <td>100</td>\n      <td>{'Base': DecisionTreeRegressor(criterion='frie...</td>\n      <td>-1.235704</td>\n      <td>-1.226359</td>\n      <td>-1.215260</td>\n      <td>-1.226791</td>\n      <td>-1.226028</td>\n      <td>0.007250</td>\n      <td>14</td>\n    </tr>\n    <tr>\n      <th>5</th>\n      <td>11.948129</td>\n      <td>0.105563</td>\n      <td>0.262756</td>\n      <td>0.026237</td>\n      <td>DecisionTreeRegressor(criterion='friedman_mse'...</td>\n      <td>1</td>\n      <td>0.01</td>\n      <td>0.5</td>\n      <td>1000</td>\n      <td>{'Base': DecisionTreeRegressor(criterion='frie...</td>\n      <td>-2.245818</td>\n      <td>-2.232469</td>\n      <td>-2.204485</td>\n      <td>-2.262895</td>\n      <td>-2.236417</td>\n      <td>0.021358</td>\n      <td>28</td>\n    </tr>\n    <tr>\n      <th>6</th>\n      <td>0.010795</td>\n      <td>0.000745</td>\n      <td>0.002108</td>\n      <td>0.000644</td>\n      <td>DecisionTreeRegressor(criterion='friedman_mse'...</td>\n      <td>0.5</td>\n      <td>0.01</td>\n      <td>1</td>\n      <td>500</td>\n      <td>{'Base': DecisionTreeRegressor(criterion='frie...</td>\n      <td>-0.204612</td>\n      <td>-0.172136</td>\n      <td>-0.120944</td>\n      <td>-0.130820</td>\n      <td>-0.157128</td>\n      <td>0.033472</td>\n      <td>1</td>\n    </tr>\n    <tr>\n      <th>7</th>\n      <td>0.010540</td>\n      <td>0.001965</td>\n      <td>0.002108</td>\n      <td>0.000411</td>\n      <td>DecisionTreeRegressor(criterion='friedman_mse'...</td>\n      <td>0.5</td>\n      <td>0.01</td>\n      <td>1</td>\n      <td>100</td>\n      <td>{'Base': DecisionTreeRegressor(criterion='frie...</td>\n      <td>-0.204612</td>\n      <td>-0.172136</td>\n      <td>-0.120944</td>\n      <td>-0.130820</td>\n      <td>-0.157128</td>\n      <td>0.033472</td>\n      <td>1</td>\n    </tr>\n    <tr>\n      <th>8</th>\n      <td>0.011656</td>\n      <td>0.001736</td>\n      <td>0.002111</td>\n      <td>0.000213</td>\n      <td>DecisionTreeRegressor(criterion='friedman_mse'...</td>\n      <td>0.5</td>\n      <td>0.01</td>\n      <td>1</td>\n      <td>1000</td>\n      <td>{'Base': DecisionTreeRegressor(criterion='frie...</td>\n      <td>-0.204612</td>\n      <td>-0.172136</td>\n      <td>-0.120944</td>\n      <td>-0.130820</td>\n      <td>-0.157128</td>\n      <td>0.033472</td>\n      <td>1</td>\n    </tr>\n    <tr>\n      <th>9</th>\n      <td>6.308127</td>\n      <td>0.075597</td>\n      <td>0.130692</td>\n      <td>0.010460</td>\n      <td>DecisionTreeRegressor(criterion='friedman_mse'...</td>\n      <td>0.5</td>\n      <td>0.01</td>\n      <td>0.5</td>\n      <td>500</td>\n      <td>{'Base': DecisionTreeRegressor(criterion='frie...</td>\n      <td>-1.840040</td>\n      <td>-1.794818</td>\n      <td>-1.658083</td>\n      <td>-1.722771</td>\n      <td>-1.753928</td>\n      <td>0.069362</td>\n      <td>19</td>\n    </tr>\n    <tr>\n      <th>10</th>\n      <td>1.160267</td>\n      <td>0.046486</td>\n      <td>0.028892</td>\n      <td>0.003066</td>\n      <td>DecisionTreeRegressor(criterion='friedman_mse'...</td>\n      <td>0.5</td>\n      <td>0.01</td>\n      <td>0.5</td>\n      <td>100</td>\n      <td>{'Base': DecisionTreeRegressor(criterion='frie...</td>\n      <td>-0.948428</td>\n      <td>-0.950386</td>\n      <td>-0.926069</td>\n      <td>-0.930433</td>\n      <td>-0.938829</td>\n      <td>0.010712</td>\n      <td>10</td>\n    </tr>\n    <tr>\n      <th>11</th>\n      <td>11.293295</td>\n      <td>0.133626</td>\n      <td>0.254321</td>\n      <td>0.015266</td>\n      <td>DecisionTreeRegressor(criterion='friedman_mse'...</td>\n      <td>0.5</td>\n      <td>0.01</td>\n      <td>0.5</td>\n      <td>1000</td>\n      <td>{'Base': DecisionTreeRegressor(criterion='frie...</td>\n      <td>-2.069339</td>\n      <td>-2.021480</td>\n      <td>-1.907571</td>\n      <td>-1.968984</td>\n      <td>-1.991844</td>\n      <td>0.060225</td>\n      <td>23</td>\n    </tr>\n    <tr>\n      <th>12</th>\n      <td>8.937031</td>\n      <td>0.081948</td>\n      <td>0.165190</td>\n      <td>0.004276</td>\n      <td>DecisionTreeRegressor(criterion='friedman_mse'...</td>\n      <td>1</td>\n      <td>0.01</td>\n      <td>1</td>\n      <td>500</td>\n      <td>{'Base': DecisionTreeRegressor(criterion='frie...</td>\n      <td>-2.290169</td>\n      <td>-2.277582</td>\n      <td>-2.232765</td>\n      <td>-2.306253</td>\n      <td>-2.276692</td>\n      <td>0.027321</td>\n      <td>35</td>\n    </tr>\n    <tr>\n      <th>13</th>\n      <td>1.964035</td>\n      <td>0.008536</td>\n      <td>0.037448</td>\n      <td>0.002986</td>\n      <td>DecisionTreeRegressor(criterion='friedman_mse'...</td>\n      <td>1</td>\n      <td>0.01</td>\n      <td>1</td>\n      <td>100</td>\n      <td>{'Base': DecisionTreeRegressor(criterion='frie...</td>\n      <td>-1.264080</td>\n      <td>-1.258221</td>\n      <td>-1.249788</td>\n      <td>-1.248927</td>\n      <td>-1.255254</td>\n      <td>0.006257</td>\n      <td>15</td>\n    </tr>\n    <tr>\n      <th>14</th>\n      <td>19.358371</td>\n      <td>0.591676</td>\n      <td>0.263499</td>\n      <td>0.006535</td>\n      <td>DecisionTreeRegressor(criterion='friedman_mse'...</td>\n      <td>1</td>\n      <td>0.01</td>\n      <td>1</td>\n      <td>1000</td>\n      <td>{'Base': DecisionTreeRegressor(criterion='frie...</td>\n      <td>-2.288304</td>\n      <td>-2.287996</td>\n      <td>-2.237437</td>\n      <td>-2.324358</td>\n      <td>-2.284524</td>\n      <td>0.030945</td>\n      <td>36</td>\n    </tr>\n    <tr>\n      <th>15</th>\n      <td>6.262491</td>\n      <td>0.044636</td>\n      <td>0.146320</td>\n      <td>0.010421</td>\n      <td>DecisionTreeRegressor(criterion='friedman_mse'...</td>\n      <td>1</td>\n      <td>0.01</td>\n      <td>0.5</td>\n      <td>500</td>\n      <td>{'Base': DecisionTreeRegressor(criterion='frie...</td>\n      <td>-2.255899</td>\n      <td>-2.236940</td>\n      <td>-2.197662</td>\n      <td>-2.255891</td>\n      <td>-2.236598</td>\n      <td>0.023774</td>\n      <td>29</td>\n    </tr>\n    <tr>\n      <th>16</th>\n      <td>1.257483</td>\n      <td>0.010761</td>\n      <td>0.030380</td>\n      <td>0.004316</td>\n      <td>DecisionTreeRegressor(criterion='friedman_mse'...</td>\n      <td>1</td>\n      <td>0.01</td>\n      <td>0.5</td>\n      <td>100</td>\n      <td>{'Base': DecisionTreeRegressor(criterion='frie...</td>\n      <td>-1.265418</td>\n      <td>-1.259126</td>\n      <td>-1.251255</td>\n      <td>-1.254832</td>\n      <td>-1.257658</td>\n      <td>0.005276</td>\n      <td>16</td>\n    </tr>\n    <tr>\n      <th>17</th>\n      <td>14.183606</td>\n      <td>0.055048</td>\n      <td>0.286812</td>\n      <td>0.009295</td>\n      <td>DecisionTreeRegressor(criterion='friedman_mse'...</td>\n      <td>1</td>\n      <td>0.01</td>\n      <td>0.5</td>\n      <td>1000</td>\n      <td>{'Base': DecisionTreeRegressor(criterion='frie...</td>\n      <td>-2.218783</td>\n      <td>-2.232962</td>\n      <td>-2.198608</td>\n      <td>-2.257002</td>\n      <td>-2.226839</td>\n      <td>0.021267</td>\n      <td>27</td>\n    </tr>\n    <tr>\n      <th>18</th>\n      <td>0.008804</td>\n      <td>0.001622</td>\n      <td>0.002232</td>\n      <td>0.000429</td>\n      <td>DecisionTreeRegressor(criterion='friedman_mse'...</td>\n      <td>0.5</td>\n      <td>0.01</td>\n      <td>1</td>\n      <td>500</td>\n      <td>{'Base': DecisionTreeRegressor(criterion='frie...</td>\n      <td>-0.204612</td>\n      <td>-0.172136</td>\n      <td>-0.120944</td>\n      <td>-0.130820</td>\n      <td>-0.157128</td>\n      <td>0.033472</td>\n      <td>1</td>\n    </tr>\n    <tr>\n      <th>19</th>\n      <td>0.009299</td>\n      <td>0.002747</td>\n      <td>0.002239</td>\n      <td>0.000551</td>\n      <td>DecisionTreeRegressor(criterion='friedman_mse'...</td>\n      <td>0.5</td>\n      <td>0.01</td>\n      <td>1</td>\n      <td>100</td>\n      <td>{'Base': DecisionTreeRegressor(criterion='frie...</td>\n      <td>-0.204612</td>\n      <td>-0.172136</td>\n      <td>-0.120944</td>\n      <td>-0.130820</td>\n      <td>-0.157128</td>\n      <td>0.033472</td>\n      <td>1</td>\n    </tr>\n    <tr>\n      <th>20</th>\n      <td>0.010788</td>\n      <td>0.002440</td>\n      <td>0.002356</td>\n      <td>0.000411</td>\n      <td>DecisionTreeRegressor(criterion='friedman_mse'...</td>\n      <td>0.5</td>\n      <td>0.01</td>\n      <td>1</td>\n      <td>1000</td>\n      <td>{'Base': DecisionTreeRegressor(criterion='frie...</td>\n      <td>-0.204612</td>\n      <td>-0.172136</td>\n      <td>-0.120944</td>\n      <td>-0.130820</td>\n      <td>-0.157128</td>\n      <td>0.033472</td>\n      <td>1</td>\n    </tr>\n    <tr>\n      <th>21</th>\n      <td>5.799476</td>\n      <td>0.029088</td>\n      <td>0.129953</td>\n      <td>0.006205</td>\n      <td>DecisionTreeRegressor(criterion='friedman_mse'...</td>\n      <td>0.5</td>\n      <td>0.01</td>\n      <td>0.5</td>\n      <td>500</td>\n      <td>{'Base': DecisionTreeRegressor(criterion='frie...</td>\n      <td>-1.902766</td>\n      <td>-1.859254</td>\n      <td>-1.717545</td>\n      <td>-1.773805</td>\n      <td>-1.813343</td>\n      <td>0.072188</td>\n      <td>21</td>\n    </tr>\n    <tr>\n      <th>22</th>\n      <td>1.181719</td>\n      <td>0.022785</td>\n      <td>0.028644</td>\n      <td>0.003881</td>\n      <td>DecisionTreeRegressor(criterion='friedman_mse'...</td>\n      <td>0.5</td>\n      <td>0.01</td>\n      <td>0.5</td>\n      <td>100</td>\n      <td>{'Base': DecisionTreeRegressor(criterion='frie...</td>\n      <td>-0.999720</td>\n      <td>-0.995789</td>\n      <td>-0.967991</td>\n      <td>-0.967751</td>\n      <td>-0.982813</td>\n      <td>0.015006</td>\n      <td>11</td>\n    </tr>\n    <tr>\n      <th>23</th>\n      <td>11.405513</td>\n      <td>0.078138</td>\n      <td>0.269947</td>\n      <td>0.022628</td>\n      <td>DecisionTreeRegressor(criterion='friedman_mse'...</td>\n      <td>0.5</td>\n      <td>0.01</td>\n      <td>0.5</td>\n      <td>1000</td>\n      <td>{'Base': DecisionTreeRegressor(criterion='frie...</td>\n      <td>-2.095214</td>\n      <td>-2.060242</td>\n      <td>-1.939744</td>\n      <td>-1.996362</td>\n      <td>-2.022890</td>\n      <td>0.059672</td>\n      <td>24</td>\n    </tr>\n    <tr>\n      <th>24</th>\n      <td>9.216789</td>\n      <td>0.052466</td>\n      <td>0.146071</td>\n      <td>0.004068</td>\n      <td>DecisionTreeRegressor(criterion='friedman_mse'...</td>\n      <td>1</td>\n      <td>0.01</td>\n      <td>1</td>\n      <td>500</td>\n      <td>{'Base': DecisionTreeRegressor(criterion='frie...</td>\n      <td>-2.269215</td>\n      <td>-2.258741</td>\n      <td>-2.212973</td>\n      <td>-2.281407</td>\n      <td>-2.255584</td>\n      <td>0.025876</td>\n      <td>33</td>\n    </tr>\n    <tr>\n      <th>25</th>\n      <td>1.903895</td>\n      <td>0.031287</td>\n      <td>0.034347</td>\n      <td>0.001420</td>\n      <td>DecisionTreeRegressor(criterion='friedman_mse'...</td>\n      <td>1</td>\n      <td>0.01</td>\n      <td>1</td>\n      <td>100</td>\n      <td>{'Base': DecisionTreeRegressor(criterion='frie...</td>\n      <td>-1.276429</td>\n      <td>-1.269947</td>\n      <td>-1.259330</td>\n      <td>-1.264018</td>\n      <td>-1.267431</td>\n      <td>0.006414</td>\n      <td>17</td>\n    </tr>\n    <tr>\n      <th>26</th>\n      <td>19.658822</td>\n      <td>0.461093</td>\n      <td>0.275528</td>\n      <td>0.008282</td>\n      <td>DecisionTreeRegressor(criterion='friedman_mse'...</td>\n      <td>1</td>\n      <td>0.01</td>\n      <td>1</td>\n      <td>1000</td>\n      <td>{'Base': DecisionTreeRegressor(criterion='frie...</td>\n      <td>-2.259249</td>\n      <td>-2.247142</td>\n      <td>-2.191223</td>\n      <td>-2.267207</td>\n      <td>-2.241205</td>\n      <td>0.029729</td>\n      <td>31</td>\n    </tr>\n    <tr>\n      <th>27</th>\n      <td>6.334288</td>\n      <td>0.038502</td>\n      <td>0.139995</td>\n      <td>0.004287</td>\n      <td>DecisionTreeRegressor(criterion='friedman_mse'...</td>\n      <td>1</td>\n      <td>0.01</td>\n      <td>0.5</td>\n      <td>500</td>\n      <td>{'Base': DecisionTreeRegressor(criterion='frie...</td>\n      <td>-2.249960</td>\n      <td>-2.244139</td>\n      <td>-2.206606</td>\n      <td>-2.263305</td>\n      <td>-2.241002</td>\n      <td>0.021039</td>\n      <td>30</td>\n    </tr>\n    <tr>\n      <th>28</th>\n      <td>1.263808</td>\n      <td>0.028778</td>\n      <td>0.031495</td>\n      <td>0.002728</td>\n      <td>DecisionTreeRegressor(criterion='friedman_mse'...</td>\n      <td>1</td>\n      <td>0.01</td>\n      <td>0.5</td>\n      <td>100</td>\n      <td>{'Base': DecisionTreeRegressor(criterion='frie...</td>\n      <td>-1.277507</td>\n      <td>-1.267104</td>\n      <td>-1.261452</td>\n      <td>-1.265682</td>\n      <td>-1.267936</td>\n      <td>0.005904</td>\n      <td>18</td>\n    </tr>\n    <tr>\n      <th>29</th>\n      <td>13.883410</td>\n      <td>0.164180</td>\n      <td>0.291765</td>\n      <td>0.013814</td>\n      <td>DecisionTreeRegressor(criterion='friedman_mse'...</td>\n      <td>1</td>\n      <td>0.01</td>\n      <td>0.5</td>\n      <td>1000</td>\n      <td>{'Base': DecisionTreeRegressor(criterion='frie...</td>\n      <td>-2.174411</td>\n      <td>-2.200107</td>\n      <td>-2.155267</td>\n      <td>-2.217874</td>\n      <td>-2.186915</td>\n      <td>0.023929</td>\n      <td>25</td>\n    </tr>\n    <tr>\n      <th>30</th>\n      <td>0.008563</td>\n      <td>0.001727</td>\n      <td>0.001879</td>\n      <td>0.000209</td>\n      <td>DecisionTreeRegressor(criterion='friedman_mse'...</td>\n      <td>0.5</td>\n      <td>0.01</td>\n      <td>1</td>\n      <td>500</td>\n      <td>{'Base': DecisionTreeRegressor(criterion='frie...</td>\n      <td>-0.204612</td>\n      <td>-0.172136</td>\n      <td>-0.120944</td>\n      <td>-0.130820</td>\n      <td>-0.157128</td>\n      <td>0.033472</td>\n      <td>1</td>\n    </tr>\n    <tr>\n      <th>31</th>\n      <td>0.012530</td>\n      <td>0.003082</td>\n      <td>0.002494</td>\n      <td>0.000353</td>\n      <td>DecisionTreeRegressor(criterion='friedman_mse'...</td>\n      <td>0.5</td>\n      <td>0.01</td>\n      <td>1</td>\n      <td>100</td>\n      <td>{'Base': DecisionTreeRegressor(criterion='frie...</td>\n      <td>-0.204612</td>\n      <td>-0.172136</td>\n      <td>-0.120944</td>\n      <td>-0.130820</td>\n      <td>-0.157128</td>\n      <td>0.033472</td>\n      <td>1</td>\n    </tr>\n    <tr>\n      <th>32</th>\n      <td>0.010539</td>\n      <td>0.003973</td>\n      <td>0.002356</td>\n      <td>0.000215</td>\n      <td>DecisionTreeRegressor(criterion='friedman_mse'...</td>\n      <td>0.5</td>\n      <td>0.01</td>\n      <td>1</td>\n      <td>1000</td>\n      <td>{'Base': DecisionTreeRegressor(criterion='frie...</td>\n      <td>-0.204612</td>\n      <td>-0.172136</td>\n      <td>-0.120944</td>\n      <td>-0.130820</td>\n      <td>-0.157128</td>\n      <td>0.033472</td>\n      <td>1</td>\n    </tr>\n    <tr>\n      <th>33</th>\n      <td>5.905123</td>\n      <td>0.201107</td>\n      <td>0.234608</td>\n      <td>0.046507</td>\n      <td>DecisionTreeRegressor(criterion='friedman_mse'...</td>\n      <td>0.5</td>\n      <td>0.01</td>\n      <td>0.5</td>\n      <td>500</td>\n      <td>{'Base': DecisionTreeRegressor(criterion='frie...</td>\n      <td>-1.894270</td>\n      <td>-1.852747</td>\n      <td>-1.704365</td>\n      <td>-1.763129</td>\n      <td>-1.803628</td>\n      <td>0.074367</td>\n      <td>20</td>\n    </tr>\n    <tr>\n      <th>34</th>\n      <td>1.468655</td>\n      <td>0.023847</td>\n      <td>0.032239</td>\n      <td>0.005858</td>\n      <td>DecisionTreeRegressor(criterion='friedman_mse'...</td>\n      <td>0.5</td>\n      <td>0.01</td>\n      <td>0.5</td>\n      <td>100</td>\n      <td>{'Base': DecisionTreeRegressor(criterion='frie...</td>\n      <td>-1.005005</td>\n      <td>-1.002062</td>\n      <td>-0.974435</td>\n      <td>-0.979254</td>\n      <td>-0.990189</td>\n      <td>0.013493</td>\n      <td>12</td>\n    </tr>\n    <tr>\n      <th>35</th>\n      <td>12.456046</td>\n      <td>0.116046</td>\n      <td>0.253091</td>\n      <td>0.036989</td>\n      <td>DecisionTreeRegressor(criterion='friedman_mse'...</td>\n      <td>0.5</td>\n      <td>0.01</td>\n      <td>0.5</td>\n      <td>1000</td>\n      <td>{'Base': DecisionTreeRegressor(criterion='frie...</td>\n      <td>-2.062409</td>\n      <td>-2.035973</td>\n      <td>-1.904528</td>\n      <td>-1.954322</td>\n      <td>-1.989308</td>\n      <td>0.063113</td>\n      <td>22</td>\n    </tr>\n  </tbody>\n</table>\n</div>"
     },
     "execution_count": 53,
     "metadata": {},
     "output_type": "execute_result"
    }
   ],
   "source": [
    "base1 = DecisionTreeRegressor(criterion='friedman_mse', max_depth=2)\n",
    "base2 = DecisionTreeRegressor(criterion='friedman_mse', max_depth=3)\n",
    "base3 = DecisionTreeRegressor(criterion='friedman_mse', max_depth=4)\n",
    "\n",
    "param_grid = {\n",
    "    'Base': [base1, base2, base3],\n",
    "    'n_estimators': [500, 100, 1000],\n",
    "    'learning_rate': [0.01],\n",
    "    'minibatch_frac': [1, 0.5],\n",
    "    'col_sample': [1, 0.5]\n",
    "}\n",
    "\n",
    "col_names = capfacts_columns[1:]\n",
    "\n",
    "new_columns_q40 = {}\n",
    "new_columns_q60 = {}\n",
    "\n",
    "cv_res = None\n",
    "\n",
    "i = 1\n",
    "for col in col_names:\n",
    "    print(\"Processing \\\"\", col, \"\\\" (\", i, \"/\", len(col_names), \")\")\n",
    "    i += 1\n",
    "    region_name, energy_type = parse_capfac_col(col)\n",
    "\n",
    "    if(energy_type == EnergyType.NOT_DEFINED):\n",
    "        print(\"Skipped column: \", col)\n",
    "        print(\"-------------------------------------------------------------------\")\n",
    "    elif(energy_type == EnergyType.ROR):\n",
    "        print(\"Skipped column: \", col)\n",
    "        print(\"-------------------------------------------------------------------\")\n",
    "    else:\n",
    "        print(\"Create Trainings data for region: \", region_name, \" with energy type: \", energy_type)\n",
    "\n",
    "        Y, X = create_training_data_for_col(col)\n",
    "        X_pred = shape_multi_feature_data(X)\n",
    "        X_train, X_test, Y_train, Y_test = train_test_split(shape_multi_feature_data(X), Y, test_size=0.25, random_state=42)\n",
    "\n",
    "        print(\"Fit Regression Model for region \", region_name)\n",
    "        # ngb = NGBRegressor(random_state=42, verbose=False).fit(X_train, Y_train)\n",
    "        ngb = NGBRegressor(Dist=Normal, Score=LogScore, random_state=42, verbose=False)\n",
    "        grid_search = GridSearchCV(ngb, param_grid=param_grid, n_jobs=4, cv=4)\n",
    "        grid_search.fit(X_train, Y_train)\n",
    "        print(\"Iteration with best validation score: \", ngb.best_val_loss_itr)\n",
    "        print(grid_search.best_params_)\n",
    "        cv_res = pd.DataFrame(grid_search.cv_results_)\n",
    "        # print(grid_search.cv_results_)\n",
    "\n",
    "\n",
    "        print(\"Predict capacity factors for region \", region_name)\n",
    "        # Y_preds = ngb.predict(X_pred, max_iter=ngb.best_val_loss_itr)\n",
    "        # Y_dists = ngb.pred_dist(X_pred, max_iter=ngb.best_val_loss_itr)\n",
    "\n",
    "        # Y_preds_q40 = Y_dists.ppf(0.4)\n",
    "        # new_columns_q40[col] = pd.Series(Y_preds_q40)\n",
    "        #\n",
    "        # Y_preds_q60 = Y_dists.ppf(0.6)\n",
    "        # new_columns_q60[col] = pd.Series(Y_preds_q60)\n",
    "\n",
    "        # print(capfacts_pred.head())\n",
    "        print(col, \" with q = 0.4\")\n",
    "\n",
    "        # print(\"Smallest value: \", new_columns_q40[col].min())\n",
    "        # print(\"Biggest value: \", new_columns_q40[col].max())\n",
    "        # print(\"#Negative Values: \", (new_columns_q40[col] < 0).sum())\n",
    "        # print(\"#Values > 1: \", (new_columns_q40[col] > 1).sum())\n",
    "        #\n",
    "        # print(\"\")\n",
    "        # print(col, \" with q = 0.6\")\n",
    "        # print(\"Smallest value: \", new_columns_q60[col].min())\n",
    "        # print(\"Biggest value: \", new_columns_q60[col].max())\n",
    "        # print(\"#Negative Values: \", (new_columns_q60[col] < 0).sum())\n",
    "        # print(\"#Values > 1: \", (new_columns_q60[col] > 1).sum())\n",
    "\n",
    "        print(\"-------------------------------------------------------------------\")\n",
    "\n",
    "        print(\"\")\n",
    "        break\n",
    "\n",
    "# new_columns_q40 = pd.DataFrame(new_columns_q40, index=capfacts_pred_q40.index)\n",
    "# capfacts_pred_q40 = pd.concat([capfacts_pred_q40, new_columns_q40], axis=1)\n",
    "# new_columns_q60 = pd.DataFrame(new_columns_q60, index=capfacts_pred_q60.index)\n",
    "# capfacts_pred_q60 = pd.concat([capfacts_pred_q60, new_columns_q60], axis=1)\n",
    "cv_res"
   ],
   "metadata": {
    "collapsed": false,
    "pycharm": {
     "name": "#%%\n"
    }
   }
  },
  {
   "cell_type": "code",
   "execution_count": 57,
   "outputs": [
    {
     "ename": "AttributeError",
     "evalue": "'GridSearchCV' object has no attribute 'pred_dist'",
     "output_type": "error",
     "traceback": [
      "\u001B[1;31m---------------------------------------------------------------------------\u001B[0m",
      "\u001B[1;31mAttributeError\u001B[0m                            Traceback (most recent call last)",
      "\u001B[1;32m~\\AppData\\Local\\Temp/ipykernel_4504/469447348.py\u001B[0m in \u001B[0;36m<module>\u001B[1;34m\u001B[0m\n\u001B[1;32m----> 1\u001B[1;33m \u001B[0mY_dists\u001B[0m \u001B[1;33m=\u001B[0m \u001B[0mgrid_search\u001B[0m\u001B[1;33m.\u001B[0m\u001B[0mpred_dist\u001B[0m\u001B[1;33m(\u001B[0m\u001B[0mX_pred\u001B[0m\u001B[1;33m)\u001B[0m\u001B[1;33m\u001B[0m\u001B[1;33m\u001B[0m\u001B[0m\n\u001B[0m\u001B[0;32m      2\u001B[0m \u001B[0mY_preds\u001B[0m \u001B[1;33m=\u001B[0m \u001B[0mgrid_search\u001B[0m\u001B[1;33m.\u001B[0m\u001B[0mpredict\u001B[0m\u001B[1;33m(\u001B[0m\u001B[0mX_pred\u001B[0m\u001B[1;33m)\u001B[0m\u001B[1;33m\u001B[0m\u001B[1;33m\u001B[0m\u001B[0m\n\u001B[0;32m      3\u001B[0m \u001B[1;33m\u001B[0m\u001B[0m\n\u001B[0;32m      4\u001B[0m \u001B[1;32mdef\u001B[0m \u001B[0mcoverage_fraction\u001B[0m\u001B[1;33m(\u001B[0m\u001B[0my\u001B[0m\u001B[1;33m,\u001B[0m \u001B[0my_low\u001B[0m\u001B[1;33m,\u001B[0m \u001B[0my_high\u001B[0m\u001B[1;33m)\u001B[0m\u001B[1;33m:\u001B[0m\u001B[1;33m\u001B[0m\u001B[1;33m\u001B[0m\u001B[0m\n\u001B[0;32m      5\u001B[0m     \"\"\"\n",
      "\u001B[1;31mAttributeError\u001B[0m: 'GridSearchCV' object has no attribute 'pred_dist'"
     ]
    }
   ],
   "source": [
    "Y_dists = grid_search.pred_dist(X_pred)\n",
    "Y_preds = grid_search.predict(X_pred)\n",
    "\n",
    "def coverage_fraction(y, y_low, y_high):\n",
    "    \"\"\"\n",
    "    :param y:\n",
    "    :param y_low:\n",
    "    :param y_high:\n",
    "    :return:\n",
    "    \"\"\"\n",
    "    return np.mean(np.logical_and(y >= y_low, y <= y_high))\n",
    "\n",
    "# 80% confidence intervall\n",
    "Y_preds_q10 = Y_dists.ppf(0.1)\n",
    "Y_preds_q90 = Y_dists.ppf(0.9)\n",
    "print(coverage_fraction(Y_test, Y_preds_q10, Y_preds_q90))\n",
    "\n",
    "# 90% confidence intervall\n",
    "Y_preds_q05 = Y_dists.ppf(0.05)\n",
    "Y_preds_q95 = Y_dists.ppf(0.95)\n",
    "print(coverage_fraction(Y_test, Y_preds_q05, Y_preds_q95))\n",
    "\n",
    "# Y_preds_q50 = Y_preds (point prediction)\n",
    "Y_preds_q50 = Y_dists.ppf(0.5)\n",
    "print(\"MSE: \" , mean_squared_error(Y_test, Y_preds))\n",
    "\n",
    "# Pinball loss for q=0.4\n",
    "Y_preds_q40 = Y_dists.ppf(0.4)\n",
    "print(\"PL q=0.4:\", mean_pinball_loss(Y_test, Y_preds_q40, alpha=0.4))\n",
    "\n",
    "# Pinball loss for q=0.6\n",
    "Y_preds_q60 = Y_dists.ppf(0.6)\n",
    "print(\"PL q=0.6: \", mean_pinball_loss(Y_test, Y_preds_q40, alpha=0.6))"
   ],
   "metadata": {
    "collapsed": false,
    "pycharm": {
     "name": "#%%\n"
    }
   }
  },
  {
   "cell_type": "code",
   "execution_count": 54,
   "outputs": [
    {
     "data": {
      "text/plain": "                 snapshot\n0     2013-01-01 00:00:00\n1     2013-01-01 01:00:00\n2     2013-01-01 02:00:00\n3     2013-01-01 03:00:00\n4     2013-01-01 04:00:00\n...                   ...\n8755  2013-12-31 19:00:00\n8756  2013-12-31 20:00:00\n8757  2013-12-31 21:00:00\n8758  2013-12-31 22:00:00\n8759  2013-12-31 23:00:00\n\n[8760 rows x 1 columns]",
      "text/html": "<div>\n<style scoped>\n    .dataframe tbody tr th:only-of-type {\n        vertical-align: middle;\n    }\n\n    .dataframe tbody tr th {\n        vertical-align: top;\n    }\n\n    .dataframe thead th {\n        text-align: right;\n    }\n</style>\n<table border=\"1\" class=\"dataframe\">\n  <thead>\n    <tr style=\"text-align: right;\">\n      <th></th>\n      <th>snapshot</th>\n    </tr>\n  </thead>\n  <tbody>\n    <tr>\n      <th>0</th>\n      <td>2013-01-01 00:00:00</td>\n    </tr>\n    <tr>\n      <th>1</th>\n      <td>2013-01-01 01:00:00</td>\n    </tr>\n    <tr>\n      <th>2</th>\n      <td>2013-01-01 02:00:00</td>\n    </tr>\n    <tr>\n      <th>3</th>\n      <td>2013-01-01 03:00:00</td>\n    </tr>\n    <tr>\n      <th>4</th>\n      <td>2013-01-01 04:00:00</td>\n    </tr>\n    <tr>\n      <th>...</th>\n      <td>...</td>\n    </tr>\n    <tr>\n      <th>8755</th>\n      <td>2013-12-31 19:00:00</td>\n    </tr>\n    <tr>\n      <th>8756</th>\n      <td>2013-12-31 20:00:00</td>\n    </tr>\n    <tr>\n      <th>8757</th>\n      <td>2013-12-31 21:00:00</td>\n    </tr>\n    <tr>\n      <th>8758</th>\n      <td>2013-12-31 22:00:00</td>\n    </tr>\n    <tr>\n      <th>8759</th>\n      <td>2013-12-31 23:00:00</td>\n    </tr>\n  </tbody>\n</table>\n<p>8760 rows × 1 columns</p>\n</div>"
     },
     "execution_count": 54,
     "metadata": {},
     "output_type": "execute_result"
    }
   ],
   "source": [
    "capfacts_pred_q40.to_csv('results/capfacts_pred_q40.csv')\n",
    "capfacts_pred_q60.to_csv('results/capfacts_pred_q60.csv')\n",
    "capfacts_pred_q40"
   ],
   "metadata": {
    "collapsed": false,
    "pycharm": {
     "name": "#%%\n"
    }
   }
  },
  {
   "cell_type": "code",
   "execution_count": 55,
   "outputs": [
    {
     "name": "stdout",
     "output_type": "stream",
     "text": [
      "Index([], dtype='object')\n"
     ]
    },
    {
     "data": {
      "text/plain": "                 snapshot\n0     2013-01-01 00:00:00\n1     2013-01-01 01:00:00\n2     2013-01-01 02:00:00\n3     2013-01-01 03:00:00\n4     2013-01-01 04:00:00\n...                   ...\n8755  2013-12-31 19:00:00\n8756  2013-12-31 20:00:00\n8757  2013-12-31 21:00:00\n8758  2013-12-31 22:00:00\n8759  2013-12-31 23:00:00\n\n[8760 rows x 1 columns]",
      "text/html": "<div>\n<style scoped>\n    .dataframe tbody tr th:only-of-type {\n        vertical-align: middle;\n    }\n\n    .dataframe tbody tr th {\n        vertical-align: top;\n    }\n\n    .dataframe thead th {\n        text-align: right;\n    }\n</style>\n<table border=\"1\" class=\"dataframe\">\n  <thead>\n    <tr style=\"text-align: right;\">\n      <th></th>\n      <th>snapshot</th>\n    </tr>\n  </thead>\n  <tbody>\n    <tr>\n      <th>0</th>\n      <td>2013-01-01 00:00:00</td>\n    </tr>\n    <tr>\n      <th>1</th>\n      <td>2013-01-01 01:00:00</td>\n    </tr>\n    <tr>\n      <th>2</th>\n      <td>2013-01-01 02:00:00</td>\n    </tr>\n    <tr>\n      <th>3</th>\n      <td>2013-01-01 03:00:00</td>\n    </tr>\n    <tr>\n      <th>4</th>\n      <td>2013-01-01 04:00:00</td>\n    </tr>\n    <tr>\n      <th>...</th>\n      <td>...</td>\n    </tr>\n    <tr>\n      <th>8755</th>\n      <td>2013-12-31 19:00:00</td>\n    </tr>\n    <tr>\n      <th>8756</th>\n      <td>2013-12-31 20:00:00</td>\n    </tr>\n    <tr>\n      <th>8757</th>\n      <td>2013-12-31 21:00:00</td>\n    </tr>\n    <tr>\n      <th>8758</th>\n      <td>2013-12-31 22:00:00</td>\n    </tr>\n    <tr>\n      <th>8759</th>\n      <td>2013-12-31 23:00:00</td>\n    </tr>\n  </tbody>\n</table>\n<p>8760 rows × 1 columns</p>\n</div>"
     },
     "execution_count": 55,
     "metadata": {},
     "output_type": "execute_result"
    }
   ],
   "source": [
    "cols_num = capfacts_pred_q40.select_dtypes(np.number).columns\n",
    "print(cols_num)\n",
    "\n",
    "capfacts_pred_q40[cols_num] = capfacts_pred_q40[cols_num].clip(lower=0, upper=1.02)\n",
    "capfacts_pred_q60[cols_num] = capfacts_pred_q60[cols_num].clip(lower=0, upper=1.02)\n",
    "\n",
    "# capfacts_pred_q40.iloc[:, 1:].clip(lower=0, upper=1.02)\n",
    "# capfacts_pred_q60.iloc[:, 1:].clip(lower=0, upper=1.02)\n",
    "\n",
    "capfacts_pred_q40.to_csv('results/capfacts_pred_q40_clipped.csv')\n",
    "capfacts_pred_q60.to_csv('results/capfacts_pred_q60_clipped.csv')\n",
    "\n",
    "# Alles klar, danke euch. Dann werde ich das auf [0, 1.02] beschränken\n",
    "capfacts_pred_q40"
   ],
   "metadata": {
    "collapsed": false,
    "pycharm": {
     "name": "#%%\n"
    }
   }
  }
 ],
 "metadata": {
  "kernelspec": {
   "display_name": "Python 3",
   "language": "python",
   "name": "python3"
  },
  "language_info": {
   "codemirror_mode": {
    "name": "ipython",
    "version": 2
   },
   "file_extension": ".py",
   "mimetype": "text/x-python",
   "name": "python",
   "nbconvert_exporter": "python",
   "pygments_lexer": "ipython2",
   "version": "2.7.6"
  }
 },
 "nbformat": 4,
 "nbformat_minor": 0
}