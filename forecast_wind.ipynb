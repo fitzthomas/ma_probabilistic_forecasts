{
 "cells": [
  {
   "cell_type": "code",
   "execution_count": 78,
   "outputs": [],
   "source": [
    "# Wind Capacity Prediction"
   ],
   "metadata": {
    "collapsed": false,
    "pycharm": {
     "name": "#%%\n"
    }
   }
  },
  {
   "cell_type": "code",
   "execution_count": 79,
   "outputs": [],
   "source": [
    "import numpy as np\n",
    "import pandas as pd\n",
    "import xarray as xr\n",
    "from enum import Enum, auto\n",
    "from shapely.geometry import Point\n",
    "import matplotlib.pyplot as plt\n",
    "\n",
    "paths = {\"era5_eu_2013\": \"resources/europe-2013-era5.nc\",\n",
    "         \"era5_tutorial\": \"resources/europe-2013-era5-tutorial.nc\",\n",
    "         \"offshore_shape\": \"resources/regions_offshore_elec_s_37.geojson\",\n",
    "         \"onshore_shape\": \"resources/regions_onshore_elec_s_37.geojson\",\n",
    "         \"capfacs\": \"resources/capfacs_37.csv\",\n",
    "         \"era5_regions\": \"resources/europe-2013-era5-regions.nc\"}"
   ],
   "metadata": {
    "collapsed": false,
    "pycharm": {
     "name": "#%%\n"
    }
   }
  },
  {
   "cell_type": "code",
   "execution_count": 80,
   "outputs": [
    {
     "data": {
      "text/plain": "<xarray.Dataset>\nDimensions:           (region: 65, time: 8760)\nCoordinates:\n  * region            (region) object 'AL0 0 on' 'AT0 0 on' ... 'SI0 0 off'\n  * time              (time) datetime64[ns] 2013-01-01 ... 2013-12-31T23:00:00\nData variables:\n    height            (region, time) float64 ...\n    wnd100m           (region, time) float64 ...\n    roughness         (region, time) float64 ...\n    influx_toa        (region, time) float64 ...\n    influx_direct     (region, time) float64 ...\n    influx_diffuse    (region, time) float64 ...\n    albedo            (region, time) float64 ...\n    temperature       (region, time) float64 ...\n    soil_temperature  (region, time) float64 ...\n    runoff            (region, time) float64 ...\nAttributes:\n    description:  Era5 data with mean value of the coordinates within a region",
      "text/html": "<div><svg style=\"position: absolute; width: 0; height: 0; overflow: hidden\">\n<defs>\n<symbol id=\"icon-database\" viewBox=\"0 0 32 32\">\n<path d=\"M16 0c-8.837 0-16 2.239-16 5v4c0 2.761 7.163 5 16 5s16-2.239 16-5v-4c0-2.761-7.163-5-16-5z\"></path>\n<path d=\"M16 17c-8.837 0-16-2.239-16-5v6c0 2.761 7.163 5 16 5s16-2.239 16-5v-6c0 2.761-7.163 5-16 5z\"></path>\n<path d=\"M16 26c-8.837 0-16-2.239-16-5v6c0 2.761 7.163 5 16 5s16-2.239 16-5v-6c0 2.761-7.163 5-16 5z\"></path>\n</symbol>\n<symbol id=\"icon-file-text2\" viewBox=\"0 0 32 32\">\n<path d=\"M28.681 7.159c-0.694-0.947-1.662-2.053-2.724-3.116s-2.169-2.030-3.116-2.724c-1.612-1.182-2.393-1.319-2.841-1.319h-15.5c-1.378 0-2.5 1.121-2.5 2.5v27c0 1.378 1.122 2.5 2.5 2.5h23c1.378 0 2.5-1.122 2.5-2.5v-19.5c0-0.448-0.137-1.23-1.319-2.841zM24.543 5.457c0.959 0.959 1.712 1.825 2.268 2.543h-4.811v-4.811c0.718 0.556 1.584 1.309 2.543 2.268zM28 29.5c0 0.271-0.229 0.5-0.5 0.5h-23c-0.271 0-0.5-0.229-0.5-0.5v-27c0-0.271 0.229-0.5 0.5-0.5 0 0 15.499-0 15.5 0v7c0 0.552 0.448 1 1 1h7v19.5z\"></path>\n<path d=\"M23 26h-14c-0.552 0-1-0.448-1-1s0.448-1 1-1h14c0.552 0 1 0.448 1 1s-0.448 1-1 1z\"></path>\n<path d=\"M23 22h-14c-0.552 0-1-0.448-1-1s0.448-1 1-1h14c0.552 0 1 0.448 1 1s-0.448 1-1 1z\"></path>\n<path d=\"M23 18h-14c-0.552 0-1-0.448-1-1s0.448-1 1-1h14c0.552 0 1 0.448 1 1s-0.448 1-1 1z\"></path>\n</symbol>\n</defs>\n</svg>\n<style>/* CSS stylesheet for displaying xarray objects in jupyterlab.\n *\n */\n\n:root {\n  --xr-font-color0: var(--jp-content-font-color0, rgba(0, 0, 0, 1));\n  --xr-font-color2: var(--jp-content-font-color2, rgba(0, 0, 0, 0.54));\n  --xr-font-color3: var(--jp-content-font-color3, rgba(0, 0, 0, 0.38));\n  --xr-border-color: var(--jp-border-color2, #e0e0e0);\n  --xr-disabled-color: var(--jp-layout-color3, #bdbdbd);\n  --xr-background-color: var(--jp-layout-color0, white);\n  --xr-background-color-row-even: var(--jp-layout-color1, white);\n  --xr-background-color-row-odd: var(--jp-layout-color2, #eeeeee);\n}\n\nhtml[theme=dark],\nbody.vscode-dark {\n  --xr-font-color0: rgba(255, 255, 255, 1);\n  --xr-font-color2: rgba(255, 255, 255, 0.54);\n  --xr-font-color3: rgba(255, 255, 255, 0.38);\n  --xr-border-color: #1F1F1F;\n  --xr-disabled-color: #515151;\n  --xr-background-color: #111111;\n  --xr-background-color-row-even: #111111;\n  --xr-background-color-row-odd: #313131;\n}\n\n.xr-wrap {\n  display: block !important;\n  min-width: 300px;\n  max-width: 700px;\n}\n\n.xr-text-repr-fallback {\n  /* fallback to plain text repr when CSS is not injected (untrusted notebook) */\n  display: none;\n}\n\n.xr-header {\n  padding-top: 6px;\n  padding-bottom: 6px;\n  margin-bottom: 4px;\n  border-bottom: solid 1px var(--xr-border-color);\n}\n\n.xr-header > div,\n.xr-header > ul {\n  display: inline;\n  margin-top: 0;\n  margin-bottom: 0;\n}\n\n.xr-obj-type,\n.xr-array-name {\n  margin-left: 2px;\n  margin-right: 10px;\n}\n\n.xr-obj-type {\n  color: var(--xr-font-color2);\n}\n\n.xr-sections {\n  padding-left: 0 !important;\n  display: grid;\n  grid-template-columns: 150px auto auto 1fr 20px 20px;\n}\n\n.xr-section-item {\n  display: contents;\n}\n\n.xr-section-item input {\n  display: none;\n}\n\n.xr-section-item input + label {\n  color: var(--xr-disabled-color);\n}\n\n.xr-section-item input:enabled + label {\n  cursor: pointer;\n  color: var(--xr-font-color2);\n}\n\n.xr-section-item input:enabled + label:hover {\n  color: var(--xr-font-color0);\n}\n\n.xr-section-summary {\n  grid-column: 1;\n  color: var(--xr-font-color2);\n  font-weight: 500;\n}\n\n.xr-section-summary > span {\n  display: inline-block;\n  padding-left: 0.5em;\n}\n\n.xr-section-summary-in:disabled + label {\n  color: var(--xr-font-color2);\n}\n\n.xr-section-summary-in + label:before {\n  display: inline-block;\n  content: '►';\n  font-size: 11px;\n  width: 15px;\n  text-align: center;\n}\n\n.xr-section-summary-in:disabled + label:before {\n  color: var(--xr-disabled-color);\n}\n\n.xr-section-summary-in:checked + label:before {\n  content: '▼';\n}\n\n.xr-section-summary-in:checked + label > span {\n  display: none;\n}\n\n.xr-section-summary,\n.xr-section-inline-details {\n  padding-top: 4px;\n  padding-bottom: 4px;\n}\n\n.xr-section-inline-details {\n  grid-column: 2 / -1;\n}\n\n.xr-section-details {\n  display: none;\n  grid-column: 1 / -1;\n  margin-bottom: 5px;\n}\n\n.xr-section-summary-in:checked ~ .xr-section-details {\n  display: contents;\n}\n\n.xr-array-wrap {\n  grid-column: 1 / -1;\n  display: grid;\n  grid-template-columns: 20px auto;\n}\n\n.xr-array-wrap > label {\n  grid-column: 1;\n  vertical-align: top;\n}\n\n.xr-preview {\n  color: var(--xr-font-color3);\n}\n\n.xr-array-preview,\n.xr-array-data {\n  padding: 0 5px !important;\n  grid-column: 2;\n}\n\n.xr-array-data,\n.xr-array-in:checked ~ .xr-array-preview {\n  display: none;\n}\n\n.xr-array-in:checked ~ .xr-array-data,\n.xr-array-preview {\n  display: inline-block;\n}\n\n.xr-dim-list {\n  display: inline-block !important;\n  list-style: none;\n  padding: 0 !important;\n  margin: 0;\n}\n\n.xr-dim-list li {\n  display: inline-block;\n  padding: 0;\n  margin: 0;\n}\n\n.xr-dim-list:before {\n  content: '(';\n}\n\n.xr-dim-list:after {\n  content: ')';\n}\n\n.xr-dim-list li:not(:last-child):after {\n  content: ',';\n  padding-right: 5px;\n}\n\n.xr-has-index {\n  font-weight: bold;\n}\n\n.xr-var-list,\n.xr-var-item {\n  display: contents;\n}\n\n.xr-var-item > div,\n.xr-var-item label,\n.xr-var-item > .xr-var-name span {\n  background-color: var(--xr-background-color-row-even);\n  margin-bottom: 0;\n}\n\n.xr-var-item > .xr-var-name:hover span {\n  padding-right: 5px;\n}\n\n.xr-var-list > li:nth-child(odd) > div,\n.xr-var-list > li:nth-child(odd) > label,\n.xr-var-list > li:nth-child(odd) > .xr-var-name span {\n  background-color: var(--xr-background-color-row-odd);\n}\n\n.xr-var-name {\n  grid-column: 1;\n}\n\n.xr-var-dims {\n  grid-column: 2;\n}\n\n.xr-var-dtype {\n  grid-column: 3;\n  text-align: right;\n  color: var(--xr-font-color2);\n}\n\n.xr-var-preview {\n  grid-column: 4;\n}\n\n.xr-var-name,\n.xr-var-dims,\n.xr-var-dtype,\n.xr-preview,\n.xr-attrs dt {\n  white-space: nowrap;\n  overflow: hidden;\n  text-overflow: ellipsis;\n  padding-right: 10px;\n}\n\n.xr-var-name:hover,\n.xr-var-dims:hover,\n.xr-var-dtype:hover,\n.xr-attrs dt:hover {\n  overflow: visible;\n  width: auto;\n  z-index: 1;\n}\n\n.xr-var-attrs,\n.xr-var-data {\n  display: none;\n  background-color: var(--xr-background-color) !important;\n  padding-bottom: 5px !important;\n}\n\n.xr-var-attrs-in:checked ~ .xr-var-attrs,\n.xr-var-data-in:checked ~ .xr-var-data {\n  display: block;\n}\n\n.xr-var-data > table {\n  float: right;\n}\n\n.xr-var-name span,\n.xr-var-data,\n.xr-attrs {\n  padding-left: 25px !important;\n}\n\n.xr-attrs,\n.xr-var-attrs,\n.xr-var-data {\n  grid-column: 1 / -1;\n}\n\ndl.xr-attrs {\n  padding: 0;\n  margin: 0;\n  display: grid;\n  grid-template-columns: 125px auto;\n}\n\n.xr-attrs dt,\n.xr-attrs dd {\n  padding: 0;\n  margin: 0;\n  float: left;\n  padding-right: 10px;\n  width: auto;\n}\n\n.xr-attrs dt {\n  font-weight: normal;\n  grid-column: 1;\n}\n\n.xr-attrs dt:hover span {\n  display: inline-block;\n  background: var(--xr-background-color);\n  padding-right: 10px;\n}\n\n.xr-attrs dd {\n  grid-column: 2;\n  white-space: pre-wrap;\n  word-break: break-all;\n}\n\n.xr-icon-database,\n.xr-icon-file-text2 {\n  display: inline-block;\n  vertical-align: middle;\n  width: 1em;\n  height: 1.5em !important;\n  stroke-width: 0;\n  stroke: currentColor;\n  fill: currentColor;\n}\n</style><pre class='xr-text-repr-fallback'>&lt;xarray.Dataset&gt;\nDimensions:           (region: 65, time: 8760)\nCoordinates:\n  * region            (region) object &#x27;AL0 0 on&#x27; &#x27;AT0 0 on&#x27; ... &#x27;SI0 0 off&#x27;\n  * time              (time) datetime64[ns] 2013-01-01 ... 2013-12-31T23:00:00\nData variables:\n    height            (region, time) float64 ...\n    wnd100m           (region, time) float64 ...\n    roughness         (region, time) float64 ...\n    influx_toa        (region, time) float64 ...\n    influx_direct     (region, time) float64 ...\n    influx_diffuse    (region, time) float64 ...\n    albedo            (region, time) float64 ...\n    temperature       (region, time) float64 ...\n    soil_temperature  (region, time) float64 ...\n    runoff            (region, time) float64 ...\nAttributes:\n    description:  Era5 data with mean value of the coordinates within a region</pre><div class='xr-wrap' style='display:none'><div class='xr-header'><div class='xr-obj-type'>xarray.Dataset</div></div><ul class='xr-sections'><li class='xr-section-item'><input id='section-e7e725dd-c0f2-47f7-91b7-e65766b3282d' class='xr-section-summary-in' type='checkbox' disabled ><label for='section-e7e725dd-c0f2-47f7-91b7-e65766b3282d' class='xr-section-summary'  title='Expand/collapse section'>Dimensions:</label><div class='xr-section-inline-details'><ul class='xr-dim-list'><li><span class='xr-has-index'>region</span>: 65</li><li><span class='xr-has-index'>time</span>: 8760</li></ul></div><div class='xr-section-details'></div></li><li class='xr-section-item'><input id='section-502d4ef4-53d2-40a6-bf86-dacc6579d1b4' class='xr-section-summary-in' type='checkbox'  checked><label for='section-502d4ef4-53d2-40a6-bf86-dacc6579d1b4' class='xr-section-summary' >Coordinates: <span>(2)</span></label><div class='xr-section-inline-details'></div><div class='xr-section-details'><ul class='xr-var-list'><li class='xr-var-item'><div class='xr-var-name'><span class='xr-has-index'>region</span></div><div class='xr-var-dims'>(region)</div><div class='xr-var-dtype'>object</div><div class='xr-var-preview xr-preview'>&#x27;AL0 0 on&#x27; ... &#x27;SI0 0 off&#x27;</div><input id='attrs-cb1ee7cf-c661-4728-8b8b-b77ecbf85c9b' class='xr-var-attrs-in' type='checkbox' disabled><label for='attrs-cb1ee7cf-c661-4728-8b8b-b77ecbf85c9b' title='Show/Hide attributes'><svg class='icon xr-icon-file-text2'><use xlink:href='#icon-file-text2'></use></svg></label><input id='data-25c88247-27e5-4445-bed2-ab22b6b92f26' class='xr-var-data-in' type='checkbox'><label for='data-25c88247-27e5-4445-bed2-ab22b6b92f26' title='Show/Hide data repr'><svg class='icon xr-icon-database'><use xlink:href='#icon-database'></use></svg></label><div class='xr-var-attrs'><dl class='xr-attrs'></dl></div><div class='xr-var-data'><pre>array([&#x27;AL0 0 on&#x27;, &#x27;AT0 0 on&#x27;, &#x27;BA0 0 on&#x27;, &#x27;BE0 0 on&#x27;, &#x27;BG0 0 on&#x27;, &#x27;CH0 0 on&#x27;,\n       &#x27;CZ0 0 on&#x27;, &#x27;DE0 0 on&#x27;, &#x27;DK0 0 on&#x27;, &#x27;DK4 0 on&#x27;, &#x27;EE6 0 on&#x27;, &#x27;ES0 0 on&#x27;,\n       &#x27;ES2 0 on&#x27;, &#x27;FI4 0 on&#x27;, &#x27;FR0 0 on&#x27;, &#x27;GB3 0 on&#x27;, &#x27;GB5 0 on&#x27;, &#x27;GR0 0 on&#x27;,\n       &#x27;HR0 0 on&#x27;, &#x27;HU0 0 on&#x27;, &#x27;IE5 0 on&#x27;, &#x27;IT0 0 on&#x27;, &#x27;IT1 0 on&#x27;, &#x27;LT6 0 on&#x27;,\n       &#x27;LU0 0 on&#x27;, &#x27;LV6 0 on&#x27;, &#x27;ME0 0 on&#x27;, &#x27;MK0 0 on&#x27;, &#x27;NL0 0 on&#x27;, &#x27;NO4 0 on&#x27;,\n       &#x27;PL0 0 on&#x27;, &#x27;PT0 0 on&#x27;, &#x27;RO0 0 on&#x27;, &#x27;RS0 0 on&#x27;, &#x27;SE4 0 on&#x27;, &#x27;SI0 0 on&#x27;,\n       &#x27;SK0 0 on&#x27;, &#x27;AL0 0 off&#x27;, &#x27;BE0 0 off&#x27;, &#x27;BG0 0 off&#x27;, &#x27;DE0 0 off&#x27;,\n       &#x27;DK0 0 off&#x27;, &#x27;DK4 0 off&#x27;, &#x27;EE6 0 off&#x27;, &#x27;ES0 0 off&#x27;, &#x27;ES2 0 off&#x27;,\n       &#x27;FI4 0 off&#x27;, &#x27;FR0 0 off&#x27;, &#x27;GB3 0 off&#x27;, &#x27;GB5 0 off&#x27;, &#x27;GR0 0 off&#x27;,\n       &#x27;HR0 0 off&#x27;, &#x27;IE5 0 off&#x27;, &#x27;IT0 0 off&#x27;, &#x27;IT1 0 off&#x27;, &#x27;LT6 0 off&#x27;,\n       &#x27;LV6 0 off&#x27;, &#x27;ME0 0 off&#x27;, &#x27;NL0 0 off&#x27;, &#x27;NO4 0 off&#x27;, &#x27;PL0 0 off&#x27;,\n       &#x27;PT0 0 off&#x27;, &#x27;RO0 0 off&#x27;, &#x27;SE4 0 off&#x27;, &#x27;SI0 0 off&#x27;], dtype=object)</pre></div></li><li class='xr-var-item'><div class='xr-var-name'><span class='xr-has-index'>time</span></div><div class='xr-var-dims'>(time)</div><div class='xr-var-dtype'>datetime64[ns]</div><div class='xr-var-preview xr-preview'>2013-01-01 ... 2013-12-31T23:00:00</div><input id='attrs-ff7a977b-5ec5-48a1-bbe8-0a97b7da1f00' class='xr-var-attrs-in' type='checkbox' disabled><label for='attrs-ff7a977b-5ec5-48a1-bbe8-0a97b7da1f00' title='Show/Hide attributes'><svg class='icon xr-icon-file-text2'><use xlink:href='#icon-file-text2'></use></svg></label><input id='data-79c811f8-345f-4f32-a04b-556d44b950f3' class='xr-var-data-in' type='checkbox'><label for='data-79c811f8-345f-4f32-a04b-556d44b950f3' title='Show/Hide data repr'><svg class='icon xr-icon-database'><use xlink:href='#icon-database'></use></svg></label><div class='xr-var-attrs'><dl class='xr-attrs'></dl></div><div class='xr-var-data'><pre>array([&#x27;2013-01-01T00:00:00.000000000&#x27;, &#x27;2013-01-01T01:00:00.000000000&#x27;,\n       &#x27;2013-01-01T02:00:00.000000000&#x27;, ..., &#x27;2013-12-31T21:00:00.000000000&#x27;,\n       &#x27;2013-12-31T22:00:00.000000000&#x27;, &#x27;2013-12-31T23:00:00.000000000&#x27;],\n      dtype=&#x27;datetime64[ns]&#x27;)</pre></div></li></ul></div></li><li class='xr-section-item'><input id='section-b8ea9af5-227b-4857-b310-e4634f6debbb' class='xr-section-summary-in' type='checkbox'  checked><label for='section-b8ea9af5-227b-4857-b310-e4634f6debbb' class='xr-section-summary' >Data variables: <span>(10)</span></label><div class='xr-section-inline-details'></div><div class='xr-section-details'><ul class='xr-var-list'><li class='xr-var-item'><div class='xr-var-name'><span>height</span></div><div class='xr-var-dims'>(region, time)</div><div class='xr-var-dtype'>float64</div><div class='xr-var-preview xr-preview'>...</div><input id='attrs-6e34767a-7a2a-4cf8-9fc2-a220cf923148' class='xr-var-attrs-in' type='checkbox' disabled><label for='attrs-6e34767a-7a2a-4cf8-9fc2-a220cf923148' title='Show/Hide attributes'><svg class='icon xr-icon-file-text2'><use xlink:href='#icon-file-text2'></use></svg></label><input id='data-58393124-b71c-4fa9-988c-9a806b512ae3' class='xr-var-data-in' type='checkbox'><label for='data-58393124-b71c-4fa9-988c-9a806b512ae3' title='Show/Hide data repr'><svg class='icon xr-icon-database'><use xlink:href='#icon-database'></use></svg></label><div class='xr-var-attrs'><dl class='xr-attrs'></dl></div><div class='xr-var-data'><pre>[569400 values with dtype=float64]</pre></div></li><li class='xr-var-item'><div class='xr-var-name'><span>wnd100m</span></div><div class='xr-var-dims'>(region, time)</div><div class='xr-var-dtype'>float64</div><div class='xr-var-preview xr-preview'>...</div><input id='attrs-a855387d-c01d-47a6-b1bd-6290ce65a222' class='xr-var-attrs-in' type='checkbox' disabled><label for='attrs-a855387d-c01d-47a6-b1bd-6290ce65a222' title='Show/Hide attributes'><svg class='icon xr-icon-file-text2'><use xlink:href='#icon-file-text2'></use></svg></label><input id='data-5d696798-59f3-4968-886c-ad1fe8ad02ce' class='xr-var-data-in' type='checkbox'><label for='data-5d696798-59f3-4968-886c-ad1fe8ad02ce' title='Show/Hide data repr'><svg class='icon xr-icon-database'><use xlink:href='#icon-database'></use></svg></label><div class='xr-var-attrs'><dl class='xr-attrs'></dl></div><div class='xr-var-data'><pre>[569400 values with dtype=float64]</pre></div></li><li class='xr-var-item'><div class='xr-var-name'><span>roughness</span></div><div class='xr-var-dims'>(region, time)</div><div class='xr-var-dtype'>float64</div><div class='xr-var-preview xr-preview'>...</div><input id='attrs-d6763bdc-14d4-4e9f-b2d7-6479d6cdf91c' class='xr-var-attrs-in' type='checkbox' disabled><label for='attrs-d6763bdc-14d4-4e9f-b2d7-6479d6cdf91c' title='Show/Hide attributes'><svg class='icon xr-icon-file-text2'><use xlink:href='#icon-file-text2'></use></svg></label><input id='data-8820bb6e-7d6c-4051-96ac-9d8f0e05975c' class='xr-var-data-in' type='checkbox'><label for='data-8820bb6e-7d6c-4051-96ac-9d8f0e05975c' title='Show/Hide data repr'><svg class='icon xr-icon-database'><use xlink:href='#icon-database'></use></svg></label><div class='xr-var-attrs'><dl class='xr-attrs'></dl></div><div class='xr-var-data'><pre>[569400 values with dtype=float64]</pre></div></li><li class='xr-var-item'><div class='xr-var-name'><span>influx_toa</span></div><div class='xr-var-dims'>(region, time)</div><div class='xr-var-dtype'>float64</div><div class='xr-var-preview xr-preview'>...</div><input id='attrs-e5fbed1b-be0c-4ab7-9ab1-f8ce8872bcaa' class='xr-var-attrs-in' type='checkbox' disabled><label for='attrs-e5fbed1b-be0c-4ab7-9ab1-f8ce8872bcaa' title='Show/Hide attributes'><svg class='icon xr-icon-file-text2'><use xlink:href='#icon-file-text2'></use></svg></label><input id='data-348c826a-7483-412b-9487-f7774b29c47c' class='xr-var-data-in' type='checkbox'><label for='data-348c826a-7483-412b-9487-f7774b29c47c' title='Show/Hide data repr'><svg class='icon xr-icon-database'><use xlink:href='#icon-database'></use></svg></label><div class='xr-var-attrs'><dl class='xr-attrs'></dl></div><div class='xr-var-data'><pre>[569400 values with dtype=float64]</pre></div></li><li class='xr-var-item'><div class='xr-var-name'><span>influx_direct</span></div><div class='xr-var-dims'>(region, time)</div><div class='xr-var-dtype'>float64</div><div class='xr-var-preview xr-preview'>...</div><input id='attrs-0e6d1fa4-66d2-4db1-b2a0-a640f8cd8f1c' class='xr-var-attrs-in' type='checkbox' disabled><label for='attrs-0e6d1fa4-66d2-4db1-b2a0-a640f8cd8f1c' title='Show/Hide attributes'><svg class='icon xr-icon-file-text2'><use xlink:href='#icon-file-text2'></use></svg></label><input id='data-f46529f2-eac7-4bd9-b9ed-02d31a1d14a2' class='xr-var-data-in' type='checkbox'><label for='data-f46529f2-eac7-4bd9-b9ed-02d31a1d14a2' title='Show/Hide data repr'><svg class='icon xr-icon-database'><use xlink:href='#icon-database'></use></svg></label><div class='xr-var-attrs'><dl class='xr-attrs'></dl></div><div class='xr-var-data'><pre>[569400 values with dtype=float64]</pre></div></li><li class='xr-var-item'><div class='xr-var-name'><span>influx_diffuse</span></div><div class='xr-var-dims'>(region, time)</div><div class='xr-var-dtype'>float64</div><div class='xr-var-preview xr-preview'>...</div><input id='attrs-ddf878ae-1af7-4bee-8b3e-833a1d446c1e' class='xr-var-attrs-in' type='checkbox' disabled><label for='attrs-ddf878ae-1af7-4bee-8b3e-833a1d446c1e' title='Show/Hide attributes'><svg class='icon xr-icon-file-text2'><use xlink:href='#icon-file-text2'></use></svg></label><input id='data-1743487f-70cd-4b15-8513-b7f927cbb06b' class='xr-var-data-in' type='checkbox'><label for='data-1743487f-70cd-4b15-8513-b7f927cbb06b' title='Show/Hide data repr'><svg class='icon xr-icon-database'><use xlink:href='#icon-database'></use></svg></label><div class='xr-var-attrs'><dl class='xr-attrs'></dl></div><div class='xr-var-data'><pre>[569400 values with dtype=float64]</pre></div></li><li class='xr-var-item'><div class='xr-var-name'><span>albedo</span></div><div class='xr-var-dims'>(region, time)</div><div class='xr-var-dtype'>float64</div><div class='xr-var-preview xr-preview'>...</div><input id='attrs-80c90811-94fc-44df-b712-013726a118b4' class='xr-var-attrs-in' type='checkbox' disabled><label for='attrs-80c90811-94fc-44df-b712-013726a118b4' title='Show/Hide attributes'><svg class='icon xr-icon-file-text2'><use xlink:href='#icon-file-text2'></use></svg></label><input id='data-ad7c91e5-2b41-42f6-bde7-7bca1bb12f55' class='xr-var-data-in' type='checkbox'><label for='data-ad7c91e5-2b41-42f6-bde7-7bca1bb12f55' title='Show/Hide data repr'><svg class='icon xr-icon-database'><use xlink:href='#icon-database'></use></svg></label><div class='xr-var-attrs'><dl class='xr-attrs'></dl></div><div class='xr-var-data'><pre>[569400 values with dtype=float64]</pre></div></li><li class='xr-var-item'><div class='xr-var-name'><span>temperature</span></div><div class='xr-var-dims'>(region, time)</div><div class='xr-var-dtype'>float64</div><div class='xr-var-preview xr-preview'>...</div><input id='attrs-52ad7f11-0d77-483d-92e8-f4abf77db284' class='xr-var-attrs-in' type='checkbox' disabled><label for='attrs-52ad7f11-0d77-483d-92e8-f4abf77db284' title='Show/Hide attributes'><svg class='icon xr-icon-file-text2'><use xlink:href='#icon-file-text2'></use></svg></label><input id='data-d8ec0ba8-c275-4364-97be-6a6cf10e9503' class='xr-var-data-in' type='checkbox'><label for='data-d8ec0ba8-c275-4364-97be-6a6cf10e9503' title='Show/Hide data repr'><svg class='icon xr-icon-database'><use xlink:href='#icon-database'></use></svg></label><div class='xr-var-attrs'><dl class='xr-attrs'></dl></div><div class='xr-var-data'><pre>[569400 values with dtype=float64]</pre></div></li><li class='xr-var-item'><div class='xr-var-name'><span>soil_temperature</span></div><div class='xr-var-dims'>(region, time)</div><div class='xr-var-dtype'>float64</div><div class='xr-var-preview xr-preview'>...</div><input id='attrs-75778098-8b11-4c76-aeb9-3d4f49442622' class='xr-var-attrs-in' type='checkbox' disabled><label for='attrs-75778098-8b11-4c76-aeb9-3d4f49442622' title='Show/Hide attributes'><svg class='icon xr-icon-file-text2'><use xlink:href='#icon-file-text2'></use></svg></label><input id='data-461ce3af-0ce0-41ce-8af4-2570021fa135' class='xr-var-data-in' type='checkbox'><label for='data-461ce3af-0ce0-41ce-8af4-2570021fa135' title='Show/Hide data repr'><svg class='icon xr-icon-database'><use xlink:href='#icon-database'></use></svg></label><div class='xr-var-attrs'><dl class='xr-attrs'></dl></div><div class='xr-var-data'><pre>[569400 values with dtype=float64]</pre></div></li><li class='xr-var-item'><div class='xr-var-name'><span>runoff</span></div><div class='xr-var-dims'>(region, time)</div><div class='xr-var-dtype'>float64</div><div class='xr-var-preview xr-preview'>...</div><input id='attrs-7c101b99-8119-4f1a-83ae-5f150b3701c1' class='xr-var-attrs-in' type='checkbox' disabled><label for='attrs-7c101b99-8119-4f1a-83ae-5f150b3701c1' title='Show/Hide attributes'><svg class='icon xr-icon-file-text2'><use xlink:href='#icon-file-text2'></use></svg></label><input id='data-1a6aa8bc-fc20-40e3-95be-7c271b026ab3' class='xr-var-data-in' type='checkbox'><label for='data-1a6aa8bc-fc20-40e3-95be-7c271b026ab3' title='Show/Hide data repr'><svg class='icon xr-icon-database'><use xlink:href='#icon-database'></use></svg></label><div class='xr-var-attrs'><dl class='xr-attrs'></dl></div><div class='xr-var-data'><pre>[569400 values with dtype=float64]</pre></div></li></ul></div></li><li class='xr-section-item'><input id='section-ff633a1c-4c7d-40b2-9aed-a999827efff2' class='xr-section-summary-in' type='checkbox'  checked><label for='section-ff633a1c-4c7d-40b2-9aed-a999827efff2' class='xr-section-summary' >Attributes: <span>(1)</span></label><div class='xr-section-inline-details'></div><div class='xr-section-details'><dl class='xr-attrs'><dt><span>description :</span></dt><dd>Era5 data with mean value of the coordinates within a region</dd></dl></div></li></ul></div></div>"
     },
     "execution_count": 80,
     "metadata": {},
     "output_type": "execute_result"
    }
   ],
   "source": [
    "ds = xr.open_dataset(filename_or_obj=paths[\"era5_regions\"], engine=\"netcdf4\")\n",
    "ds"
   ],
   "metadata": {
    "collapsed": false,
    "pycharm": {
     "name": "#%%\n"
    }
   }
  },
  {
   "cell_type": "code",
   "execution_count": 81,
   "outputs": [
    {
     "data": {
      "text/plain": "                 snapshot  AL0 0 offwind-ac  AL0 0 onwind  AL0 0 solar  \\\n0     2013-01-01 00:00:00          0.003291      0.001469          0.0   \n1     2013-01-01 01:00:00          0.002103      0.000000          0.0   \n2     2013-01-01 02:00:00          0.000000      0.000000          0.0   \n3     2013-01-01 03:00:00          0.000000      0.000000          0.0   \n4     2013-01-01 04:00:00          0.000000      0.000000          0.0   \n...                   ...               ...           ...          ...   \n8755  2013-12-31 19:00:00          0.029235      0.024321          0.0   \n8756  2013-12-31 20:00:00          0.034024      0.031357          0.0   \n8757  2013-12-31 21:00:00          0.037104      0.034522          0.0   \n8758  2013-12-31 22:00:00          0.029730      0.027419          0.0   \n8759  2013-12-31 23:00:00          0.017742      0.020761          0.0   \n\n      AT0 0 onwind  AT0 0 ror  AT0 0 solar  BA0 0 onwind  BA0 0 solar  \\\n0         0.163262   0.224456          0.0      0.007340          0.0   \n1         0.171340   0.224369          0.0      0.007939          0.0   \n2         0.171035   0.224300          0.0      0.007829          0.0   \n3         0.169685   0.224249          0.0      0.005766          0.0   \n4         0.159757   0.224213          0.0      0.004262          0.0   \n...            ...        ...          ...           ...          ...   \n8755      0.109127   0.275353          0.0      0.001076          0.0   \n8756      0.120485   0.275159          0.0      0.001090          0.0   \n8757      0.128186   0.274975          0.0      0.001062          0.0   \n8758      0.124740   0.274784          0.0      0.001351          0.0   \n8759      0.126570   0.274592          0.0      0.001109          0.0   \n\n      BE0 0 offwind-ac  ...  SE4 0 onwind  SE4 0 ror  SE4 0 solar  \\\n0             1.000000  ...      0.459609   0.626955          0.0   \n1             0.999998  ...      0.463265   0.625502          0.0   \n2             0.993941  ...      0.463777   0.624810          0.0   \n3             0.916094  ...      0.463041   0.623794          0.0   \n4             0.704786  ...      0.457253   0.623085          0.0   \n...                ...  ...           ...        ...          ...   \n8755          0.998922  ...      0.358191   0.469586          0.0   \n8756          0.965757  ...      0.324709   0.469395          0.0   \n8757          0.852484  ...      0.288415   0.469208          0.0   \n8758          0.776442  ...      0.268695   0.469028          0.0   \n8759          0.880753  ...      0.245296   0.468856          0.0   \n\n      SI0 0 offwind-ac  SI0 0 onwind  SI0 0 ror  SI0 0 solar  SK0 0 onwind  \\\n0             0.000000      0.055146   0.344668          0.0      0.361009   \n1             0.000000      0.052605   0.344657          0.0      0.368912   \n2             0.000000      0.052222   0.344593          0.0      0.382949   \n3             0.000000      0.050762   0.344626          0.0      0.388344   \n4             0.000000      0.047285   0.344607          0.0      0.409303   \n...                ...           ...        ...          ...           ...   \n8755          0.027877      0.001708   0.696975          0.0      0.125735   \n8756          0.023567      0.000000   0.696262          0.0      0.142431   \n8757          0.000000      0.004891   0.695524          0.0      0.153930   \n8758          0.000000      0.009091   0.694665          0.0      0.163442   \n8759          0.000000      0.013554   0.693632          0.0      0.183295   \n\n      SK0 0 ror  SK0 0 solar  \n0      0.106197          0.0  \n1      0.106012          0.0  \n2      0.105968          0.0  \n3      0.106215          0.0  \n4      0.106364          0.0  \n...         ...          ...  \n8755   0.157729          0.0  \n8756   0.157817          0.0  \n8757   0.157899          0.0  \n8758   0.157945          0.0  \n8759   0.157963          0.0  \n\n[8760 rows x 151 columns]",
      "text/html": "<div>\n<style scoped>\n    .dataframe tbody tr th:only-of-type {\n        vertical-align: middle;\n    }\n\n    .dataframe tbody tr th {\n        vertical-align: top;\n    }\n\n    .dataframe thead th {\n        text-align: right;\n    }\n</style>\n<table border=\"1\" class=\"dataframe\">\n  <thead>\n    <tr style=\"text-align: right;\">\n      <th></th>\n      <th>snapshot</th>\n      <th>AL0 0 offwind-ac</th>\n      <th>AL0 0 onwind</th>\n      <th>AL0 0 solar</th>\n      <th>AT0 0 onwind</th>\n      <th>AT0 0 ror</th>\n      <th>AT0 0 solar</th>\n      <th>BA0 0 onwind</th>\n      <th>BA0 0 solar</th>\n      <th>BE0 0 offwind-ac</th>\n      <th>...</th>\n      <th>SE4 0 onwind</th>\n      <th>SE4 0 ror</th>\n      <th>SE4 0 solar</th>\n      <th>SI0 0 offwind-ac</th>\n      <th>SI0 0 onwind</th>\n      <th>SI0 0 ror</th>\n      <th>SI0 0 solar</th>\n      <th>SK0 0 onwind</th>\n      <th>SK0 0 ror</th>\n      <th>SK0 0 solar</th>\n    </tr>\n  </thead>\n  <tbody>\n    <tr>\n      <th>0</th>\n      <td>2013-01-01 00:00:00</td>\n      <td>0.003291</td>\n      <td>0.001469</td>\n      <td>0.0</td>\n      <td>0.163262</td>\n      <td>0.224456</td>\n      <td>0.0</td>\n      <td>0.007340</td>\n      <td>0.0</td>\n      <td>1.000000</td>\n      <td>...</td>\n      <td>0.459609</td>\n      <td>0.626955</td>\n      <td>0.0</td>\n      <td>0.000000</td>\n      <td>0.055146</td>\n      <td>0.344668</td>\n      <td>0.0</td>\n      <td>0.361009</td>\n      <td>0.106197</td>\n      <td>0.0</td>\n    </tr>\n    <tr>\n      <th>1</th>\n      <td>2013-01-01 01:00:00</td>\n      <td>0.002103</td>\n      <td>0.000000</td>\n      <td>0.0</td>\n      <td>0.171340</td>\n      <td>0.224369</td>\n      <td>0.0</td>\n      <td>0.007939</td>\n      <td>0.0</td>\n      <td>0.999998</td>\n      <td>...</td>\n      <td>0.463265</td>\n      <td>0.625502</td>\n      <td>0.0</td>\n      <td>0.000000</td>\n      <td>0.052605</td>\n      <td>0.344657</td>\n      <td>0.0</td>\n      <td>0.368912</td>\n      <td>0.106012</td>\n      <td>0.0</td>\n    </tr>\n    <tr>\n      <th>2</th>\n      <td>2013-01-01 02:00:00</td>\n      <td>0.000000</td>\n      <td>0.000000</td>\n      <td>0.0</td>\n      <td>0.171035</td>\n      <td>0.224300</td>\n      <td>0.0</td>\n      <td>0.007829</td>\n      <td>0.0</td>\n      <td>0.993941</td>\n      <td>...</td>\n      <td>0.463777</td>\n      <td>0.624810</td>\n      <td>0.0</td>\n      <td>0.000000</td>\n      <td>0.052222</td>\n      <td>0.344593</td>\n      <td>0.0</td>\n      <td>0.382949</td>\n      <td>0.105968</td>\n      <td>0.0</td>\n    </tr>\n    <tr>\n      <th>3</th>\n      <td>2013-01-01 03:00:00</td>\n      <td>0.000000</td>\n      <td>0.000000</td>\n      <td>0.0</td>\n      <td>0.169685</td>\n      <td>0.224249</td>\n      <td>0.0</td>\n      <td>0.005766</td>\n      <td>0.0</td>\n      <td>0.916094</td>\n      <td>...</td>\n      <td>0.463041</td>\n      <td>0.623794</td>\n      <td>0.0</td>\n      <td>0.000000</td>\n      <td>0.050762</td>\n      <td>0.344626</td>\n      <td>0.0</td>\n      <td>0.388344</td>\n      <td>0.106215</td>\n      <td>0.0</td>\n    </tr>\n    <tr>\n      <th>4</th>\n      <td>2013-01-01 04:00:00</td>\n      <td>0.000000</td>\n      <td>0.000000</td>\n      <td>0.0</td>\n      <td>0.159757</td>\n      <td>0.224213</td>\n      <td>0.0</td>\n      <td>0.004262</td>\n      <td>0.0</td>\n      <td>0.704786</td>\n      <td>...</td>\n      <td>0.457253</td>\n      <td>0.623085</td>\n      <td>0.0</td>\n      <td>0.000000</td>\n      <td>0.047285</td>\n      <td>0.344607</td>\n      <td>0.0</td>\n      <td>0.409303</td>\n      <td>0.106364</td>\n      <td>0.0</td>\n    </tr>\n    <tr>\n      <th>...</th>\n      <td>...</td>\n      <td>...</td>\n      <td>...</td>\n      <td>...</td>\n      <td>...</td>\n      <td>...</td>\n      <td>...</td>\n      <td>...</td>\n      <td>...</td>\n      <td>...</td>\n      <td>...</td>\n      <td>...</td>\n      <td>...</td>\n      <td>...</td>\n      <td>...</td>\n      <td>...</td>\n      <td>...</td>\n      <td>...</td>\n      <td>...</td>\n      <td>...</td>\n      <td>...</td>\n    </tr>\n    <tr>\n      <th>8755</th>\n      <td>2013-12-31 19:00:00</td>\n      <td>0.029235</td>\n      <td>0.024321</td>\n      <td>0.0</td>\n      <td>0.109127</td>\n      <td>0.275353</td>\n      <td>0.0</td>\n      <td>0.001076</td>\n      <td>0.0</td>\n      <td>0.998922</td>\n      <td>...</td>\n      <td>0.358191</td>\n      <td>0.469586</td>\n      <td>0.0</td>\n      <td>0.027877</td>\n      <td>0.001708</td>\n      <td>0.696975</td>\n      <td>0.0</td>\n      <td>0.125735</td>\n      <td>0.157729</td>\n      <td>0.0</td>\n    </tr>\n    <tr>\n      <th>8756</th>\n      <td>2013-12-31 20:00:00</td>\n      <td>0.034024</td>\n      <td>0.031357</td>\n      <td>0.0</td>\n      <td>0.120485</td>\n      <td>0.275159</td>\n      <td>0.0</td>\n      <td>0.001090</td>\n      <td>0.0</td>\n      <td>0.965757</td>\n      <td>...</td>\n      <td>0.324709</td>\n      <td>0.469395</td>\n      <td>0.0</td>\n      <td>0.023567</td>\n      <td>0.000000</td>\n      <td>0.696262</td>\n      <td>0.0</td>\n      <td>0.142431</td>\n      <td>0.157817</td>\n      <td>0.0</td>\n    </tr>\n    <tr>\n      <th>8757</th>\n      <td>2013-12-31 21:00:00</td>\n      <td>0.037104</td>\n      <td>0.034522</td>\n      <td>0.0</td>\n      <td>0.128186</td>\n      <td>0.274975</td>\n      <td>0.0</td>\n      <td>0.001062</td>\n      <td>0.0</td>\n      <td>0.852484</td>\n      <td>...</td>\n      <td>0.288415</td>\n      <td>0.469208</td>\n      <td>0.0</td>\n      <td>0.000000</td>\n      <td>0.004891</td>\n      <td>0.695524</td>\n      <td>0.0</td>\n      <td>0.153930</td>\n      <td>0.157899</td>\n      <td>0.0</td>\n    </tr>\n    <tr>\n      <th>8758</th>\n      <td>2013-12-31 22:00:00</td>\n      <td>0.029730</td>\n      <td>0.027419</td>\n      <td>0.0</td>\n      <td>0.124740</td>\n      <td>0.274784</td>\n      <td>0.0</td>\n      <td>0.001351</td>\n      <td>0.0</td>\n      <td>0.776442</td>\n      <td>...</td>\n      <td>0.268695</td>\n      <td>0.469028</td>\n      <td>0.0</td>\n      <td>0.000000</td>\n      <td>0.009091</td>\n      <td>0.694665</td>\n      <td>0.0</td>\n      <td>0.163442</td>\n      <td>0.157945</td>\n      <td>0.0</td>\n    </tr>\n    <tr>\n      <th>8759</th>\n      <td>2013-12-31 23:00:00</td>\n      <td>0.017742</td>\n      <td>0.020761</td>\n      <td>0.0</td>\n      <td>0.126570</td>\n      <td>0.274592</td>\n      <td>0.0</td>\n      <td>0.001109</td>\n      <td>0.0</td>\n      <td>0.880753</td>\n      <td>...</td>\n      <td>0.245296</td>\n      <td>0.468856</td>\n      <td>0.0</td>\n      <td>0.000000</td>\n      <td>0.013554</td>\n      <td>0.693632</td>\n      <td>0.0</td>\n      <td>0.183295</td>\n      <td>0.157963</td>\n      <td>0.0</td>\n    </tr>\n  </tbody>\n</table>\n<p>8760 rows × 151 columns</p>\n</div>"
     },
     "execution_count": 81,
     "metadata": {},
     "output_type": "execute_result"
    }
   ],
   "source": [
    "capfacts = pd.read_csv(paths[\"capfacs\"])\n",
    "capfacts"
   ],
   "metadata": {
    "collapsed": false,
    "pycharm": {
     "name": "#%%\n"
    }
   }
  },
  {
   "cell_type": "code",
   "execution_count": 82,
   "outputs": [],
   "source": [
    "capfacts_dk = capfacts.filter(regex=\"DK.*\")"
   ],
   "metadata": {
    "collapsed": false,
    "pycharm": {
     "name": "#%%\n"
    }
   }
  },
  {
   "cell_type": "markdown",
   "source": [
    "## Countries for optimizing hyperparameters\n",
    "\n",
    "Countries with the highest [installed wind power capacity](https://en.wikipedia.org/wiki/Wind_power_in_the_European_Union) in 2021:\n",
    "1. Germany\n",
    "2. Spain\n",
    "3. UK\n",
    "4. France\n",
    "5. Sweden\n",
    "\n",
    "Countries where wind covers the highest [percentage of the electricity demand](https://windeurope.org/wp-content/uploads/files/about-wind/statistics/WindEurope-Annual-Statistics-2019.pdf) in 2019:\n",
    "1. Denmark\n",
    "2. Ireland\n",
    "3. Portugal\n",
    "4. Germany\n",
    "5. UK\n",
    "6. Spain"
   ],
   "metadata": {
    "collapsed": false,
    "pycharm": {
     "name": "#%% md\n"
    }
   }
  },
  {
   "cell_type": "code",
   "execution_count": 83,
   "outputs": [],
   "source": [
    "# ds[\"region\"].values\n"
   ],
   "metadata": {
    "collapsed": false,
    "pycharm": {
     "name": "#%%\n"
    }
   }
  },
  {
   "cell_type": "markdown",
   "source": [
    "### Denmark (DK)\n",
    "\n",
    "- 08 DK0 0 on: 48 points\n",
    "- 09 DK4 0 on: 10 points\n",
    "- 41 DK0 0 off: 135 points\n",
    "- 42 DK4 0 off: 38 points"
   ],
   "metadata": {
    "collapsed": false,
    "pycharm": {
     "name": "#%% md\n"
    }
   }
  },
  {
   "cell_type": "code",
   "execution_count": 84,
   "outputs": [
    {
     "data": {
      "text/plain": "<xarray.Dataset>\nDimensions:           (time: 8760)\nCoordinates:\n    region            <U8 'DK0 0 on'\n  * time              (time) datetime64[ns] 2013-01-01 ... 2013-12-31T23:00:00\nData variables:\n    height            (time) float64 ...\n    wnd100m           (time) float64 ...\n    roughness         (time) float64 ...\n    influx_toa        (time) float64 ...\n    influx_direct     (time) float64 ...\n    influx_diffuse    (time) float64 ...\n    albedo            (time) float64 ...\n    temperature       (time) float64 ...\n    soil_temperature  (time) float64 ...\n    runoff            (time) float64 ...\nAttributes:\n    description:  Era5 data with mean value of the coordinates within a region",
      "text/html": "<div><svg style=\"position: absolute; width: 0; height: 0; overflow: hidden\">\n<defs>\n<symbol id=\"icon-database\" viewBox=\"0 0 32 32\">\n<path d=\"M16 0c-8.837 0-16 2.239-16 5v4c0 2.761 7.163 5 16 5s16-2.239 16-5v-4c0-2.761-7.163-5-16-5z\"></path>\n<path d=\"M16 17c-8.837 0-16-2.239-16-5v6c0 2.761 7.163 5 16 5s16-2.239 16-5v-6c0 2.761-7.163 5-16 5z\"></path>\n<path d=\"M16 26c-8.837 0-16-2.239-16-5v6c0 2.761 7.163 5 16 5s16-2.239 16-5v-6c0 2.761-7.163 5-16 5z\"></path>\n</symbol>\n<symbol id=\"icon-file-text2\" viewBox=\"0 0 32 32\">\n<path d=\"M28.681 7.159c-0.694-0.947-1.662-2.053-2.724-3.116s-2.169-2.030-3.116-2.724c-1.612-1.182-2.393-1.319-2.841-1.319h-15.5c-1.378 0-2.5 1.121-2.5 2.5v27c0 1.378 1.122 2.5 2.5 2.5h23c1.378 0 2.5-1.122 2.5-2.5v-19.5c0-0.448-0.137-1.23-1.319-2.841zM24.543 5.457c0.959 0.959 1.712 1.825 2.268 2.543h-4.811v-4.811c0.718 0.556 1.584 1.309 2.543 2.268zM28 29.5c0 0.271-0.229 0.5-0.5 0.5h-23c-0.271 0-0.5-0.229-0.5-0.5v-27c0-0.271 0.229-0.5 0.5-0.5 0 0 15.499-0 15.5 0v7c0 0.552 0.448 1 1 1h7v19.5z\"></path>\n<path d=\"M23 26h-14c-0.552 0-1-0.448-1-1s0.448-1 1-1h14c0.552 0 1 0.448 1 1s-0.448 1-1 1z\"></path>\n<path d=\"M23 22h-14c-0.552 0-1-0.448-1-1s0.448-1 1-1h14c0.552 0 1 0.448 1 1s-0.448 1-1 1z\"></path>\n<path d=\"M23 18h-14c-0.552 0-1-0.448-1-1s0.448-1 1-1h14c0.552 0 1 0.448 1 1s-0.448 1-1 1z\"></path>\n</symbol>\n</defs>\n</svg>\n<style>/* CSS stylesheet for displaying xarray objects in jupyterlab.\n *\n */\n\n:root {\n  --xr-font-color0: var(--jp-content-font-color0, rgba(0, 0, 0, 1));\n  --xr-font-color2: var(--jp-content-font-color2, rgba(0, 0, 0, 0.54));\n  --xr-font-color3: var(--jp-content-font-color3, rgba(0, 0, 0, 0.38));\n  --xr-border-color: var(--jp-border-color2, #e0e0e0);\n  --xr-disabled-color: var(--jp-layout-color3, #bdbdbd);\n  --xr-background-color: var(--jp-layout-color0, white);\n  --xr-background-color-row-even: var(--jp-layout-color1, white);\n  --xr-background-color-row-odd: var(--jp-layout-color2, #eeeeee);\n}\n\nhtml[theme=dark],\nbody.vscode-dark {\n  --xr-font-color0: rgba(255, 255, 255, 1);\n  --xr-font-color2: rgba(255, 255, 255, 0.54);\n  --xr-font-color3: rgba(255, 255, 255, 0.38);\n  --xr-border-color: #1F1F1F;\n  --xr-disabled-color: #515151;\n  --xr-background-color: #111111;\n  --xr-background-color-row-even: #111111;\n  --xr-background-color-row-odd: #313131;\n}\n\n.xr-wrap {\n  display: block !important;\n  min-width: 300px;\n  max-width: 700px;\n}\n\n.xr-text-repr-fallback {\n  /* fallback to plain text repr when CSS is not injected (untrusted notebook) */\n  display: none;\n}\n\n.xr-header {\n  padding-top: 6px;\n  padding-bottom: 6px;\n  margin-bottom: 4px;\n  border-bottom: solid 1px var(--xr-border-color);\n}\n\n.xr-header > div,\n.xr-header > ul {\n  display: inline;\n  margin-top: 0;\n  margin-bottom: 0;\n}\n\n.xr-obj-type,\n.xr-array-name {\n  margin-left: 2px;\n  margin-right: 10px;\n}\n\n.xr-obj-type {\n  color: var(--xr-font-color2);\n}\n\n.xr-sections {\n  padding-left: 0 !important;\n  display: grid;\n  grid-template-columns: 150px auto auto 1fr 20px 20px;\n}\n\n.xr-section-item {\n  display: contents;\n}\n\n.xr-section-item input {\n  display: none;\n}\n\n.xr-section-item input + label {\n  color: var(--xr-disabled-color);\n}\n\n.xr-section-item input:enabled + label {\n  cursor: pointer;\n  color: var(--xr-font-color2);\n}\n\n.xr-section-item input:enabled + label:hover {\n  color: var(--xr-font-color0);\n}\n\n.xr-section-summary {\n  grid-column: 1;\n  color: var(--xr-font-color2);\n  font-weight: 500;\n}\n\n.xr-section-summary > span {\n  display: inline-block;\n  padding-left: 0.5em;\n}\n\n.xr-section-summary-in:disabled + label {\n  color: var(--xr-font-color2);\n}\n\n.xr-section-summary-in + label:before {\n  display: inline-block;\n  content: '►';\n  font-size: 11px;\n  width: 15px;\n  text-align: center;\n}\n\n.xr-section-summary-in:disabled + label:before {\n  color: var(--xr-disabled-color);\n}\n\n.xr-section-summary-in:checked + label:before {\n  content: '▼';\n}\n\n.xr-section-summary-in:checked + label > span {\n  display: none;\n}\n\n.xr-section-summary,\n.xr-section-inline-details {\n  padding-top: 4px;\n  padding-bottom: 4px;\n}\n\n.xr-section-inline-details {\n  grid-column: 2 / -1;\n}\n\n.xr-section-details {\n  display: none;\n  grid-column: 1 / -1;\n  margin-bottom: 5px;\n}\n\n.xr-section-summary-in:checked ~ .xr-section-details {\n  display: contents;\n}\n\n.xr-array-wrap {\n  grid-column: 1 / -1;\n  display: grid;\n  grid-template-columns: 20px auto;\n}\n\n.xr-array-wrap > label {\n  grid-column: 1;\n  vertical-align: top;\n}\n\n.xr-preview {\n  color: var(--xr-font-color3);\n}\n\n.xr-array-preview,\n.xr-array-data {\n  padding: 0 5px !important;\n  grid-column: 2;\n}\n\n.xr-array-data,\n.xr-array-in:checked ~ .xr-array-preview {\n  display: none;\n}\n\n.xr-array-in:checked ~ .xr-array-data,\n.xr-array-preview {\n  display: inline-block;\n}\n\n.xr-dim-list {\n  display: inline-block !important;\n  list-style: none;\n  padding: 0 !important;\n  margin: 0;\n}\n\n.xr-dim-list li {\n  display: inline-block;\n  padding: 0;\n  margin: 0;\n}\n\n.xr-dim-list:before {\n  content: '(';\n}\n\n.xr-dim-list:after {\n  content: ')';\n}\n\n.xr-dim-list li:not(:last-child):after {\n  content: ',';\n  padding-right: 5px;\n}\n\n.xr-has-index {\n  font-weight: bold;\n}\n\n.xr-var-list,\n.xr-var-item {\n  display: contents;\n}\n\n.xr-var-item > div,\n.xr-var-item label,\n.xr-var-item > .xr-var-name span {\n  background-color: var(--xr-background-color-row-even);\n  margin-bottom: 0;\n}\n\n.xr-var-item > .xr-var-name:hover span {\n  padding-right: 5px;\n}\n\n.xr-var-list > li:nth-child(odd) > div,\n.xr-var-list > li:nth-child(odd) > label,\n.xr-var-list > li:nth-child(odd) > .xr-var-name span {\n  background-color: var(--xr-background-color-row-odd);\n}\n\n.xr-var-name {\n  grid-column: 1;\n}\n\n.xr-var-dims {\n  grid-column: 2;\n}\n\n.xr-var-dtype {\n  grid-column: 3;\n  text-align: right;\n  color: var(--xr-font-color2);\n}\n\n.xr-var-preview {\n  grid-column: 4;\n}\n\n.xr-var-name,\n.xr-var-dims,\n.xr-var-dtype,\n.xr-preview,\n.xr-attrs dt {\n  white-space: nowrap;\n  overflow: hidden;\n  text-overflow: ellipsis;\n  padding-right: 10px;\n}\n\n.xr-var-name:hover,\n.xr-var-dims:hover,\n.xr-var-dtype:hover,\n.xr-attrs dt:hover {\n  overflow: visible;\n  width: auto;\n  z-index: 1;\n}\n\n.xr-var-attrs,\n.xr-var-data {\n  display: none;\n  background-color: var(--xr-background-color) !important;\n  padding-bottom: 5px !important;\n}\n\n.xr-var-attrs-in:checked ~ .xr-var-attrs,\n.xr-var-data-in:checked ~ .xr-var-data {\n  display: block;\n}\n\n.xr-var-data > table {\n  float: right;\n}\n\n.xr-var-name span,\n.xr-var-data,\n.xr-attrs {\n  padding-left: 25px !important;\n}\n\n.xr-attrs,\n.xr-var-attrs,\n.xr-var-data {\n  grid-column: 1 / -1;\n}\n\ndl.xr-attrs {\n  padding: 0;\n  margin: 0;\n  display: grid;\n  grid-template-columns: 125px auto;\n}\n\n.xr-attrs dt,\n.xr-attrs dd {\n  padding: 0;\n  margin: 0;\n  float: left;\n  padding-right: 10px;\n  width: auto;\n}\n\n.xr-attrs dt {\n  font-weight: normal;\n  grid-column: 1;\n}\n\n.xr-attrs dt:hover span {\n  display: inline-block;\n  background: var(--xr-background-color);\n  padding-right: 10px;\n}\n\n.xr-attrs dd {\n  grid-column: 2;\n  white-space: pre-wrap;\n  word-break: break-all;\n}\n\n.xr-icon-database,\n.xr-icon-file-text2 {\n  display: inline-block;\n  vertical-align: middle;\n  width: 1em;\n  height: 1.5em !important;\n  stroke-width: 0;\n  stroke: currentColor;\n  fill: currentColor;\n}\n</style><pre class='xr-text-repr-fallback'>&lt;xarray.Dataset&gt;\nDimensions:           (time: 8760)\nCoordinates:\n    region            &lt;U8 &#x27;DK0 0 on&#x27;\n  * time              (time) datetime64[ns] 2013-01-01 ... 2013-12-31T23:00:00\nData variables:\n    height            (time) float64 28.3 28.3 28.3 28.3 ... 28.3 28.3 28.3 28.3\n    wnd100m           (time) float64 11.59 10.47 9.182 ... 10.15 10.25 10.11\n    roughness         (time) float64 0.406 0.4059 0.4058 ... 0.3983 0.3982\n    influx_toa        (time) float64 0.0 0.0 0.0 0.0 0.0 ... 0.0 0.0 0.0 0.0 0.0\n    influx_direct     (time) float64 0.0 0.0 0.0 0.0 0.0 ... 0.0 0.0 0.0 0.0 0.0\n    influx_diffuse    (time) float64 0.0 0.0 0.0 0.0 0.0 ... 0.0 0.0 0.0 0.0 0.0\n    albedo            (time) float64 0.0 0.0 0.0 0.0 0.0 ... 0.0 0.0 0.0 0.0 0.0\n    temperature       (time) float64 280.4 280.0 279.7 ... 277.7 277.5 277.4\n    soil_temperature  (time) float64 278.4 278.4 278.4 ... 280.4 280.4 280.4\n    runoff            (time) float64 4.767e-05 4.574e-05 ... 3.042e-05 3.047e-05\nAttributes:\n    description:  Era5 data with mean value of the coordinates within a region</pre><div class='xr-wrap' style='display:none'><div class='xr-header'><div class='xr-obj-type'>xarray.Dataset</div></div><ul class='xr-sections'><li class='xr-section-item'><input id='section-d893c43e-36d7-4fd6-8495-e0294bdc51ea' class='xr-section-summary-in' type='checkbox' disabled ><label for='section-d893c43e-36d7-4fd6-8495-e0294bdc51ea' class='xr-section-summary'  title='Expand/collapse section'>Dimensions:</label><div class='xr-section-inline-details'><ul class='xr-dim-list'><li><span class='xr-has-index'>time</span>: 8760</li></ul></div><div class='xr-section-details'></div></li><li class='xr-section-item'><input id='section-e0515280-b27e-4f4d-92f5-936deab7e111' class='xr-section-summary-in' type='checkbox'  checked><label for='section-e0515280-b27e-4f4d-92f5-936deab7e111' class='xr-section-summary' >Coordinates: <span>(2)</span></label><div class='xr-section-inline-details'></div><div class='xr-section-details'><ul class='xr-var-list'><li class='xr-var-item'><div class='xr-var-name'><span>region</span></div><div class='xr-var-dims'>()</div><div class='xr-var-dtype'>&lt;U8</div><div class='xr-var-preview xr-preview'>&#x27;DK0 0 on&#x27;</div><input id='attrs-dfd85f19-8ead-470b-9638-a01e0de7b282' class='xr-var-attrs-in' type='checkbox' disabled><label for='attrs-dfd85f19-8ead-470b-9638-a01e0de7b282' title='Show/Hide attributes'><svg class='icon xr-icon-file-text2'><use xlink:href='#icon-file-text2'></use></svg></label><input id='data-d741e3b0-ab54-49c1-95dc-222043d3a696' class='xr-var-data-in' type='checkbox'><label for='data-d741e3b0-ab54-49c1-95dc-222043d3a696' title='Show/Hide data repr'><svg class='icon xr-icon-database'><use xlink:href='#icon-database'></use></svg></label><div class='xr-var-attrs'><dl class='xr-attrs'></dl></div><div class='xr-var-data'><pre>array(&#x27;DK0 0 on&#x27;, dtype=&#x27;&lt;U8&#x27;)</pre></div></li><li class='xr-var-item'><div class='xr-var-name'><span class='xr-has-index'>time</span></div><div class='xr-var-dims'>(time)</div><div class='xr-var-dtype'>datetime64[ns]</div><div class='xr-var-preview xr-preview'>2013-01-01 ... 2013-12-31T23:00:00</div><input id='attrs-e07fac95-e007-4321-85a0-1dbcfa6cb2f9' class='xr-var-attrs-in' type='checkbox' disabled><label for='attrs-e07fac95-e007-4321-85a0-1dbcfa6cb2f9' title='Show/Hide attributes'><svg class='icon xr-icon-file-text2'><use xlink:href='#icon-file-text2'></use></svg></label><input id='data-4a42b3fb-e891-4525-944a-5d7addb5ae8a' class='xr-var-data-in' type='checkbox'><label for='data-4a42b3fb-e891-4525-944a-5d7addb5ae8a' title='Show/Hide data repr'><svg class='icon xr-icon-database'><use xlink:href='#icon-database'></use></svg></label><div class='xr-var-attrs'><dl class='xr-attrs'></dl></div><div class='xr-var-data'><pre>array([&#x27;2013-01-01T00:00:00.000000000&#x27;, &#x27;2013-01-01T01:00:00.000000000&#x27;,\n       &#x27;2013-01-01T02:00:00.000000000&#x27;, ..., &#x27;2013-12-31T21:00:00.000000000&#x27;,\n       &#x27;2013-12-31T22:00:00.000000000&#x27;, &#x27;2013-12-31T23:00:00.000000000&#x27;],\n      dtype=&#x27;datetime64[ns]&#x27;)</pre></div></li></ul></div></li><li class='xr-section-item'><input id='section-ac8b6c9c-d66d-4b4e-96e0-07134ca41abc' class='xr-section-summary-in' type='checkbox'  checked><label for='section-ac8b6c9c-d66d-4b4e-96e0-07134ca41abc' class='xr-section-summary' >Data variables: <span>(10)</span></label><div class='xr-section-inline-details'></div><div class='xr-section-details'><ul class='xr-var-list'><li class='xr-var-item'><div class='xr-var-name'><span>height</span></div><div class='xr-var-dims'>(time)</div><div class='xr-var-dtype'>float64</div><div class='xr-var-preview xr-preview'>...</div><input id='attrs-e9366b06-bb0d-43f0-902e-44c883139d78' class='xr-var-attrs-in' type='checkbox' disabled><label for='attrs-e9366b06-bb0d-43f0-902e-44c883139d78' title='Show/Hide attributes'><svg class='icon xr-icon-file-text2'><use xlink:href='#icon-file-text2'></use></svg></label><input id='data-5d0cf2c3-cb39-4d73-8c21-1b11f5970441' class='xr-var-data-in' type='checkbox'><label for='data-5d0cf2c3-cb39-4d73-8c21-1b11f5970441' title='Show/Hide data repr'><svg class='icon xr-icon-database'><use xlink:href='#icon-database'></use></svg></label><div class='xr-var-attrs'><dl class='xr-attrs'></dl></div><div class='xr-var-data'><pre>array([28.29899, 28.29899, 28.29899, ..., 28.29899, 28.29899, 28.29899])</pre></div></li><li class='xr-var-item'><div class='xr-var-name'><span>wnd100m</span></div><div class='xr-var-dims'>(time)</div><div class='xr-var-dtype'>float64</div><div class='xr-var-preview xr-preview'>...</div><input id='attrs-2f5a1286-5e98-4d5b-a02f-628eb9b64999' class='xr-var-attrs-in' type='checkbox' disabled><label for='attrs-2f5a1286-5e98-4d5b-a02f-628eb9b64999' title='Show/Hide attributes'><svg class='icon xr-icon-file-text2'><use xlink:href='#icon-file-text2'></use></svg></label><input id='data-275f6022-b9ff-484b-bbed-f7d39a291ca7' class='xr-var-data-in' type='checkbox'><label for='data-275f6022-b9ff-484b-bbed-f7d39a291ca7' title='Show/Hide data repr'><svg class='icon xr-icon-database'><use xlink:href='#icon-database'></use></svg></label><div class='xr-var-attrs'><dl class='xr-attrs'></dl></div><div class='xr-var-data'><pre>array([11.59206 , 10.468906,  9.182273, ..., 10.152233, 10.250349, 10.11474 ])</pre></div></li><li class='xr-var-item'><div class='xr-var-name'><span>roughness</span></div><div class='xr-var-dims'>(time)</div><div class='xr-var-dtype'>float64</div><div class='xr-var-preview xr-preview'>...</div><input id='attrs-1ffba8a4-09e2-4b79-a4a6-72a747ab83c5' class='xr-var-attrs-in' type='checkbox' disabled><label for='attrs-1ffba8a4-09e2-4b79-a4a6-72a747ab83c5' title='Show/Hide attributes'><svg class='icon xr-icon-file-text2'><use xlink:href='#icon-file-text2'></use></svg></label><input id='data-0c616bf6-99c3-4223-a169-a3ade90a020c' class='xr-var-data-in' type='checkbox'><label for='data-0c616bf6-99c3-4223-a169-a3ade90a020c' title='Show/Hide data repr'><svg class='icon xr-icon-database'><use xlink:href='#icon-database'></use></svg></label><div class='xr-var-attrs'><dl class='xr-attrs'></dl></div><div class='xr-var-data'><pre>array([0.406016, 0.40591 , 0.405778, ..., 0.398329, 0.398262, 0.398219])</pre></div></li><li class='xr-var-item'><div class='xr-var-name'><span>influx_toa</span></div><div class='xr-var-dims'>(time)</div><div class='xr-var-dtype'>float64</div><div class='xr-var-preview xr-preview'>...</div><input id='attrs-35210ccb-c62e-4cd0-a34e-e3d74dc632a2' class='xr-var-attrs-in' type='checkbox' disabled><label for='attrs-35210ccb-c62e-4cd0-a34e-e3d74dc632a2' title='Show/Hide attributes'><svg class='icon xr-icon-file-text2'><use xlink:href='#icon-file-text2'></use></svg></label><input id='data-87adb6f2-f05e-4c4b-b92a-6bf7de51c61c' class='xr-var-data-in' type='checkbox'><label for='data-87adb6f2-f05e-4c4b-b92a-6bf7de51c61c' title='Show/Hide data repr'><svg class='icon xr-icon-database'><use xlink:href='#icon-database'></use></svg></label><div class='xr-var-attrs'><dl class='xr-attrs'></dl></div><div class='xr-var-data'><pre>array([0., 0., 0., ..., 0., 0., 0.])</pre></div></li><li class='xr-var-item'><div class='xr-var-name'><span>influx_direct</span></div><div class='xr-var-dims'>(time)</div><div class='xr-var-dtype'>float64</div><div class='xr-var-preview xr-preview'>...</div><input id='attrs-bdffd607-3537-4837-87a2-d26b0cb1a5be' class='xr-var-attrs-in' type='checkbox' disabled><label for='attrs-bdffd607-3537-4837-87a2-d26b0cb1a5be' title='Show/Hide attributes'><svg class='icon xr-icon-file-text2'><use xlink:href='#icon-file-text2'></use></svg></label><input id='data-db399d6b-e99d-487e-8a73-efc12077626c' class='xr-var-data-in' type='checkbox'><label for='data-db399d6b-e99d-487e-8a73-efc12077626c' title='Show/Hide data repr'><svg class='icon xr-icon-database'><use xlink:href='#icon-database'></use></svg></label><div class='xr-var-attrs'><dl class='xr-attrs'></dl></div><div class='xr-var-data'><pre>array([0., 0., 0., ..., 0., 0., 0.])</pre></div></li><li class='xr-var-item'><div class='xr-var-name'><span>influx_diffuse</span></div><div class='xr-var-dims'>(time)</div><div class='xr-var-dtype'>float64</div><div class='xr-var-preview xr-preview'>...</div><input id='attrs-a0bc09bf-9286-4b5a-887e-aafc1200655e' class='xr-var-attrs-in' type='checkbox' disabled><label for='attrs-a0bc09bf-9286-4b5a-887e-aafc1200655e' title='Show/Hide attributes'><svg class='icon xr-icon-file-text2'><use xlink:href='#icon-file-text2'></use></svg></label><input id='data-10afe397-38e8-46eb-b4ac-2882226f494c' class='xr-var-data-in' type='checkbox'><label for='data-10afe397-38e8-46eb-b4ac-2882226f494c' title='Show/Hide data repr'><svg class='icon xr-icon-database'><use xlink:href='#icon-database'></use></svg></label><div class='xr-var-attrs'><dl class='xr-attrs'></dl></div><div class='xr-var-data'><pre>array([0., 0., 0., ..., 0., 0., 0.])</pre></div></li><li class='xr-var-item'><div class='xr-var-name'><span>albedo</span></div><div class='xr-var-dims'>(time)</div><div class='xr-var-dtype'>float64</div><div class='xr-var-preview xr-preview'>...</div><input id='attrs-358631a3-3830-401a-a571-7c176b6fa621' class='xr-var-attrs-in' type='checkbox' disabled><label for='attrs-358631a3-3830-401a-a571-7c176b6fa621' title='Show/Hide attributes'><svg class='icon xr-icon-file-text2'><use xlink:href='#icon-file-text2'></use></svg></label><input id='data-afd7e4b2-b336-443f-8a85-e28d1449ff7e' class='xr-var-data-in' type='checkbox'><label for='data-afd7e4b2-b336-443f-8a85-e28d1449ff7e' title='Show/Hide data repr'><svg class='icon xr-icon-database'><use xlink:href='#icon-database'></use></svg></label><div class='xr-var-attrs'><dl class='xr-attrs'></dl></div><div class='xr-var-data'><pre>array([0., 0., 0., ..., 0., 0., 0.])</pre></div></li><li class='xr-var-item'><div class='xr-var-name'><span>temperature</span></div><div class='xr-var-dims'>(time)</div><div class='xr-var-dtype'>float64</div><div class='xr-var-preview xr-preview'>...</div><input id='attrs-ae22d236-bd2c-4814-9e47-9495ad5207f0' class='xr-var-attrs-in' type='checkbox' disabled><label for='attrs-ae22d236-bd2c-4814-9e47-9495ad5207f0' title='Show/Hide attributes'><svg class='icon xr-icon-file-text2'><use xlink:href='#icon-file-text2'></use></svg></label><input id='data-a21f0296-2289-457d-bae3-567035f92f97' class='xr-var-data-in' type='checkbox'><label for='data-a21f0296-2289-457d-bae3-567035f92f97' title='Show/Hide data repr'><svg class='icon xr-icon-database'><use xlink:href='#icon-database'></use></svg></label><div class='xr-var-attrs'><dl class='xr-attrs'></dl></div><div class='xr-var-data'><pre>array([280.433571, 280.025568, 279.70543 , ..., 277.690298, 277.51918 ,\n       277.406666])</pre></div></li><li class='xr-var-item'><div class='xr-var-name'><span>soil_temperature</span></div><div class='xr-var-dims'>(time)</div><div class='xr-var-dtype'>float64</div><div class='xr-var-preview xr-preview'>...</div><input id='attrs-c5a6a884-88a6-488a-b58f-1a8c91ac3b5f' class='xr-var-attrs-in' type='checkbox' disabled><label for='attrs-c5a6a884-88a6-488a-b58f-1a8c91ac3b5f' title='Show/Hide attributes'><svg class='icon xr-icon-file-text2'><use xlink:href='#icon-file-text2'></use></svg></label><input id='data-615c5571-87fc-478b-ad2b-5aaa83274760' class='xr-var-data-in' type='checkbox'><label for='data-615c5571-87fc-478b-ad2b-5aaa83274760' title='Show/Hide data repr'><svg class='icon xr-icon-database'><use xlink:href='#icon-database'></use></svg></label><div class='xr-var-attrs'><dl class='xr-attrs'></dl></div><div class='xr-var-data'><pre>array([278.410789, 278.409296, 278.407912, ..., 280.37538 , 280.37398 ,\n       280.371514])</pre></div></li><li class='xr-var-item'><div class='xr-var-name'><span>runoff</span></div><div class='xr-var-dims'>(time)</div><div class='xr-var-dtype'>float64</div><div class='xr-var-preview xr-preview'>...</div><input id='attrs-a6613011-a011-496b-962c-287a6a2fc280' class='xr-var-attrs-in' type='checkbox' disabled><label for='attrs-a6613011-a011-496b-962c-287a6a2fc280' title='Show/Hide attributes'><svg class='icon xr-icon-file-text2'><use xlink:href='#icon-file-text2'></use></svg></label><input id='data-3ec3fcc8-c2cc-4203-8450-6922a32c77c9' class='xr-var-data-in' type='checkbox'><label for='data-3ec3fcc8-c2cc-4203-8450-6922a32c77c9' title='Show/Hide data repr'><svg class='icon xr-icon-database'><use xlink:href='#icon-database'></use></svg></label><div class='xr-var-attrs'><dl class='xr-attrs'></dl></div><div class='xr-var-data'><pre>array([4.767278e-05, 4.574057e-05, 4.369231e-05, ..., 3.034578e-05,\n       3.042199e-05, 3.047170e-05])</pre></div></li></ul></div></li><li class='xr-section-item'><input id='section-3bec6e9a-4d16-485c-8bd9-1390af5aad66' class='xr-section-summary-in' type='checkbox'  checked><label for='section-3bec6e9a-4d16-485c-8bd9-1390af5aad66' class='xr-section-summary' >Attributes: <span>(1)</span></label><div class='xr-section-inline-details'></div><div class='xr-section-details'><dl class='xr-attrs'><dt><span>description :</span></dt><dd>Era5 data with mean value of the coordinates within a region</dd></dl></div></li></ul></div></div>"
     },
     "execution_count": 84,
     "metadata": {},
     "output_type": "execute_result"
    }
   ],
   "source": [
    "ds.sel(region=\"DK0 0 on\")"
   ],
   "metadata": {
    "collapsed": false,
    "pycharm": {
     "name": "#%%\n"
    }
   }
  },
  {
   "cell_type": "code",
   "execution_count": 85,
   "outputs": [],
   "source": [
    "class EnergyType(Enum):\n",
    "    OFFWIND_AC = auto()\n",
    "    OFFWIND_DC = auto()\n",
    "    ONWIND = auto()\n",
    "    SOLAR = auto()\n",
    "    ROR = auto()\n",
    "    NOT_DEFINED = auto()\n",
    "\n",
    "def get_energy_type(name: str) -> EnergyType:\n",
    "    match name:\n",
    "        case \"offwind-ac\":\n",
    "            return EnergyType.OFFWIND_AC\n",
    "        case \"offwind-dc\":\n",
    "            return EnergyType.OFFWIND_DC\n",
    "        case \"onwind-dc\":\n",
    "            return EnergyType.ONWIND\n",
    "        case \"solar\":\n",
    "            return EnergyType.SOLAR\n",
    "        case \"ror\":\n",
    "            return EnergyType.ROR\n",
    "        case _:\n",
    "            return EnergyType.NOT_DEFINED"
   ],
   "metadata": {
    "collapsed": false,
    "pycharm": {
     "name": "#%%\n"
    }
   }
  },
  {
   "cell_type": "code",
   "execution_count": 86,
   "outputs": [],
   "source": [
    "def parse_capfac_col(column_name: str) -> (str, EnergyType):\n",
    "    col_args = column_name.split(\" \")\n",
    "    if len(col_args) == 3:\n",
    "        region_name = col_args[0]\n",
    "        energy_type = get_energy_type(col_args[2])\n",
    "        return region_name, energy_type\n",
    "    return None"
   ],
   "metadata": {
    "collapsed": false,
    "pycharm": {
     "name": "#%%\n"
    }
   }
  },
  {
   "cell_type": "code",
   "execution_count": 87,
   "outputs": [],
   "source": [
    "region_name = \"DK0 0 on\"\n",
    "\n",
    "X_height = ds.sel(region=region_name)[\"height\"].values\n",
    "X_wnd100m = ds.sel(region=region_name)[\"wnd100m\"].values\n",
    "X_roughness = ds.sel(region=region_name)[\"roughness\"].values\n",
    "X_influx_toa = ds.sel(region=region_name)[\"influx_toa\"].values\n",
    "X_influx_direct = ds.sel(region=region_name)[\"influx_direct\"].values\n",
    "X_influx_diffuse = ds.sel(region=region_name)[\"influx_diffuse\"].values\n",
    "X_albedo = ds.sel(region=region_name)[\"albedo\"].values\n",
    "X_temperature = ds.sel(region=region_name)[\"temperature\"].values\n",
    "X_soil_temperature = ds.sel(region=region_name)[\"soil_temperature\"].values\n",
    "X_runoff = ds.sel(region=region_name)[\"runoff\"].values"
   ],
   "metadata": {
    "collapsed": false,
    "pycharm": {
     "name": "#%%\n"
    }
   }
  },
  {
   "cell_type": "code",
   "execution_count": 88,
   "outputs": [
    {
     "name": "stdout",
     "output_type": "stream",
     "text": [
      "None\n",
      "('AL0', <EnergyType.OFFWIND_AC: 1>)\n",
      "('AL0', <EnergyType.NOT_DEFINED: 6>)\n",
      "('AL0', <EnergyType.SOLAR: 4>)\n",
      "('AT0', <EnergyType.NOT_DEFINED: 6>)\n",
      "('AT0', <EnergyType.ROR: 5>)\n",
      "('AT0', <EnergyType.SOLAR: 4>)\n",
      "('BA0', <EnergyType.NOT_DEFINED: 6>)\n",
      "('BA0', <EnergyType.SOLAR: 4>)\n",
      "('BE0', <EnergyType.OFFWIND_AC: 1>)\n",
      "('BE0', <EnergyType.OFFWIND_DC: 2>)\n",
      "('BE0', <EnergyType.NOT_DEFINED: 6>)\n",
      "('BE0', <EnergyType.ROR: 5>)\n",
      "('BE0', <EnergyType.SOLAR: 4>)\n",
      "('BG0', <EnergyType.OFFWIND_AC: 1>)\n",
      "('BG0', <EnergyType.OFFWIND_DC: 2>)\n",
      "('BG0', <EnergyType.NOT_DEFINED: 6>)\n",
      "('BG0', <EnergyType.ROR: 5>)\n",
      "('BG0', <EnergyType.SOLAR: 4>)\n",
      "('CH0', <EnergyType.NOT_DEFINED: 6>)\n",
      "('CH0', <EnergyType.ROR: 5>)\n",
      "('CH0', <EnergyType.SOLAR: 4>)\n",
      "('CZ0', <EnergyType.NOT_DEFINED: 6>)\n",
      "('CZ0', <EnergyType.ROR: 5>)\n",
      "('CZ0', <EnergyType.SOLAR: 4>)\n",
      "('DE0', <EnergyType.OFFWIND_AC: 1>)\n",
      "('DE0', <EnergyType.OFFWIND_DC: 2>)\n",
      "('DE0', <EnergyType.NOT_DEFINED: 6>)\n",
      "('DE0', <EnergyType.ROR: 5>)\n",
      "('DE0', <EnergyType.SOLAR: 4>)\n",
      "('DK0', <EnergyType.OFFWIND_AC: 1>)\n",
      "('DK0', <EnergyType.OFFWIND_DC: 2>)\n",
      "('DK0', <EnergyType.NOT_DEFINED: 6>)\n",
      "('DK0', <EnergyType.SOLAR: 4>)\n",
      "('DK4', <EnergyType.OFFWIND_AC: 1>)\n",
      "('DK4', <EnergyType.OFFWIND_DC: 2>)\n",
      "('DK4', <EnergyType.NOT_DEFINED: 6>)\n",
      "('DK4', <EnergyType.SOLAR: 4>)\n",
      "('EE6', <EnergyType.OFFWIND_AC: 1>)\n",
      "('EE6', <EnergyType.OFFWIND_DC: 2>)\n",
      "('EE6', <EnergyType.NOT_DEFINED: 6>)\n",
      "('EE6', <EnergyType.SOLAR: 4>)\n",
      "('ES0', <EnergyType.OFFWIND_AC: 1>)\n",
      "('ES0', <EnergyType.OFFWIND_DC: 2>)\n",
      "('ES0', <EnergyType.NOT_DEFINED: 6>)\n",
      "('ES0', <EnergyType.ROR: 5>)\n",
      "('ES0', <EnergyType.SOLAR: 4>)\n",
      "('ES2', <EnergyType.OFFWIND_AC: 1>)\n",
      "('ES2', <EnergyType.OFFWIND_DC: 2>)\n",
      "('ES2', <EnergyType.NOT_DEFINED: 6>)\n",
      "('ES2', <EnergyType.SOLAR: 4>)\n",
      "('FI4', <EnergyType.OFFWIND_AC: 1>)\n",
      "('FI4', <EnergyType.OFFWIND_DC: 2>)\n",
      "('FI4', <EnergyType.NOT_DEFINED: 6>)\n",
      "('FI4', <EnergyType.ROR: 5>)\n",
      "('FI4', <EnergyType.SOLAR: 4>)\n",
      "('FR0', <EnergyType.OFFWIND_AC: 1>)\n",
      "('FR0', <EnergyType.OFFWIND_DC: 2>)\n",
      "('FR0', <EnergyType.NOT_DEFINED: 6>)\n",
      "('FR0', <EnergyType.ROR: 5>)\n",
      "('FR0', <EnergyType.SOLAR: 4>)\n",
      "('GB3', <EnergyType.OFFWIND_AC: 1>)\n",
      "('GB3', <EnergyType.OFFWIND_DC: 2>)\n",
      "('GB3', <EnergyType.NOT_DEFINED: 6>)\n",
      "('GB3', <EnergyType.ROR: 5>)\n",
      "('GB3', <EnergyType.SOLAR: 4>)\n",
      "('GB5', <EnergyType.OFFWIND_AC: 1>)\n",
      "('GB5', <EnergyType.OFFWIND_DC: 2>)\n",
      "('GB5', <EnergyType.NOT_DEFINED: 6>)\n",
      "('GB5', <EnergyType.SOLAR: 4>)\n",
      "('GR0', <EnergyType.OFFWIND_AC: 1>)\n",
      "('GR0', <EnergyType.OFFWIND_DC: 2>)\n",
      "('GR0', <EnergyType.NOT_DEFINED: 6>)\n",
      "('GR0', <EnergyType.ROR: 5>)\n",
      "('GR0', <EnergyType.SOLAR: 4>)\n",
      "('HR0', <EnergyType.OFFWIND_AC: 1>)\n",
      "('HR0', <EnergyType.OFFWIND_DC: 2>)\n",
      "('HR0', <EnergyType.NOT_DEFINED: 6>)\n",
      "('HR0', <EnergyType.ROR: 5>)\n",
      "('HR0', <EnergyType.SOLAR: 4>)\n",
      "('HU0', <EnergyType.NOT_DEFINED: 6>)\n",
      "('HU0', <EnergyType.ROR: 5>)\n",
      "('HU0', <EnergyType.SOLAR: 4>)\n",
      "('IE5', <EnergyType.OFFWIND_AC: 1>)\n",
      "('IE5', <EnergyType.OFFWIND_DC: 2>)\n",
      "('IE5', <EnergyType.NOT_DEFINED: 6>)\n",
      "('IE5', <EnergyType.ROR: 5>)\n",
      "('IE5', <EnergyType.SOLAR: 4>)\n",
      "('IT0', <EnergyType.OFFWIND_AC: 1>)\n",
      "('IT0', <EnergyType.OFFWIND_DC: 2>)\n",
      "('IT0', <EnergyType.NOT_DEFINED: 6>)\n",
      "('IT0', <EnergyType.ROR: 5>)\n",
      "('IT0', <EnergyType.SOLAR: 4>)\n",
      "('IT1', <EnergyType.OFFWIND_AC: 1>)\n",
      "('IT1', <EnergyType.NOT_DEFINED: 6>)\n",
      "('IT1', <EnergyType.ROR: 5>)\n",
      "('IT1', <EnergyType.SOLAR: 4>)\n",
      "('LT6', <EnergyType.OFFWIND_AC: 1>)\n",
      "('LT6', <EnergyType.OFFWIND_DC: 2>)\n",
      "('LT6', <EnergyType.NOT_DEFINED: 6>)\n",
      "('LT6', <EnergyType.SOLAR: 4>)\n",
      "('LU0', <EnergyType.NOT_DEFINED: 6>)\n",
      "('LU0', <EnergyType.ROR: 5>)\n",
      "('LU0', <EnergyType.SOLAR: 4>)\n",
      "('LV6', <EnergyType.OFFWIND_AC: 1>)\n",
      "('LV6', <EnergyType.OFFWIND_DC: 2>)\n",
      "('LV6', <EnergyType.NOT_DEFINED: 6>)\n",
      "('LV6', <EnergyType.ROR: 5>)\n",
      "('LV6', <EnergyType.SOLAR: 4>)\n",
      "('ME0', <EnergyType.OFFWIND_AC: 1>)\n",
      "('ME0', <EnergyType.NOT_DEFINED: 6>)\n",
      "('ME0', <EnergyType.SOLAR: 4>)\n",
      "('MK0', <EnergyType.NOT_DEFINED: 6>)\n",
      "('MK0', <EnergyType.ROR: 5>)\n",
      "('MK0', <EnergyType.SOLAR: 4>)\n",
      "('NL0', <EnergyType.OFFWIND_AC: 1>)\n",
      "('NL0', <EnergyType.OFFWIND_DC: 2>)\n",
      "('NL0', <EnergyType.NOT_DEFINED: 6>)\n",
      "('NL0', <EnergyType.SOLAR: 4>)\n",
      "('NO4', <EnergyType.OFFWIND_AC: 1>)\n",
      "('NO4', <EnergyType.OFFWIND_DC: 2>)\n",
      "('NO4', <EnergyType.NOT_DEFINED: 6>)\n",
      "('NO4', <EnergyType.SOLAR: 4>)\n",
      "('PL0', <EnergyType.OFFWIND_AC: 1>)\n",
      "('PL0', <EnergyType.OFFWIND_DC: 2>)\n",
      "('PL0', <EnergyType.NOT_DEFINED: 6>)\n",
      "('PL0', <EnergyType.ROR: 5>)\n",
      "('PL0', <EnergyType.SOLAR: 4>)\n",
      "('PT0', <EnergyType.OFFWIND_AC: 1>)\n",
      "('PT0', <EnergyType.NOT_DEFINED: 6>)\n",
      "('PT0', <EnergyType.ROR: 5>)\n",
      "('PT0', <EnergyType.SOLAR: 4>)\n",
      "('RO0', <EnergyType.OFFWIND_AC: 1>)\n",
      "('RO0', <EnergyType.OFFWIND_DC: 2>)\n",
      "('RO0', <EnergyType.NOT_DEFINED: 6>)\n",
      "('RO0', <EnergyType.ROR: 5>)\n",
      "('RO0', <EnergyType.SOLAR: 4>)\n",
      "('RS0', <EnergyType.NOT_DEFINED: 6>)\n",
      "('RS0', <EnergyType.SOLAR: 4>)\n",
      "('SE4', <EnergyType.OFFWIND_AC: 1>)\n",
      "('SE4', <EnergyType.OFFWIND_DC: 2>)\n",
      "('SE4', <EnergyType.NOT_DEFINED: 6>)\n",
      "('SE4', <EnergyType.ROR: 5>)\n",
      "('SE4', <EnergyType.SOLAR: 4>)\n",
      "('SI0', <EnergyType.OFFWIND_AC: 1>)\n",
      "('SI0', <EnergyType.NOT_DEFINED: 6>)\n",
      "('SI0', <EnergyType.ROR: 5>)\n",
      "('SI0', <EnergyType.SOLAR: 4>)\n",
      "('SK0', <EnergyType.NOT_DEFINED: 6>)\n",
      "('SK0', <EnergyType.ROR: 5>)\n",
      "('SK0', <EnergyType.SOLAR: 4>)\n"
     ]
    }
   ],
   "source": [
    "for column in capfacts:\n",
    "    # print(column)\n",
    "    print(parse_capfac_col(column))"
   ],
   "metadata": {
    "collapsed": false,
    "pycharm": {
     "name": "#%%\n"
    }
   }
  },
  {
   "cell_type": "code",
   "execution_count": 88,
   "outputs": [],
   "source": [],
   "metadata": {
    "collapsed": false,
    "pycharm": {
     "name": "#%%\n"
    }
   }
  }
 ],
 "metadata": {
  "kernelspec": {
   "display_name": "Python 3",
   "language": "python",
   "name": "python3"
  },
  "language_info": {
   "codemirror_mode": {
    "name": "ipython",
    "version": 2
   },
   "file_extension": ".py",
   "mimetype": "text/x-python",
   "name": "python",
   "nbconvert_exporter": "python",
   "pygments_lexer": "ipython2",
   "version": "2.7.6"
  }
 },
 "nbformat": 4,
 "nbformat_minor": 0
}